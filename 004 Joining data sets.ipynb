{
 "metadata": {
  "language_info": {
   "codemirror_mode": {
    "name": "ipython",
    "version": 3
   },
   "file_extension": ".py",
   "mimetype": "text/x-python",
   "name": "python",
   "nbconvert_exporter": "python",
   "pygments_lexer": "ipython3",
   "version": "3.8.5-final"
  },
  "orig_nbformat": 2,
  "kernelspec": {
   "name": "python3",
   "display_name": "Python 3.8.5 64-bit",
   "metadata": {
    "interpreter": {
     "hash": "de5f22618689967f01319fb4cd070269718539d4a91f849d771b5bf4ab8f102b"
    }
   }
  }
 },
 "nbformat": 4,
 "nbformat_minor": 2,
 "cells": [
  {
   "cell_type": "code",
   "execution_count": 1,
   "metadata": {},
   "outputs": [],
   "source": [
    "import pandas as pd\n",
    "from tqdm import tqdm"
   ]
  },
  {
   "cell_type": "code",
   "execution_count": 2,
   "metadata": {},
   "outputs": [],
   "source": [
    "og_transfer_data = pd.read_csv('ewenme transfer data/data.csv').drop('Unnamed: 0', axis = 1)\n",
    "transfer_data = pd.read_csv('ewenme transfer data/data.csv').drop('Unnamed: 0', axis = 1)\n",
    "transfer_data = transfer_data[transfer_data.year >= 2014]\n",
    "transfer_data = transfer_data[transfer_data.transfer_period == 'Summer']\n",
    "transfer_data = transfer_data[transfer_data.transfer_movement == 'out']\n",
    "transfer_data = transfer_data[transfer_data.fee.str.contains('oan') == 0]\n",
    "transfer_data = transfer_data[transfer_data.club_involved_name != 'Retired']\n",
    "transfer_data = transfer_data[transfer_data.player_name.str.len() > 3]"
   ]
  },
  {
   "cell_type": "code",
   "execution_count": 3,
   "metadata": {},
   "outputs": [],
   "source": [
    "transfer_data.club_name = transfer_data.club_name.str.replace('SAD','')\n",
    "transfer_data.club_name = transfer_data.club_name.str.replace(' de ',' ')\n",
    "transfer_data.club_name = transfer_data.club_name.str.replace(' e ',' ')"
   ]
  },
  {
   "cell_type": "code",
   "execution_count": 4,
   "metadata": {},
   "outputs": [
    {
     "output_type": "execute_result",
     "data": {
      "text/plain": [
       "             club_name      player_name   age            position  \\\n",
       "117354  Ajax Amsterdam      Daley Blind  24.0         Centre-Back   \n",
       "117355  Ajax Amsterdam     Siem de Jong  25.0  Attacking Midfield   \n",
       "117356  Ajax Amsterdam  Kenneth Vermeer  28.0          Goalkeeper   \n",
       "117357  Ajax Amsterdam     Danny Hoesen  23.0      Centre-Forward   \n",
       "117358  Ajax Amsterdam      Jody Lukoki  21.0        Right Winger   \n",
       "...                ...              ...   ...                 ...   \n",
       "167281        Elche CF            Tekio  30.0          Right-Back   \n",
       "167282        Elche CF         Jonathas  31.0      Centre-Forward   \n",
       "167283        Elche CF     Iván Sánchez  27.0        Right Winger   \n",
       "167284        Elche CF      Jony Ñiguez  35.0    Central Midfield   \n",
       "167285        Elche CF   Manuel Sánchez  32.0  Defensive Midfield   \n",
       "\n",
       "       club_involved_name            fee transfer_movement transfer_period  \\\n",
       "117354            Man Utd        £15.75m               out          Summer   \n",
       "117355          Newcastle         £7.83m               out          Summer   \n",
       "117356          Feyenoord        £900Th.               out          Summer   \n",
       "117357       FC Groningen        £720Th.               out          Summer   \n",
       "117358         PEC Zwolle        £450Th.               out          Summer   \n",
       "...                   ...            ...               ...             ...   \n",
       "167281          Volos NPS  Free transfer               out          Summer   \n",
       "167282         Sharjah FC  Free transfer               out          Summer   \n",
       "167283         Birmingham  Free transfer               out          Summer   \n",
       "167284        CD Alcoyano  Free transfer               out          Summer   \n",
       "167285         Real Ávila  Free transfer               out          Summer   \n",
       "\n",
       "        fee_cleaned       league_name  year     season  \n",
       "117354        15.75        Eredivisie  2014  2014/2015  \n",
       "117355         7.83        Eredivisie  2014  2014/2015  \n",
       "117356         0.90        Eredivisie  2014  2014/2015  \n",
       "117357         0.72        Eredivisie  2014  2014/2015  \n",
       "117358         0.45        Eredivisie  2014  2014/2015  \n",
       "...             ...               ...   ...        ...  \n",
       "167281         0.00  Primera Division  2020  2020/2021  \n",
       "167282         0.00  Primera Division  2020  2020/2021  \n",
       "167283         0.00  Primera Division  2020  2020/2021  \n",
       "167284         0.00  Primera Division  2020  2020/2021  \n",
       "167285         0.00  Primera Division  2020  2020/2021  \n",
       "\n",
       "[10608 rows x 12 columns]"
      ],
      "text/html": "<div>\n<style scoped>\n    .dataframe tbody tr th:only-of-type {\n        vertical-align: middle;\n    }\n\n    .dataframe tbody tr th {\n        vertical-align: top;\n    }\n\n    .dataframe thead th {\n        text-align: right;\n    }\n</style>\n<table border=\"1\" class=\"dataframe\">\n  <thead>\n    <tr style=\"text-align: right;\">\n      <th></th>\n      <th>club_name</th>\n      <th>player_name</th>\n      <th>age</th>\n      <th>position</th>\n      <th>club_involved_name</th>\n      <th>fee</th>\n      <th>transfer_movement</th>\n      <th>transfer_period</th>\n      <th>fee_cleaned</th>\n      <th>league_name</th>\n      <th>year</th>\n      <th>season</th>\n    </tr>\n  </thead>\n  <tbody>\n    <tr>\n      <th>117354</th>\n      <td>Ajax Amsterdam</td>\n      <td>Daley Blind</td>\n      <td>24.0</td>\n      <td>Centre-Back</td>\n      <td>Man Utd</td>\n      <td>£15.75m</td>\n      <td>out</td>\n      <td>Summer</td>\n      <td>15.75</td>\n      <td>Eredivisie</td>\n      <td>2014</td>\n      <td>2014/2015</td>\n    </tr>\n    <tr>\n      <th>117355</th>\n      <td>Ajax Amsterdam</td>\n      <td>Siem de Jong</td>\n      <td>25.0</td>\n      <td>Attacking Midfield</td>\n      <td>Newcastle</td>\n      <td>£7.83m</td>\n      <td>out</td>\n      <td>Summer</td>\n      <td>7.83</td>\n      <td>Eredivisie</td>\n      <td>2014</td>\n      <td>2014/2015</td>\n    </tr>\n    <tr>\n      <th>117356</th>\n      <td>Ajax Amsterdam</td>\n      <td>Kenneth Vermeer</td>\n      <td>28.0</td>\n      <td>Goalkeeper</td>\n      <td>Feyenoord</td>\n      <td>£900Th.</td>\n      <td>out</td>\n      <td>Summer</td>\n      <td>0.90</td>\n      <td>Eredivisie</td>\n      <td>2014</td>\n      <td>2014/2015</td>\n    </tr>\n    <tr>\n      <th>117357</th>\n      <td>Ajax Amsterdam</td>\n      <td>Danny Hoesen</td>\n      <td>23.0</td>\n      <td>Centre-Forward</td>\n      <td>FC Groningen</td>\n      <td>£720Th.</td>\n      <td>out</td>\n      <td>Summer</td>\n      <td>0.72</td>\n      <td>Eredivisie</td>\n      <td>2014</td>\n      <td>2014/2015</td>\n    </tr>\n    <tr>\n      <th>117358</th>\n      <td>Ajax Amsterdam</td>\n      <td>Jody Lukoki</td>\n      <td>21.0</td>\n      <td>Right Winger</td>\n      <td>PEC Zwolle</td>\n      <td>£450Th.</td>\n      <td>out</td>\n      <td>Summer</td>\n      <td>0.45</td>\n      <td>Eredivisie</td>\n      <td>2014</td>\n      <td>2014/2015</td>\n    </tr>\n    <tr>\n      <th>...</th>\n      <td>...</td>\n      <td>...</td>\n      <td>...</td>\n      <td>...</td>\n      <td>...</td>\n      <td>...</td>\n      <td>...</td>\n      <td>...</td>\n      <td>...</td>\n      <td>...</td>\n      <td>...</td>\n      <td>...</td>\n    </tr>\n    <tr>\n      <th>167281</th>\n      <td>Elche CF</td>\n      <td>Tekio</td>\n      <td>30.0</td>\n      <td>Right-Back</td>\n      <td>Volos NPS</td>\n      <td>Free transfer</td>\n      <td>out</td>\n      <td>Summer</td>\n      <td>0.00</td>\n      <td>Primera Division</td>\n      <td>2020</td>\n      <td>2020/2021</td>\n    </tr>\n    <tr>\n      <th>167282</th>\n      <td>Elche CF</td>\n      <td>Jonathas</td>\n      <td>31.0</td>\n      <td>Centre-Forward</td>\n      <td>Sharjah FC</td>\n      <td>Free transfer</td>\n      <td>out</td>\n      <td>Summer</td>\n      <td>0.00</td>\n      <td>Primera Division</td>\n      <td>2020</td>\n      <td>2020/2021</td>\n    </tr>\n    <tr>\n      <th>167283</th>\n      <td>Elche CF</td>\n      <td>Iván Sánchez</td>\n      <td>27.0</td>\n      <td>Right Winger</td>\n      <td>Birmingham</td>\n      <td>Free transfer</td>\n      <td>out</td>\n      <td>Summer</td>\n      <td>0.00</td>\n      <td>Primera Division</td>\n      <td>2020</td>\n      <td>2020/2021</td>\n    </tr>\n    <tr>\n      <th>167284</th>\n      <td>Elche CF</td>\n      <td>Jony Ñiguez</td>\n      <td>35.0</td>\n      <td>Central Midfield</td>\n      <td>CD Alcoyano</td>\n      <td>Free transfer</td>\n      <td>out</td>\n      <td>Summer</td>\n      <td>0.00</td>\n      <td>Primera Division</td>\n      <td>2020</td>\n      <td>2020/2021</td>\n    </tr>\n    <tr>\n      <th>167285</th>\n      <td>Elche CF</td>\n      <td>Manuel Sánchez</td>\n      <td>32.0</td>\n      <td>Defensive Midfield</td>\n      <td>Real Ávila</td>\n      <td>Free transfer</td>\n      <td>out</td>\n      <td>Summer</td>\n      <td>0.00</td>\n      <td>Primera Division</td>\n      <td>2020</td>\n      <td>2020/2021</td>\n    </tr>\n  </tbody>\n</table>\n<p>10608 rows × 12 columns</p>\n</div>"
     },
     "metadata": {},
     "execution_count": 4
    }
   ],
   "source": [
    "transfer_data"
   ]
  },
  {
   "cell_type": "code",
   "execution_count": 5,
   "metadata": {},
   "outputs": [],
   "source": [
    "fm_data = pd.read_csv('fm data/data.csv').drop(['Unnamed: 0', 'Unnamed: 28'], axis = 1)\n",
    "fm_data = fm_data[fm_data['year'].apply(lambda x: str(x).isdigit())]\n",
    "fm_data = fm_data[~(fm_data.expires == '-')]\n",
    "fm_data.year = fm_data.year.astype(int)\n",
    "fm_data = fm_data[fm_data.name.str.len() > 3]"
   ]
  },
  {
   "cell_type": "code",
   "execution_count": 6,
   "metadata": {},
   "outputs": [],
   "source": [
    "fm_data.club = fm_data.club.str.replace('SAD','')\n",
    "fm_data.club = fm_data.club.str.replace(' de ',' ')\n",
    "fm_data.club = fm_data.club.str.replace(' e ',' ')\n",
    "fm_data.club = fm_data.club.str.replace('Hispalis','Betis')"
   ]
  },
  {
   "cell_type": "code",
   "execution_count": 7,
   "metadata": {},
   "outputs": [
    {
     "output_type": "execute_result",
     "data": {
      "text/plain": [
       "                     name    country                          club age  \\\n",
       "0           Aníbal Capela   Portugal  Associação Académica Coimbra  22   \n",
       "1                 Cleyton        NaN  Associação Académica Coimbra  23   \n",
       "2           Diogo Valente   Portugal  Associação Académica Coimbra  28   \n",
       "3                  Djavan        NaN  Associação Académica Coimbra  25   \n",
       "4          Elton Monteiro        NaN  Associação Académica Coimbra  19   \n",
       "...                   ...        ...                           ...  ..   \n",
       "84639      Wílmar Barrios   Colombia                         Zenit  25   \n",
       "84640  Yaroslav Rakitskyi    Ukraine                         Zenit  29   \n",
       "84641       Yordan Osorio  Venezuela                         Zenit  25   \n",
       "84642        Yury Zhirkov     Russia                         Zenit  35   \n",
       "84643    Alexandr Kokorin     Russia                         Sochi  28   \n",
       "\n",
       "        position  wage  value   cost     expires  rating  ... avgage balance  \\\n",
       "0            D C  £840   £90k  £139k  29-06-2017   58.41  ...    NaN   £592k   \n",
       "1           AM C  £840  £113k   £58k  04-07-2016   64.26  ...    NaN   £592k   \n",
       "2           AM L   £2k  £545k  £678k  29-06-2015   63.45  ...    NaN   £592k   \n",
       "3       D/WB/M L  £610   £26k   £12k  25-01-2016   60.49  ...    NaN   £592k   \n",
       "4            D C   £2k  £145k  £285k  29-06-2016   54.87  ...    NaN   £592k   \n",
       "...          ...   ...    ...    ...         ...     ...  ...    ...     ...   \n",
       "84639         DM  £36k    £9m   £20m  30-06-2023   82.50  ...    NaN    £87m   \n",
       "84640        D C  £41k    £6m   £11m  30-06-2021   77.00  ...    NaN    £87m   \n",
       "84641        D C   £6k    £3m    £2m  30-06-2020   75.50  ...    NaN    £87m   \n",
       "84642  D/WB/AM L  £32k  £258k   £75k  30-06-2020   78.00  ...    NaN    £87m   \n",
       "84643  AM RL/ ST  £22k    £2m    £3m  31-05-2020   77.20  ...    NaN    £87m   \n",
       "\n",
       "       wagebudget trainingfacilities youthfacilities youthacademy  stadiumcap  \\\n",
       "0             £6k               16.0            15.0         15.0     14500.0   \n",
       "1             £6k               16.0            15.0         15.0     14500.0   \n",
       "2             £6k               16.0            15.0         15.0     14500.0   \n",
       "3             £6k               16.0            15.0         15.0     14500.0   \n",
       "4             £6k               16.0            15.0         15.0     14500.0   \n",
       "...           ...                ...             ...          ...         ...   \n",
       "84639       £910k               11.0             9.0         17.0     60000.0   \n",
       "84640       £910k               11.0             9.0         17.0     60000.0   \n",
       "84641       £910k               11.0             9.0         17.0     60000.0   \n",
       "84642       £910k               11.0             9.0         17.0     60000.0   \n",
       "84643       £910k               11.0             9.0         17.0     60000.0   \n",
       "\n",
       "      avgattendance ability potential.1  \n",
       "0            4494.0    62.9       64.79  \n",
       "1            4494.0    62.9       64.79  \n",
       "2            4494.0    62.9       64.79  \n",
       "3            4494.0    62.9       64.79  \n",
       "4            4494.0    62.9       64.79  \n",
       "...             ...     ...         ...  \n",
       "84639       48120.0    77.8       80.00  \n",
       "84640       48120.0    77.8       80.00  \n",
       "84641       48120.0    77.8       80.00  \n",
       "84642       48120.0    77.8       80.00  \n",
       "84643       48120.0    77.8       80.00  \n",
       "\n",
       "[81826 rows x 27 columns]"
      ],
      "text/html": "<div>\n<style scoped>\n    .dataframe tbody tr th:only-of-type {\n        vertical-align: middle;\n    }\n\n    .dataframe tbody tr th {\n        vertical-align: top;\n    }\n\n    .dataframe thead th {\n        text-align: right;\n    }\n</style>\n<table border=\"1\" class=\"dataframe\">\n  <thead>\n    <tr style=\"text-align: right;\">\n      <th></th>\n      <th>name</th>\n      <th>country</th>\n      <th>club</th>\n      <th>age</th>\n      <th>position</th>\n      <th>wage</th>\n      <th>value</th>\n      <th>cost</th>\n      <th>expires</th>\n      <th>rating</th>\n      <th>...</th>\n      <th>avgage</th>\n      <th>balance</th>\n      <th>wagebudget</th>\n      <th>trainingfacilities</th>\n      <th>youthfacilities</th>\n      <th>youthacademy</th>\n      <th>stadiumcap</th>\n      <th>avgattendance</th>\n      <th>ability</th>\n      <th>potential.1</th>\n    </tr>\n  </thead>\n  <tbody>\n    <tr>\n      <th>0</th>\n      <td>Aníbal Capela</td>\n      <td>Portugal</td>\n      <td>Associação Académica Coimbra</td>\n      <td>22</td>\n      <td>D C</td>\n      <td>£840</td>\n      <td>£90k</td>\n      <td>£139k</td>\n      <td>29-06-2017</td>\n      <td>58.41</td>\n      <td>...</td>\n      <td>NaN</td>\n      <td>£592k</td>\n      <td>£6k</td>\n      <td>16.0</td>\n      <td>15.0</td>\n      <td>15.0</td>\n      <td>14500.0</td>\n      <td>4494.0</td>\n      <td>62.9</td>\n      <td>64.79</td>\n    </tr>\n    <tr>\n      <th>1</th>\n      <td>Cleyton</td>\n      <td>NaN</td>\n      <td>Associação Académica Coimbra</td>\n      <td>23</td>\n      <td>AM C</td>\n      <td>£840</td>\n      <td>£113k</td>\n      <td>£58k</td>\n      <td>04-07-2016</td>\n      <td>64.26</td>\n      <td>...</td>\n      <td>NaN</td>\n      <td>£592k</td>\n      <td>£6k</td>\n      <td>16.0</td>\n      <td>15.0</td>\n      <td>15.0</td>\n      <td>14500.0</td>\n      <td>4494.0</td>\n      <td>62.9</td>\n      <td>64.79</td>\n    </tr>\n    <tr>\n      <th>2</th>\n      <td>Diogo Valente</td>\n      <td>Portugal</td>\n      <td>Associação Académica Coimbra</td>\n      <td>28</td>\n      <td>AM L</td>\n      <td>£2k</td>\n      <td>£545k</td>\n      <td>£678k</td>\n      <td>29-06-2015</td>\n      <td>63.45</td>\n      <td>...</td>\n      <td>NaN</td>\n      <td>£592k</td>\n      <td>£6k</td>\n      <td>16.0</td>\n      <td>15.0</td>\n      <td>15.0</td>\n      <td>14500.0</td>\n      <td>4494.0</td>\n      <td>62.9</td>\n      <td>64.79</td>\n    </tr>\n    <tr>\n      <th>3</th>\n      <td>Djavan</td>\n      <td>NaN</td>\n      <td>Associação Académica Coimbra</td>\n      <td>25</td>\n      <td>D/WB/M L</td>\n      <td>£610</td>\n      <td>£26k</td>\n      <td>£12k</td>\n      <td>25-01-2016</td>\n      <td>60.49</td>\n      <td>...</td>\n      <td>NaN</td>\n      <td>£592k</td>\n      <td>£6k</td>\n      <td>16.0</td>\n      <td>15.0</td>\n      <td>15.0</td>\n      <td>14500.0</td>\n      <td>4494.0</td>\n      <td>62.9</td>\n      <td>64.79</td>\n    </tr>\n    <tr>\n      <th>4</th>\n      <td>Elton Monteiro</td>\n      <td>NaN</td>\n      <td>Associação Académica Coimbra</td>\n      <td>19</td>\n      <td>D C</td>\n      <td>£2k</td>\n      <td>£145k</td>\n      <td>£285k</td>\n      <td>29-06-2016</td>\n      <td>54.87</td>\n      <td>...</td>\n      <td>NaN</td>\n      <td>£592k</td>\n      <td>£6k</td>\n      <td>16.0</td>\n      <td>15.0</td>\n      <td>15.0</td>\n      <td>14500.0</td>\n      <td>4494.0</td>\n      <td>62.9</td>\n      <td>64.79</td>\n    </tr>\n    <tr>\n      <th>...</th>\n      <td>...</td>\n      <td>...</td>\n      <td>...</td>\n      <td>...</td>\n      <td>...</td>\n      <td>...</td>\n      <td>...</td>\n      <td>...</td>\n      <td>...</td>\n      <td>...</td>\n      <td>...</td>\n      <td>...</td>\n      <td>...</td>\n      <td>...</td>\n      <td>...</td>\n      <td>...</td>\n      <td>...</td>\n      <td>...</td>\n      <td>...</td>\n      <td>...</td>\n      <td>...</td>\n    </tr>\n    <tr>\n      <th>84639</th>\n      <td>Wílmar Barrios</td>\n      <td>Colombia</td>\n      <td>Zenit</td>\n      <td>25</td>\n      <td>DM</td>\n      <td>£36k</td>\n      <td>£9m</td>\n      <td>£20m</td>\n      <td>30-06-2023</td>\n      <td>82.50</td>\n      <td>...</td>\n      <td>NaN</td>\n      <td>£87m</td>\n      <td>£910k</td>\n      <td>11.0</td>\n      <td>9.0</td>\n      <td>17.0</td>\n      <td>60000.0</td>\n      <td>48120.0</td>\n      <td>77.8</td>\n      <td>80.00</td>\n    </tr>\n    <tr>\n      <th>84640</th>\n      <td>Yaroslav Rakitskyi</td>\n      <td>Ukraine</td>\n      <td>Zenit</td>\n      <td>29</td>\n      <td>D C</td>\n      <td>£41k</td>\n      <td>£6m</td>\n      <td>£11m</td>\n      <td>30-06-2021</td>\n      <td>77.00</td>\n      <td>...</td>\n      <td>NaN</td>\n      <td>£87m</td>\n      <td>£910k</td>\n      <td>11.0</td>\n      <td>9.0</td>\n      <td>17.0</td>\n      <td>60000.0</td>\n      <td>48120.0</td>\n      <td>77.8</td>\n      <td>80.00</td>\n    </tr>\n    <tr>\n      <th>84641</th>\n      <td>Yordan Osorio</td>\n      <td>Venezuela</td>\n      <td>Zenit</td>\n      <td>25</td>\n      <td>D C</td>\n      <td>£6k</td>\n      <td>£3m</td>\n      <td>£2m</td>\n      <td>30-06-2020</td>\n      <td>75.50</td>\n      <td>...</td>\n      <td>NaN</td>\n      <td>£87m</td>\n      <td>£910k</td>\n      <td>11.0</td>\n      <td>9.0</td>\n      <td>17.0</td>\n      <td>60000.0</td>\n      <td>48120.0</td>\n      <td>77.8</td>\n      <td>80.00</td>\n    </tr>\n    <tr>\n      <th>84642</th>\n      <td>Yury Zhirkov</td>\n      <td>Russia</td>\n      <td>Zenit</td>\n      <td>35</td>\n      <td>D/WB/AM L</td>\n      <td>£32k</td>\n      <td>£258k</td>\n      <td>£75k</td>\n      <td>30-06-2020</td>\n      <td>78.00</td>\n      <td>...</td>\n      <td>NaN</td>\n      <td>£87m</td>\n      <td>£910k</td>\n      <td>11.0</td>\n      <td>9.0</td>\n      <td>17.0</td>\n      <td>60000.0</td>\n      <td>48120.0</td>\n      <td>77.8</td>\n      <td>80.00</td>\n    </tr>\n    <tr>\n      <th>84643</th>\n      <td>Alexandr Kokorin</td>\n      <td>Russia</td>\n      <td>Sochi</td>\n      <td>28</td>\n      <td>AM RL/ ST</td>\n      <td>£22k</td>\n      <td>£2m</td>\n      <td>£3m</td>\n      <td>31-05-2020</td>\n      <td>77.20</td>\n      <td>...</td>\n      <td>NaN</td>\n      <td>£87m</td>\n      <td>£910k</td>\n      <td>11.0</td>\n      <td>9.0</td>\n      <td>17.0</td>\n      <td>60000.0</td>\n      <td>48120.0</td>\n      <td>77.8</td>\n      <td>80.00</td>\n    </tr>\n  </tbody>\n</table>\n<p>81826 rows × 27 columns</p>\n</div>"
     },
     "metadata": {},
     "execution_count": 7
    }
   ],
   "source": [
    "fm_data"
   ]
  },
  {
   "cell_type": "code",
   "execution_count": 8,
   "metadata": {
    "tags": []
   },
   "outputs": [
    {
     "output_type": "stream",
     "name": "stderr",
     "text": [
      "100%|██████████| 252/252 [00:04<00:00, 55.39it/s]\n"
     ]
    }
   ],
   "source": [
    "import unidecode\n",
    "\n",
    "clubs_transfer = transfer_data.club_name.unique().tolist() # Base names\n",
    "clubs_fm = set(fm_data.club.unique().tolist() + fm_data['club.1'].unique().tolist() + transfer_data.club_involved_name.unique().tolist())\n",
    "\n",
    "big_list = []\n",
    "\n",
    "for club_transfer in tqdm(clubs_transfer):\n",
    "    club_transfer = unidecode.unidecode(club_transfer)\n",
    "    small_list = []\n",
    "    for club_fm in clubs_fm:\n",
    "        club_fm = unidecode.unidecode(club_fm)\n",
    "        score = 0\n",
    "\n",
    "        # Check for words equal\n",
    "        for word in club_transfer.split(' '):\n",
    "            if word in club_fm.split(' ') and len(word) > 2:\n",
    "                score += 10\n",
    "        # Check for equal capitalized letters (tiebreaker)\n",
    "        for capitalized_letter in [l for l in club_transfer if l.isupper()]:\n",
    "            if capitalized_letter in club_fm:\n",
    "                score += 4\n",
    "\n",
    "        small_list.append(score)\n",
    "    big_list.append(small_list)"
   ]
  },
  {
   "cell_type": "code",
   "execution_count": 9,
   "metadata": {},
   "outputs": [
    {
     "output_type": "execute_result",
     "data": {
      "text/plain": [
       "                Unnamed: 0                      0\n",
       "0         FC CFR 1907 Cluj              Fulham FC\n",
       "1       C. Lleida Esportiu  SC Cambuur-Leeuwarden\n",
       "2     Campomorone S.Olcese  SC Cambuur-Leeuwarden\n",
       "3          S.D. Amorebieta           ADO Den Haag\n",
       "4                Clitheroe  SC Cambuur-Leeuwarden\n",
       "...                    ...                    ...\n",
       "3671           AS Avellino       AS Saint-Étienne\n",
       "3672         Oxford United           Leeds United\n",
       "3673      U.C. AlbinoLeffe  SC Cambuur-Leeuwarden\n",
       "3674          Valenciennes              VVV-Venlo\n",
       "3675        Erzgebirge Aue         Ajax Amsterdam\n",
       "\n",
       "[3676 rows x 2 columns]"
      ],
      "text/html": "<div>\n<style scoped>\n    .dataframe tbody tr th:only-of-type {\n        vertical-align: middle;\n    }\n\n    .dataframe tbody tr th {\n        vertical-align: top;\n    }\n\n    .dataframe thead th {\n        text-align: right;\n    }\n</style>\n<table border=\"1\" class=\"dataframe\">\n  <thead>\n    <tr style=\"text-align: right;\">\n      <th></th>\n      <th>Unnamed: 0</th>\n      <th>0</th>\n    </tr>\n  </thead>\n  <tbody>\n    <tr>\n      <th>0</th>\n      <td>FC CFR 1907 Cluj</td>\n      <td>Fulham FC</td>\n    </tr>\n    <tr>\n      <th>1</th>\n      <td>C. Lleida Esportiu</td>\n      <td>SC Cambuur-Leeuwarden</td>\n    </tr>\n    <tr>\n      <th>2</th>\n      <td>Campomorone S.Olcese</td>\n      <td>SC Cambuur-Leeuwarden</td>\n    </tr>\n    <tr>\n      <th>3</th>\n      <td>S.D. Amorebieta</td>\n      <td>ADO Den Haag</td>\n    </tr>\n    <tr>\n      <th>4</th>\n      <td>Clitheroe</td>\n      <td>SC Cambuur-Leeuwarden</td>\n    </tr>\n    <tr>\n      <th>...</th>\n      <td>...</td>\n      <td>...</td>\n    </tr>\n    <tr>\n      <th>3671</th>\n      <td>AS Avellino</td>\n      <td>AS Saint-Étienne</td>\n    </tr>\n    <tr>\n      <th>3672</th>\n      <td>Oxford United</td>\n      <td>Leeds United</td>\n    </tr>\n    <tr>\n      <th>3673</th>\n      <td>U.C. AlbinoLeffe</td>\n      <td>SC Cambuur-Leeuwarden</td>\n    </tr>\n    <tr>\n      <th>3674</th>\n      <td>Valenciennes</td>\n      <td>VVV-Venlo</td>\n    </tr>\n    <tr>\n      <th>3675</th>\n      <td>Erzgebirge Aue</td>\n      <td>Ajax Amsterdam</td>\n    </tr>\n  </tbody>\n</table>\n<p>3676 rows × 2 columns</p>\n</div>"
     },
     "metadata": {},
     "execution_count": 9
    }
   ],
   "source": [
    "team_matcher = pd.DataFrame(big_list, index=clubs_transfer, columns=clubs_fm)\n",
    "team_matcher.idxmax().to_csv('misc/team_indices_match.csv')\n",
    "team_matcher = pd.read_csv('misc/team_indices_match.csv')\n",
    "team_matcher"
   ]
  },
  {
   "cell_type": "code",
   "execution_count": 10,
   "metadata": {
    "tags": []
   },
   "outputs": [
    {
     "output_type": "stream",
     "name": "stderr",
     "text": [
      "100%|██████████| 34267/34267 [1:05:11<00:00,  8.76it/s]\n"
     ]
    }
   ],
   "source": [
    "players_transfer = og_transfer_data.player_name.unique()\n",
    "players_fm = fm_data.name.unique()\n",
    "\n",
    "big_list = []\n",
    "\n",
    "for player_transfer in tqdm(players_transfer):\n",
    "    player_transfer = unidecode.unidecode(player_transfer)\n",
    "    small_list = []\n",
    "    for player_fm in players_fm:\n",
    "        player_fm = unidecode.unidecode(player_fm)\n",
    "        score = 0\n",
    "\n",
    "        # Check for words equal\n",
    "        for word in player_transfer.split(' '):\n",
    "            if word in player_fm.split(' ') and len(word) > 2:\n",
    "                score += 10\n",
    "        # Check for equal capitalized letters (tiebreaker)\n",
    "        for capitalized_letter in [l for l in player_transfer if l.isupper()]:\n",
    "            if capitalized_letter in player_fm:\n",
    "                score += 4\n",
    "\n",
    "        # Tie breakers\n",
    "        if len(player_transfer) == len(player_fm):\n",
    "            score += 2\n",
    "        if player_transfer[0] == player_fm[0]:\n",
    "            score += 1\n",
    "        if player_transfer[-1] == player_fm[-1]:\n",
    "            score += 1\n",
    "\n",
    "        small_list.append(score)\n",
    "    big_list.append(small_list)"
   ]
  },
  {
   "cell_type": "code",
   "execution_count": 11,
   "metadata": {},
   "outputs": [],
   "source": [
    "# Matching wrong when one of the names is not in the database\n",
    "## EG. winter transfer or no relevant transfer after 2014"
   ]
  },
  {
   "cell_type": "code",
   "execution_count": 12,
   "metadata": {},
   "outputs": [
    {
     "output_type": "execute_result",
     "data": {
      "text/plain": [
       "              Unnamed: 0                  0\n",
       "0          Aníbal Capela      Aníbal Capela\n",
       "1                Cleyton            Cleyton\n",
       "2          Diogo Valente      Diogo Valente\n",
       "3                 Djavan             Djavan\n",
       "4         Elton Monteiro     Elton Monteiro\n",
       "...                  ...                ...\n",
       "31577  Michal Kucharczyk  Michal Kucharczyk\n",
       "31578    Nikolay Zolotov    Nikolay Zajtsev\n",
       "31579  Rafal Augustyniak  Rafal Augustyniak\n",
       "31580    Alexey Sutormin   Aleksey Sutormin\n",
       "31581   Kirill Schetinin    Kirill Kurbatov\n",
       "\n",
       "[31582 rows x 2 columns]"
      ],
      "text/html": "<div>\n<style scoped>\n    .dataframe tbody tr th:only-of-type {\n        vertical-align: middle;\n    }\n\n    .dataframe tbody tr th {\n        vertical-align: top;\n    }\n\n    .dataframe thead th {\n        text-align: right;\n    }\n</style>\n<table border=\"1\" class=\"dataframe\">\n  <thead>\n    <tr style=\"text-align: right;\">\n      <th></th>\n      <th>Unnamed: 0</th>\n      <th>0</th>\n    </tr>\n  </thead>\n  <tbody>\n    <tr>\n      <th>0</th>\n      <td>Aníbal Capela</td>\n      <td>Aníbal Capela</td>\n    </tr>\n    <tr>\n      <th>1</th>\n      <td>Cleyton</td>\n      <td>Cleyton</td>\n    </tr>\n    <tr>\n      <th>2</th>\n      <td>Diogo Valente</td>\n      <td>Diogo Valente</td>\n    </tr>\n    <tr>\n      <th>3</th>\n      <td>Djavan</td>\n      <td>Djavan</td>\n    </tr>\n    <tr>\n      <th>4</th>\n      <td>Elton Monteiro</td>\n      <td>Elton Monteiro</td>\n    </tr>\n    <tr>\n      <th>...</th>\n      <td>...</td>\n      <td>...</td>\n    </tr>\n    <tr>\n      <th>31577</th>\n      <td>Michal Kucharczyk</td>\n      <td>Michal Kucharczyk</td>\n    </tr>\n    <tr>\n      <th>31578</th>\n      <td>Nikolay Zolotov</td>\n      <td>Nikolay Zajtsev</td>\n    </tr>\n    <tr>\n      <th>31579</th>\n      <td>Rafal Augustyniak</td>\n      <td>Rafal Augustyniak</td>\n    </tr>\n    <tr>\n      <th>31580</th>\n      <td>Alexey Sutormin</td>\n      <td>Aleksey Sutormin</td>\n    </tr>\n    <tr>\n      <th>31581</th>\n      <td>Kirill Schetinin</td>\n      <td>Kirill Kurbatov</td>\n    </tr>\n  </tbody>\n</table>\n<p>31582 rows × 2 columns</p>\n</div>"
     },
     "metadata": {},
     "execution_count": 12
    }
   ],
   "source": [
    "player_matcher = pd.DataFrame(big_list, index=players_transfer, columns=players_fm)\n",
    "player_matcher.idxmax().to_csv('misc/player_indices_match.csv')\n",
    "player_matcher = pd.read_csv('misc/player_indices_match.csv')\n",
    "player_matcher"
   ]
  },
  {
   "cell_type": "code",
   "execution_count": 13,
   "metadata": {
    "tags": []
   },
   "outputs": [
    {
     "output_type": "stream",
     "name": "stderr",
     "text": [
      "100%|██████████| 3676/3676 [01:02<00:00, 58.57it/s]\n",
      "100%|██████████| 31582/31582 [04:48<00:00, 109.60it/s]\n"
     ]
    }
   ],
   "source": [
    "for _, row in tqdm(team_matcher.iterrows(), total = len(team_matcher)):\n",
    "    fm_data.loc[fm_data['club'] == row['Unnamed: 0'], 'club'] = row['0']\n",
    "    fm_data.loc[fm_data['club.1'] == row['Unnamed: 0'], 'club.1'] = row['0']\n",
    "    transfer_data.loc[transfer_data['club_involved_name'] == row['Unnamed: 0'], 'club_involved_name'] = row['0']\n",
    "for _, row in tqdm(player_matcher.iterrows(), total = len(player_matcher)):\n",
    "    fm_data.loc[fm_data['name'] == row['Unnamed: 0'], 'name'] = row['0']"
   ]
  },
  {
   "cell_type": "code",
   "execution_count": 14,
   "metadata": {},
   "outputs": [],
   "source": [
    "transfer_data['merger_id'] = transfer_data.club_name + transfer_data.year.astype(str)\n",
    "fm_data['merger_id'] = fm_data.club + fm_data.year.astype(str)"
   ]
  },
  {
   "cell_type": "code",
   "execution_count": 15,
   "metadata": {},
   "outputs": [
    {
     "output_type": "execute_result",
     "data": {
      "text/plain": [
       "                 club_name        player_name  age_x          position_x  \\\n",
       "3276          FC Barcelona             Neymar   25.0         Left Winger   \n",
       "2974     Borussia Dortmund    Ousmane Dembélé   20.0        Right Winger   \n",
       "4570            SL Benfica         João Félix   19.0      Second Striker   \n",
       "4709       Atlético Madrid  Antoine Griezmann   28.0      Second Striker   \n",
       "4024           Real Madrid  Cristiano Ronaldo   33.0         Left Winger   \n",
       "...                    ...                ...    ...                 ...   \n",
       "5189            Rio Ave FC               Vitó   22.0  Attacking Midfield   \n",
       "5200            CD Tondela    Philipe Sampaio   25.0         Centre-Back   \n",
       "5208  Vitória Guimarães SC      Florent Hanin   30.0           Left-Back   \n",
       "5209  Vitória Guimarães SC         João Pedro   23.0      Centre-Forward   \n",
       "5254             Getafe CF        Fayçal Fajr   32.0    Central Midfield   \n",
       "\n",
       "       club_involved_name       fee transfer_movement transfer_period  \\\n",
       "3276  Paris Saint-Germain  £199.80m               out          Summer   \n",
       "2974         FC Barcelona  £124.20m               out          Summer   \n",
       "4570      Atlético Madrid  £113.40m               out          Summer   \n",
       "4709         FC Barcelona  £108.00m               out          Summer   \n",
       "4024          Juventus FC  £105.30m               out          Summer   \n",
       "...                   ...       ...               ...             ...   \n",
       "5189           PEC Zwolle         ?               out          Summer   \n",
       "5200          EA Guingamp         ?               out          Summer   \n",
       "5208    FC Paços Ferreira         ?               out          Summer   \n",
       "5209    FC Paços Ferreira         ?               out          Summer   \n",
       "5254     AS Saint-Étienne         ?               out          Summer   \n",
       "\n",
       "      fee_cleaned       league_name  ...  balance wagebudget  \\\n",
       "3276        199.8  Primera Division  ...     £58m      £116k   \n",
       "2974        124.2      1 Bundesliga  ...    £191m      £134k   \n",
       "4570        113.4          Liga Nos  ...     £11m       £50k   \n",
       "4709        108.0  Primera Division  ...       £0         £0   \n",
       "4024        105.3  Primera Division  ...    £123m         £0   \n",
       "...           ...               ...  ...      ...        ...   \n",
       "5189          NaN          Liga Nos  ...      £4m       £76k   \n",
       "5200          NaN          Liga Nos  ...      £2m       £43k   \n",
       "5208          NaN          Liga Nos  ...      £3m      £133k   \n",
       "5209          NaN          Liga Nos  ...      £3m      £133k   \n",
       "5254          NaN  Primera Division  ...      £5m      £453k   \n",
       "\n",
       "     trainingfacilities youthfacilities youthacademy stadiumcap avgattendance  \\\n",
       "3276               18.0            18.0         20.0    85000.0       77500.0   \n",
       "2974               18.0            13.0         18.0    85000.0       85000.0   \n",
       "4570               20.0            19.0         20.0    64235.0       52768.0   \n",
       "4709               17.0            14.0         15.0    55000.0       47000.0   \n",
       "4024               18.0            18.0         18.0    80000.0       73000.0   \n",
       "...                 ...             ...          ...        ...           ...   \n",
       "5189               12.0            14.0         12.0     9023.0        3954.0   \n",
       "5200               10.0            11.0          9.0     4973.0        2308.0   \n",
       "5208               16.0            16.0         14.0    27212.0       18756.0   \n",
       "5209               16.0            16.0         14.0    27212.0       18756.0   \n",
       "5254               12.0            10.0         10.0    16800.0       10500.0   \n",
       "\n",
       "     ability potential.1 after_loan  \n",
       "3276    83.1        85.0          0  \n",
       "2974    77.7        80.3          0  \n",
       "4570    77.8        81.6          0  \n",
       "4709    80.7        83.3          0  \n",
       "4024    82.8        85.6          0  \n",
       "...      ...         ...        ...  \n",
       "5189    74.1        77.8          0  \n",
       "5200    71.5        75.5          0  \n",
       "5208    74.6        78.8          0  \n",
       "5209    74.6        78.8          0  \n",
       "5254    78.0        80.6          0  \n",
       "\n",
       "[5269 rows x 41 columns]"
      ],
      "text/html": "<div>\n<style scoped>\n    .dataframe tbody tr th:only-of-type {\n        vertical-align: middle;\n    }\n\n    .dataframe tbody tr th {\n        vertical-align: top;\n    }\n\n    .dataframe thead th {\n        text-align: right;\n    }\n</style>\n<table border=\"1\" class=\"dataframe\">\n  <thead>\n    <tr style=\"text-align: right;\">\n      <th></th>\n      <th>club_name</th>\n      <th>player_name</th>\n      <th>age_x</th>\n      <th>position_x</th>\n      <th>club_involved_name</th>\n      <th>fee</th>\n      <th>transfer_movement</th>\n      <th>transfer_period</th>\n      <th>fee_cleaned</th>\n      <th>league_name</th>\n      <th>...</th>\n      <th>balance</th>\n      <th>wagebudget</th>\n      <th>trainingfacilities</th>\n      <th>youthfacilities</th>\n      <th>youthacademy</th>\n      <th>stadiumcap</th>\n      <th>avgattendance</th>\n      <th>ability</th>\n      <th>potential.1</th>\n      <th>after_loan</th>\n    </tr>\n  </thead>\n  <tbody>\n    <tr>\n      <th>3276</th>\n      <td>FC Barcelona</td>\n      <td>Neymar</td>\n      <td>25.0</td>\n      <td>Left Winger</td>\n      <td>Paris Saint-Germain</td>\n      <td>£199.80m</td>\n      <td>out</td>\n      <td>Summer</td>\n      <td>199.8</td>\n      <td>Primera Division</td>\n      <td>...</td>\n      <td>£58m</td>\n      <td>£116k</td>\n      <td>18.0</td>\n      <td>18.0</td>\n      <td>20.0</td>\n      <td>85000.0</td>\n      <td>77500.0</td>\n      <td>83.1</td>\n      <td>85.0</td>\n      <td>0</td>\n    </tr>\n    <tr>\n      <th>2974</th>\n      <td>Borussia Dortmund</td>\n      <td>Ousmane Dembélé</td>\n      <td>20.0</td>\n      <td>Right Winger</td>\n      <td>FC Barcelona</td>\n      <td>£124.20m</td>\n      <td>out</td>\n      <td>Summer</td>\n      <td>124.2</td>\n      <td>1 Bundesliga</td>\n      <td>...</td>\n      <td>£191m</td>\n      <td>£134k</td>\n      <td>18.0</td>\n      <td>13.0</td>\n      <td>18.0</td>\n      <td>85000.0</td>\n      <td>85000.0</td>\n      <td>77.7</td>\n      <td>80.3</td>\n      <td>0</td>\n    </tr>\n    <tr>\n      <th>4570</th>\n      <td>SL Benfica</td>\n      <td>João Félix</td>\n      <td>19.0</td>\n      <td>Second Striker</td>\n      <td>Atlético Madrid</td>\n      <td>£113.40m</td>\n      <td>out</td>\n      <td>Summer</td>\n      <td>113.4</td>\n      <td>Liga Nos</td>\n      <td>...</td>\n      <td>£11m</td>\n      <td>£50k</td>\n      <td>20.0</td>\n      <td>19.0</td>\n      <td>20.0</td>\n      <td>64235.0</td>\n      <td>52768.0</td>\n      <td>77.8</td>\n      <td>81.6</td>\n      <td>0</td>\n    </tr>\n    <tr>\n      <th>4709</th>\n      <td>Atlético Madrid</td>\n      <td>Antoine Griezmann</td>\n      <td>28.0</td>\n      <td>Second Striker</td>\n      <td>FC Barcelona</td>\n      <td>£108.00m</td>\n      <td>out</td>\n      <td>Summer</td>\n      <td>108.0</td>\n      <td>Primera Division</td>\n      <td>...</td>\n      <td>£0</td>\n      <td>£0</td>\n      <td>17.0</td>\n      <td>14.0</td>\n      <td>15.0</td>\n      <td>55000.0</td>\n      <td>47000.0</td>\n      <td>80.7</td>\n      <td>83.3</td>\n      <td>0</td>\n    </tr>\n    <tr>\n      <th>4024</th>\n      <td>Real Madrid</td>\n      <td>Cristiano Ronaldo</td>\n      <td>33.0</td>\n      <td>Left Winger</td>\n      <td>Juventus FC</td>\n      <td>£105.30m</td>\n      <td>out</td>\n      <td>Summer</td>\n      <td>105.3</td>\n      <td>Primera Division</td>\n      <td>...</td>\n      <td>£123m</td>\n      <td>£0</td>\n      <td>18.0</td>\n      <td>18.0</td>\n      <td>18.0</td>\n      <td>80000.0</td>\n      <td>73000.0</td>\n      <td>82.8</td>\n      <td>85.6</td>\n      <td>0</td>\n    </tr>\n    <tr>\n      <th>...</th>\n      <td>...</td>\n      <td>...</td>\n      <td>...</td>\n      <td>...</td>\n      <td>...</td>\n      <td>...</td>\n      <td>...</td>\n      <td>...</td>\n      <td>...</td>\n      <td>...</td>\n      <td>...</td>\n      <td>...</td>\n      <td>...</td>\n      <td>...</td>\n      <td>...</td>\n      <td>...</td>\n      <td>...</td>\n      <td>...</td>\n      <td>...</td>\n      <td>...</td>\n      <td>...</td>\n    </tr>\n    <tr>\n      <th>5189</th>\n      <td>Rio Ave FC</td>\n      <td>Vitó</td>\n      <td>22.0</td>\n      <td>Attacking Midfield</td>\n      <td>PEC Zwolle</td>\n      <td>?</td>\n      <td>out</td>\n      <td>Summer</td>\n      <td>NaN</td>\n      <td>Liga Nos</td>\n      <td>...</td>\n      <td>£4m</td>\n      <td>£76k</td>\n      <td>12.0</td>\n      <td>14.0</td>\n      <td>12.0</td>\n      <td>9023.0</td>\n      <td>3954.0</td>\n      <td>74.1</td>\n      <td>77.8</td>\n      <td>0</td>\n    </tr>\n    <tr>\n      <th>5200</th>\n      <td>CD Tondela</td>\n      <td>Philipe Sampaio</td>\n      <td>25.0</td>\n      <td>Centre-Back</td>\n      <td>EA Guingamp</td>\n      <td>?</td>\n      <td>out</td>\n      <td>Summer</td>\n      <td>NaN</td>\n      <td>Liga Nos</td>\n      <td>...</td>\n      <td>£2m</td>\n      <td>£43k</td>\n      <td>10.0</td>\n      <td>11.0</td>\n      <td>9.0</td>\n      <td>4973.0</td>\n      <td>2308.0</td>\n      <td>71.5</td>\n      <td>75.5</td>\n      <td>0</td>\n    </tr>\n    <tr>\n      <th>5208</th>\n      <td>Vitória Guimarães SC</td>\n      <td>Florent Hanin</td>\n      <td>30.0</td>\n      <td>Left-Back</td>\n      <td>FC Paços Ferreira</td>\n      <td>?</td>\n      <td>out</td>\n      <td>Summer</td>\n      <td>NaN</td>\n      <td>Liga Nos</td>\n      <td>...</td>\n      <td>£3m</td>\n      <td>£133k</td>\n      <td>16.0</td>\n      <td>16.0</td>\n      <td>14.0</td>\n      <td>27212.0</td>\n      <td>18756.0</td>\n      <td>74.6</td>\n      <td>78.8</td>\n      <td>0</td>\n    </tr>\n    <tr>\n      <th>5209</th>\n      <td>Vitória Guimarães SC</td>\n      <td>João Pedro</td>\n      <td>23.0</td>\n      <td>Centre-Forward</td>\n      <td>FC Paços Ferreira</td>\n      <td>?</td>\n      <td>out</td>\n      <td>Summer</td>\n      <td>NaN</td>\n      <td>Liga Nos</td>\n      <td>...</td>\n      <td>£3m</td>\n      <td>£133k</td>\n      <td>16.0</td>\n      <td>16.0</td>\n      <td>14.0</td>\n      <td>27212.0</td>\n      <td>18756.0</td>\n      <td>74.6</td>\n      <td>78.8</td>\n      <td>0</td>\n    </tr>\n    <tr>\n      <th>5254</th>\n      <td>Getafe CF</td>\n      <td>Fayçal Fajr</td>\n      <td>32.0</td>\n      <td>Central Midfield</td>\n      <td>AS Saint-Étienne</td>\n      <td>?</td>\n      <td>out</td>\n      <td>Summer</td>\n      <td>NaN</td>\n      <td>Primera Division</td>\n      <td>...</td>\n      <td>£5m</td>\n      <td>£453k</td>\n      <td>12.0</td>\n      <td>10.0</td>\n      <td>10.0</td>\n      <td>16800.0</td>\n      <td>10500.0</td>\n      <td>78.0</td>\n      <td>80.6</td>\n      <td>0</td>\n    </tr>\n  </tbody>\n</table>\n<p>5269 rows × 41 columns</p>\n</div>"
     },
     "metadata": {},
     "execution_count": 15
    }
   ],
   "source": [
    "regular_transfers_data = pd.merge(transfer_data, fm_data, how='inner', left_on=['merger_id','player_name'], right_on=['merger_id','name']).sort_values('fee_cleaned', ascending = False)\n",
    "regular_transfers_data['after_loan'] = 0\n",
    "regular_transfers_data"
   ]
  },
  {
   "cell_type": "code",
   "execution_count": 16,
   "metadata": {},
   "outputs": [],
   "source": [
    "transfer_data['merger_id'] = transfer_data.club_involved_name + transfer_data.year.astype(str)\n",
    "fm_data['merger_id'] = fm_data.club + fm_data.year.astype(str)"
   ]
  },
  {
   "cell_type": "code",
   "execution_count": 17,
   "metadata": {},
   "outputs": [
    {
     "output_type": "execute_result",
     "data": {
      "text/plain": [
       "             club_name      player_name  age_x        position_x  \\\n",
       "633          AS Monaco    Kylian Mbappé   19.0    Centre-Forward   \n",
       "1040        Chelsea FC    Álvaro Morata   27.0    Centre-Forward   \n",
       "1097       Inter Milan     Mauro Icardi   27.0    Centre-Forward   \n",
       "844          AS Monaco  Youri Tielemans   22.0  Central Midfield   \n",
       "982        Real Madrid    Mateo Kovacic   25.0  Central Midfield   \n",
       "...                ...              ...    ...               ...   \n",
       "1021      Derby County    Mason Bennett   24.0       Left Winger   \n",
       "1034       Aston Villa       James Bree   22.0        Right-Back   \n",
       "1036       Aston Villa      Scott Hogan   28.0    Centre-Forward   \n",
       "1048  Sheffield United  Callum Robinson   25.0       Left Winger   \n",
       "1147     Hellas Verona    Joseph Ekuban   20.0    Centre-Forward   \n",
       "\n",
       "        club_involved_name       fee transfer_movement transfer_period  \\\n",
       "633    Paris Saint-Germain  £130.50m               out          Summer   \n",
       "1040       Atlético Madrid   £50.40m               out          Summer   \n",
       "1097   Paris Saint-Germain   £45.00m               out          Summer   \n",
       "844         Leicester City   £40.50m               out          Summer   \n",
       "982             Chelsea FC   £40.50m               out          Summer   \n",
       "...                    ...       ...               ...             ...   \n",
       "1021           Millwall FC         ?               out          Summer   \n",
       "1034            Luton Town         ?               out          Summer   \n",
       "1036       Birmingham City         ?               out          Summer   \n",
       "1048  West Bromwich Albion         ?               out          Summer   \n",
       "1147             VVV-Venlo         ?               out          Summer   \n",
       "\n",
       "      fee_cleaned       league_name  ...  balance wagebudget  \\\n",
       "633         130.5           Ligue 1  ...    £213m      £135k   \n",
       "1040         50.4    Premier League  ...     £11m        £3m   \n",
       "1097         45.0           Serie A  ...    £159m        £4m   \n",
       "844          40.5           Ligue 1  ...     £18m      £160k   \n",
       "982          40.5  Primera Division  ...      £4m      £150k   \n",
       "...           ...               ...  ...      ...        ...   \n",
       "1021          NaN      Championship  ...      £9m      £197k   \n",
       "1034          NaN    Premier League  ...      £7m      £153k   \n",
       "1036          NaN    Premier League  ...     £11m      £292k   \n",
       "1048          NaN    Premier League  ...     £46m      £520k   \n",
       "1147          NaN           Serie A  ...      £7m      £451k   \n",
       "\n",
       "     trainingfacilities youthfacilities youthacademy stadiumcap avgattendance  \\\n",
       "633                16.0            14.0         16.0    47300.0       46763.0   \n",
       "1040               17.0            14.0         15.0    55000.0       56000.0   \n",
       "1097               16.0            16.0         17.0    47300.0       47496.0   \n",
       "844                14.0            12.0         16.0    42000.0       31559.0   \n",
       "982                20.0            18.0         20.0    60000.0       41500.0   \n",
       "...                 ...             ...          ...        ...           ...   \n",
       "1021               13.0             9.0         12.0    18700.0       13368.0   \n",
       "1034               14.0            10.0         14.0    20000.0        8046.0   \n",
       "1036               14.0            15.0         14.0    40000.0       22483.0   \n",
       "1048               15.0            14.0         15.0    35000.0       24631.0   \n",
       "1147               13.0            10.0         12.0    14517.0       10574.0   \n",
       "\n",
       "     ability potential.1 after_loan  \n",
       "633     79.3        82.6          1  \n",
       "1040    83.9        87.1          1  \n",
       "1097    84.0        86.3          1  \n",
       "844     76.4        80.0          1  \n",
       "982     80.5        83.1          1  \n",
       "...      ...         ...        ...  \n",
       "1021    73.1        77.4          1  \n",
       "1034    72.0        75.9          1  \n",
       "1036    73.8        78.2          1  \n",
       "1048    75.6        79.7          1  \n",
       "1147    75.2        79.4          1  \n",
       "\n",
       "[553 rows x 41 columns]"
      ],
      "text/html": "<div>\n<style scoped>\n    .dataframe tbody tr th:only-of-type {\n        vertical-align: middle;\n    }\n\n    .dataframe tbody tr th {\n        vertical-align: top;\n    }\n\n    .dataframe thead th {\n        text-align: right;\n    }\n</style>\n<table border=\"1\" class=\"dataframe\">\n  <thead>\n    <tr style=\"text-align: right;\">\n      <th></th>\n      <th>club_name</th>\n      <th>player_name</th>\n      <th>age_x</th>\n      <th>position_x</th>\n      <th>club_involved_name</th>\n      <th>fee</th>\n      <th>transfer_movement</th>\n      <th>transfer_period</th>\n      <th>fee_cleaned</th>\n      <th>league_name</th>\n      <th>...</th>\n      <th>balance</th>\n      <th>wagebudget</th>\n      <th>trainingfacilities</th>\n      <th>youthfacilities</th>\n      <th>youthacademy</th>\n      <th>stadiumcap</th>\n      <th>avgattendance</th>\n      <th>ability</th>\n      <th>potential.1</th>\n      <th>after_loan</th>\n    </tr>\n  </thead>\n  <tbody>\n    <tr>\n      <th>633</th>\n      <td>AS Monaco</td>\n      <td>Kylian Mbappé</td>\n      <td>19.0</td>\n      <td>Centre-Forward</td>\n      <td>Paris Saint-Germain</td>\n      <td>£130.50m</td>\n      <td>out</td>\n      <td>Summer</td>\n      <td>130.5</td>\n      <td>Ligue 1</td>\n      <td>...</td>\n      <td>£213m</td>\n      <td>£135k</td>\n      <td>16.0</td>\n      <td>14.0</td>\n      <td>16.0</td>\n      <td>47300.0</td>\n      <td>46763.0</td>\n      <td>79.3</td>\n      <td>82.6</td>\n      <td>1</td>\n    </tr>\n    <tr>\n      <th>1040</th>\n      <td>Chelsea FC</td>\n      <td>Álvaro Morata</td>\n      <td>27.0</td>\n      <td>Centre-Forward</td>\n      <td>Atlético Madrid</td>\n      <td>£50.40m</td>\n      <td>out</td>\n      <td>Summer</td>\n      <td>50.4</td>\n      <td>Premier League</td>\n      <td>...</td>\n      <td>£11m</td>\n      <td>£3m</td>\n      <td>17.0</td>\n      <td>14.0</td>\n      <td>15.0</td>\n      <td>55000.0</td>\n      <td>56000.0</td>\n      <td>83.9</td>\n      <td>87.1</td>\n      <td>1</td>\n    </tr>\n    <tr>\n      <th>1097</th>\n      <td>Inter Milan</td>\n      <td>Mauro Icardi</td>\n      <td>27.0</td>\n      <td>Centre-Forward</td>\n      <td>Paris Saint-Germain</td>\n      <td>£45.00m</td>\n      <td>out</td>\n      <td>Summer</td>\n      <td>45.0</td>\n      <td>Serie A</td>\n      <td>...</td>\n      <td>£159m</td>\n      <td>£4m</td>\n      <td>16.0</td>\n      <td>16.0</td>\n      <td>17.0</td>\n      <td>47300.0</td>\n      <td>47496.0</td>\n      <td>84.0</td>\n      <td>86.3</td>\n      <td>1</td>\n    </tr>\n    <tr>\n      <th>844</th>\n      <td>AS Monaco</td>\n      <td>Youri Tielemans</td>\n      <td>22.0</td>\n      <td>Central Midfield</td>\n      <td>Leicester City</td>\n      <td>£40.50m</td>\n      <td>out</td>\n      <td>Summer</td>\n      <td>40.5</td>\n      <td>Ligue 1</td>\n      <td>...</td>\n      <td>£18m</td>\n      <td>£160k</td>\n      <td>14.0</td>\n      <td>12.0</td>\n      <td>16.0</td>\n      <td>42000.0</td>\n      <td>31559.0</td>\n      <td>76.4</td>\n      <td>80.0</td>\n      <td>1</td>\n    </tr>\n    <tr>\n      <th>982</th>\n      <td>Real Madrid</td>\n      <td>Mateo Kovacic</td>\n      <td>25.0</td>\n      <td>Central Midfield</td>\n      <td>Chelsea FC</td>\n      <td>£40.50m</td>\n      <td>out</td>\n      <td>Summer</td>\n      <td>40.5</td>\n      <td>Primera Division</td>\n      <td>...</td>\n      <td>£4m</td>\n      <td>£150k</td>\n      <td>20.0</td>\n      <td>18.0</td>\n      <td>20.0</td>\n      <td>60000.0</td>\n      <td>41500.0</td>\n      <td>80.5</td>\n      <td>83.1</td>\n      <td>1</td>\n    </tr>\n    <tr>\n      <th>...</th>\n      <td>...</td>\n      <td>...</td>\n      <td>...</td>\n      <td>...</td>\n      <td>...</td>\n      <td>...</td>\n      <td>...</td>\n      <td>...</td>\n      <td>...</td>\n      <td>...</td>\n      <td>...</td>\n      <td>...</td>\n      <td>...</td>\n      <td>...</td>\n      <td>...</td>\n      <td>...</td>\n      <td>...</td>\n      <td>...</td>\n      <td>...</td>\n      <td>...</td>\n      <td>...</td>\n    </tr>\n    <tr>\n      <th>1021</th>\n      <td>Derby County</td>\n      <td>Mason Bennett</td>\n      <td>24.0</td>\n      <td>Left Winger</td>\n      <td>Millwall FC</td>\n      <td>?</td>\n      <td>out</td>\n      <td>Summer</td>\n      <td>NaN</td>\n      <td>Championship</td>\n      <td>...</td>\n      <td>£9m</td>\n      <td>£197k</td>\n      <td>13.0</td>\n      <td>9.0</td>\n      <td>12.0</td>\n      <td>18700.0</td>\n      <td>13368.0</td>\n      <td>73.1</td>\n      <td>77.4</td>\n      <td>1</td>\n    </tr>\n    <tr>\n      <th>1034</th>\n      <td>Aston Villa</td>\n      <td>James Bree</td>\n      <td>22.0</td>\n      <td>Right-Back</td>\n      <td>Luton Town</td>\n      <td>?</td>\n      <td>out</td>\n      <td>Summer</td>\n      <td>NaN</td>\n      <td>Premier League</td>\n      <td>...</td>\n      <td>£7m</td>\n      <td>£153k</td>\n      <td>14.0</td>\n      <td>10.0</td>\n      <td>14.0</td>\n      <td>20000.0</td>\n      <td>8046.0</td>\n      <td>72.0</td>\n      <td>75.9</td>\n      <td>1</td>\n    </tr>\n    <tr>\n      <th>1036</th>\n      <td>Aston Villa</td>\n      <td>Scott Hogan</td>\n      <td>28.0</td>\n      <td>Centre-Forward</td>\n      <td>Birmingham City</td>\n      <td>?</td>\n      <td>out</td>\n      <td>Summer</td>\n      <td>NaN</td>\n      <td>Premier League</td>\n      <td>...</td>\n      <td>£11m</td>\n      <td>£292k</td>\n      <td>14.0</td>\n      <td>15.0</td>\n      <td>14.0</td>\n      <td>40000.0</td>\n      <td>22483.0</td>\n      <td>73.8</td>\n      <td>78.2</td>\n      <td>1</td>\n    </tr>\n    <tr>\n      <th>1048</th>\n      <td>Sheffield United</td>\n      <td>Callum Robinson</td>\n      <td>25.0</td>\n      <td>Left Winger</td>\n      <td>West Bromwich Albion</td>\n      <td>?</td>\n      <td>out</td>\n      <td>Summer</td>\n      <td>NaN</td>\n      <td>Premier League</td>\n      <td>...</td>\n      <td>£46m</td>\n      <td>£520k</td>\n      <td>15.0</td>\n      <td>14.0</td>\n      <td>15.0</td>\n      <td>35000.0</td>\n      <td>24631.0</td>\n      <td>75.6</td>\n      <td>79.7</td>\n      <td>1</td>\n    </tr>\n    <tr>\n      <th>1147</th>\n      <td>Hellas Verona</td>\n      <td>Joseph Ekuban</td>\n      <td>20.0</td>\n      <td>Centre-Forward</td>\n      <td>VVV-Venlo</td>\n      <td>?</td>\n      <td>out</td>\n      <td>Summer</td>\n      <td>NaN</td>\n      <td>Serie A</td>\n      <td>...</td>\n      <td>£7m</td>\n      <td>£451k</td>\n      <td>13.0</td>\n      <td>10.0</td>\n      <td>12.0</td>\n      <td>14517.0</td>\n      <td>10574.0</td>\n      <td>75.2</td>\n      <td>79.4</td>\n      <td>1</td>\n    </tr>\n  </tbody>\n</table>\n<p>553 rows × 41 columns</p>\n</div>"
     },
     "metadata": {},
     "execution_count": 17
    }
   ],
   "source": [
    "transfers_after_loan = pd.merge(transfer_data, fm_data, how='inner', left_on=['merger_id','player_name'], right_on=['merger_id','name']).sort_values('fee_cleaned', ascending = False)\n",
    "transfers_after_loan = transfers_after_loan[transfers_after_loan.club == transfers_after_loan['club.1']]\n",
    "transfers_after_loan['after_loan'] = 1\n",
    "transfers_after_loan"
   ]
  },
  {
   "cell_type": "code",
   "execution_count": 18,
   "metadata": {},
   "outputs": [],
   "source": [
    "transfermarkt_plus_fm = regular_transfers_data.append(transfers_after_loan).sort_values('fee_cleaned', ascending = False)"
   ]
  },
  {
   "source": [
    "## Opta Stats"
   ],
   "cell_type": "markdown",
   "metadata": {}
  },
  {
   "cell_type": "code",
   "execution_count": 19,
   "metadata": {},
   "outputs": [],
   "source": [
    "flat_names = []\n",
    "for player_name in transfermarkt_plus_fm['player_name']:\n",
    "    flat_names.append(''.join([i for i in player_name if (i.isalpha() and i in unidecode.unidecode(player_name)) or i == ' ']))\n",
    "\n",
    "transfermarkt_plus_fm['flat_name'] = flat_names"
   ]
  },
  {
   "cell_type": "code",
   "execution_count": 20,
   "metadata": {},
   "outputs": [],
   "source": [
    "stats_data = pd.read_csv('ws data/stats_data_per_season.csv')\n",
    "stats_data = stats_data[stats_data.league != 'Champions'] # Ignoring european competitions\n",
    "stats_data = stats_data[stats_data.league != 'Europa']\n",
    "stats_data.year += 1 # Synching seasons"
   ]
  },
  {
   "cell_type": "code",
   "execution_count": 21,
   "metadata": {},
   "outputs": [],
   "source": [
    "tdf = pd.read_csv('ws data/player_season_AT_stats.csv')\n",
    "stats_data = stats_data.join(tdf, rsuffix='_')"
   ]
  },
  {
   "cell_type": "code",
   "execution_count": 22,
   "metadata": {},
   "outputs": [
    {
     "output_type": "execute_result",
     "data": {
      "text/plain": [
       "                 league  year  playerId              name  Unnamed: 2  \\\n",
       "0      Brasileir%C3%A3o  2014       460              Lcio          80   \n",
       "1      Brasileir%C3%A3o  2014       551         Z Roberto         594   \n",
       "2      Brasileir%C3%A3o  2014       724     Marcos Assuno         246   \n",
       "3      Brasileir%C3%A3o  2014      1690  Clarence Seedorf         958   \n",
       "4      Brasileir%C3%A3o  2014      1792        Ronaldinho         188   \n",
       "...                 ...   ...       ...               ...         ...   \n",
       "93143         Superliga  2020    393045      Manuel Llano          35   \n",
       "93144         Superliga  2020    393142    Alexis Sabella          35   \n",
       "93145         Superliga  2020    393149  Federico Martnez          47   \n",
       "93146         Superliga  2020    393151     Mateo Coronel          34   \n",
       "93147         Superliga  2020    393508    Mauricio Guzmn          15   \n",
       "\n",
       "       gamesPlayed  subedOn  goalsScored  assists  yellow  ...  CLaction  \\\n",
       "0                9        0            1        1       2  ...      26.0   \n",
       "1               23        3            3        3       2  ...       0.0   \n",
       "2                4        2            0        0       0  ...       0.0   \n",
       "3               33        0            8        8       5  ...      24.0   \n",
       "4               14        0            7        1       6  ...      12.0   \n",
       "...            ...      ...          ...      ...     ...  ...       ...   \n",
       "93143            0        0            0        0       0  ...       0.0   \n",
       "93144            0        0            0        0       0  ...       0.0   \n",
       "93145            2        0            0        1       0  ...       0.0   \n",
       "93146            0        0            0        0       0  ...       0.0   \n",
       "93147            0        0            0        0       0  ...       0.0   \n",
       "\n",
       "       CLgoals  CLassists  CLMotM  CLrating  ELaction  ELgoals  ELassists  \\\n",
       "0          1.0        0.0     2.0    195.48       0.0      0.0        0.0   \n",
       "1          0.0        0.0     0.0      0.00       0.0      0.0        0.0   \n",
       "2          0.0        0.0     0.0      0.00       0.0      0.0        0.0   \n",
       "3          1.0        6.0     0.0    163.52       0.0      0.0        0.0   \n",
       "4          4.0        2.0     1.0     82.41       0.0      0.0        0.0   \n",
       "...        ...        ...     ...       ...       ...      ...        ...   \n",
       "93143      0.0        0.0     0.0      0.00       0.0      0.0        0.0   \n",
       "93144      0.0        0.0     0.0      0.00       0.0      0.0        0.0   \n",
       "93145      0.0        0.0     0.0      0.00       0.0      0.0        0.0   \n",
       "93146      0.0        0.0     0.0      0.00       0.0      0.0        0.0   \n",
       "93147      0.0        0.0     0.0      0.00       0.0      0.0        0.0   \n",
       "\n",
       "       ELMotM  ELrating  \n",
       "0         0.0       0.0  \n",
       "1         0.0       0.0  \n",
       "2         0.0       0.0  \n",
       "3         0.0       0.0  \n",
       "4         0.0       0.0  \n",
       "...       ...       ...  \n",
       "93143     0.0       0.0  \n",
       "93144     0.0       0.0  \n",
       "93145     0.0       0.0  \n",
       "93146     0.0       0.0  \n",
       "93147     0.0       0.0  \n",
       "\n",
       "[73157 rows x 56 columns]"
      ],
      "text/html": "<div>\n<style scoped>\n    .dataframe tbody tr th:only-of-type {\n        vertical-align: middle;\n    }\n\n    .dataframe tbody tr th {\n        vertical-align: top;\n    }\n\n    .dataframe thead th {\n        text-align: right;\n    }\n</style>\n<table border=\"1\" class=\"dataframe\">\n  <thead>\n    <tr style=\"text-align: right;\">\n      <th></th>\n      <th>league</th>\n      <th>year</th>\n      <th>playerId</th>\n      <th>name</th>\n      <th>Unnamed: 2</th>\n      <th>gamesPlayed</th>\n      <th>subedOn</th>\n      <th>goalsScored</th>\n      <th>assists</th>\n      <th>yellow</th>\n      <th>...</th>\n      <th>CLaction</th>\n      <th>CLgoals</th>\n      <th>CLassists</th>\n      <th>CLMotM</th>\n      <th>CLrating</th>\n      <th>ELaction</th>\n      <th>ELgoals</th>\n      <th>ELassists</th>\n      <th>ELMotM</th>\n      <th>ELrating</th>\n    </tr>\n  </thead>\n  <tbody>\n    <tr>\n      <th>0</th>\n      <td>Brasileir%C3%A3o</td>\n      <td>2014</td>\n      <td>460</td>\n      <td>Lcio</td>\n      <td>80</td>\n      <td>9</td>\n      <td>0</td>\n      <td>1</td>\n      <td>1</td>\n      <td>2</td>\n      <td>...</td>\n      <td>26.0</td>\n      <td>1.0</td>\n      <td>0.0</td>\n      <td>2.0</td>\n      <td>195.48</td>\n      <td>0.0</td>\n      <td>0.0</td>\n      <td>0.0</td>\n      <td>0.0</td>\n      <td>0.0</td>\n    </tr>\n    <tr>\n      <th>1</th>\n      <td>Brasileir%C3%A3o</td>\n      <td>2014</td>\n      <td>551</td>\n      <td>Z Roberto</td>\n      <td>594</td>\n      <td>23</td>\n      <td>3</td>\n      <td>3</td>\n      <td>3</td>\n      <td>2</td>\n      <td>...</td>\n      <td>0.0</td>\n      <td>0.0</td>\n      <td>0.0</td>\n      <td>0.0</td>\n      <td>0.00</td>\n      <td>0.0</td>\n      <td>0.0</td>\n      <td>0.0</td>\n      <td>0.0</td>\n      <td>0.0</td>\n    </tr>\n    <tr>\n      <th>2</th>\n      <td>Brasileir%C3%A3o</td>\n      <td>2014</td>\n      <td>724</td>\n      <td>Marcos Assuno</td>\n      <td>246</td>\n      <td>4</td>\n      <td>2</td>\n      <td>0</td>\n      <td>0</td>\n      <td>0</td>\n      <td>...</td>\n      <td>0.0</td>\n      <td>0.0</td>\n      <td>0.0</td>\n      <td>0.0</td>\n      <td>0.00</td>\n      <td>0.0</td>\n      <td>0.0</td>\n      <td>0.0</td>\n      <td>0.0</td>\n      <td>0.0</td>\n    </tr>\n    <tr>\n      <th>3</th>\n      <td>Brasileir%C3%A3o</td>\n      <td>2014</td>\n      <td>1690</td>\n      <td>Clarence Seedorf</td>\n      <td>958</td>\n      <td>33</td>\n      <td>0</td>\n      <td>8</td>\n      <td>8</td>\n      <td>5</td>\n      <td>...</td>\n      <td>24.0</td>\n      <td>1.0</td>\n      <td>6.0</td>\n      <td>0.0</td>\n      <td>163.52</td>\n      <td>0.0</td>\n      <td>0.0</td>\n      <td>0.0</td>\n      <td>0.0</td>\n      <td>0.0</td>\n    </tr>\n    <tr>\n      <th>4</th>\n      <td>Brasileir%C3%A3o</td>\n      <td>2014</td>\n      <td>1792</td>\n      <td>Ronaldinho</td>\n      <td>188</td>\n      <td>14</td>\n      <td>0</td>\n      <td>7</td>\n      <td>1</td>\n      <td>6</td>\n      <td>...</td>\n      <td>12.0</td>\n      <td>4.0</td>\n      <td>2.0</td>\n      <td>1.0</td>\n      <td>82.41</td>\n      <td>0.0</td>\n      <td>0.0</td>\n      <td>0.0</td>\n      <td>0.0</td>\n      <td>0.0</td>\n    </tr>\n    <tr>\n      <th>...</th>\n      <td>...</td>\n      <td>...</td>\n      <td>...</td>\n      <td>...</td>\n      <td>...</td>\n      <td>...</td>\n      <td>...</td>\n      <td>...</td>\n      <td>...</td>\n      <td>...</td>\n      <td>...</td>\n      <td>...</td>\n      <td>...</td>\n      <td>...</td>\n      <td>...</td>\n      <td>...</td>\n      <td>...</td>\n      <td>...</td>\n      <td>...</td>\n      <td>...</td>\n      <td>...</td>\n    </tr>\n    <tr>\n      <th>93143</th>\n      <td>Superliga</td>\n      <td>2020</td>\n      <td>393045</td>\n      <td>Manuel Llano</td>\n      <td>35</td>\n      <td>0</td>\n      <td>0</td>\n      <td>0</td>\n      <td>0</td>\n      <td>0</td>\n      <td>...</td>\n      <td>0.0</td>\n      <td>0.0</td>\n      <td>0.0</td>\n      <td>0.0</td>\n      <td>0.00</td>\n      <td>0.0</td>\n      <td>0.0</td>\n      <td>0.0</td>\n      <td>0.0</td>\n      <td>0.0</td>\n    </tr>\n    <tr>\n      <th>93144</th>\n      <td>Superliga</td>\n      <td>2020</td>\n      <td>393142</td>\n      <td>Alexis Sabella</td>\n      <td>35</td>\n      <td>0</td>\n      <td>0</td>\n      <td>0</td>\n      <td>0</td>\n      <td>0</td>\n      <td>...</td>\n      <td>0.0</td>\n      <td>0.0</td>\n      <td>0.0</td>\n      <td>0.0</td>\n      <td>0.00</td>\n      <td>0.0</td>\n      <td>0.0</td>\n      <td>0.0</td>\n      <td>0.0</td>\n      <td>0.0</td>\n    </tr>\n    <tr>\n      <th>93145</th>\n      <td>Superliga</td>\n      <td>2020</td>\n      <td>393149</td>\n      <td>Federico Martnez</td>\n      <td>47</td>\n      <td>2</td>\n      <td>0</td>\n      <td>0</td>\n      <td>1</td>\n      <td>0</td>\n      <td>...</td>\n      <td>0.0</td>\n      <td>0.0</td>\n      <td>0.0</td>\n      <td>0.0</td>\n      <td>0.00</td>\n      <td>0.0</td>\n      <td>0.0</td>\n      <td>0.0</td>\n      <td>0.0</td>\n      <td>0.0</td>\n    </tr>\n    <tr>\n      <th>93146</th>\n      <td>Superliga</td>\n      <td>2020</td>\n      <td>393151</td>\n      <td>Mateo Coronel</td>\n      <td>34</td>\n      <td>0</td>\n      <td>0</td>\n      <td>0</td>\n      <td>0</td>\n      <td>0</td>\n      <td>...</td>\n      <td>0.0</td>\n      <td>0.0</td>\n      <td>0.0</td>\n      <td>0.0</td>\n      <td>0.00</td>\n      <td>0.0</td>\n      <td>0.0</td>\n      <td>0.0</td>\n      <td>0.0</td>\n      <td>0.0</td>\n    </tr>\n    <tr>\n      <th>93147</th>\n      <td>Superliga</td>\n      <td>2020</td>\n      <td>393508</td>\n      <td>Mauricio Guzmn</td>\n      <td>15</td>\n      <td>0</td>\n      <td>0</td>\n      <td>0</td>\n      <td>0</td>\n      <td>0</td>\n      <td>...</td>\n      <td>0.0</td>\n      <td>0.0</td>\n      <td>0.0</td>\n      <td>0.0</td>\n      <td>0.00</td>\n      <td>0.0</td>\n      <td>0.0</td>\n      <td>0.0</td>\n      <td>0.0</td>\n      <td>0.0</td>\n    </tr>\n  </tbody>\n</table>\n<p>73157 rows × 56 columns</p>\n</div>"
     },
     "metadata": {},
     "execution_count": 22
    }
   ],
   "source": [
    "stats_data"
   ]
  },
  {
   "source": [
    "## Player matcher not used because:\n",
    "### Without team names it generates too many duplicates that we cannot either manually or automatically review"
   ],
   "cell_type": "markdown",
   "metadata": {}
  },
  {
   "source": [
    "players_transfer = transfermarkt_plus_fm.flat_name.unique().tolist() # Base names\n",
    "players_stats = stats_data.name.unique().tolist()\n",
    "\n",
    "big_list = []\n",
    "\n",
    "for player_transfer in tqdm(players_transfer):\n",
    "    player_transfer = unidecode.unidecode(player_transfer)\n",
    "    small_list = []\n",
    "    for player_stats in players_stats:\n",
    "        player_stats = unidecode.unidecode(player_stats)\n",
    "        score = 0\n",
    "\n",
    "        # Check for words equal\n",
    "        for word in player_transfer.split(' '):\n",
    "            if word in player_stats.split(' ') and len(word) > 2:\n",
    "                score += 10\n",
    "        # Check for equal capitalized letters (tiebreaker)\n",
    "        for capitalized_letter in [l for l in player_transfer if l.isupper()]:\n",
    "            if capitalized_letter in player_stats:\n",
    "                score += 4\n",
    "\n",
    "        # Tie breakers\n",
    "        if len(player_transfer) == len(player_stats):\n",
    "            score += 2\n",
    "        if player_transfer[0] == player_stats[0]:\n",
    "            score += 1\n",
    "        if player_transfer[-1] == player_stats[-1]:\n",
    "            score += 1\n",
    "\n",
    "        small_list.append(score)\n",
    "    big_list.append(small_list)"
   ],
   "cell_type": "markdown",
   "metadata": {}
  },
  {
   "source": [
    "player_matcher = pd.DataFrame(big_list, index=players_transfer, columns=players_stats)\n",
    "player_matcher.idxmax().to_csv('misc/player_names_match_opta-trasfermarkt.csv')\n",
    "player_matcher = pd.read_csv('misc/player_names_match_opta-trasfermarkt.csv')\n",
    "player_matcher"
   ],
   "cell_type": "markdown",
   "metadata": {}
  },
  {
   "source": [
    "for _, row in tqdm(player_matcher.iterrows(), total = len(player_matcher)):\n",
    "    stats_data.loc[stats_data.name == row['Unnamed: 0'], 'name'] = row['0']"
   ],
   "cell_type": "markdown",
   "metadata": {}
  },
  {
   "cell_type": "code",
   "execution_count": 23,
   "metadata": {},
   "outputs": [
    {
     "output_type": "execute_result",
     "data": {
      "text/plain": [
       "              club_name        player_name  age_x      position_x  \\\n",
       "0          FC Barcelona             Neymar   25.0     Left Winger   \n",
       "1             AS Monaco      Kylian Mbappé   19.0  Centre-Forward   \n",
       "2     Borussia Dortmund    Ousmane Dembélé   20.0    Right Winger   \n",
       "3            SL Benfica         João Félix   19.0  Second Striker   \n",
       "4       Atlético Madrid  Antoine Griezmann   28.0  Second Striker   \n",
       "...                 ...                ...    ...             ...   \n",
       "4833       Derby County      Mason Bennett   24.0     Left Winger   \n",
       "4834        Aston Villa         James Bree   22.0      Right-Back   \n",
       "4835        Aston Villa        Scott Hogan   28.0  Centre-Forward   \n",
       "4836   Sheffield United    Callum Robinson   25.0     Left Winger   \n",
       "4837   Sheffield United    Callum Robinson   25.0     Left Winger   \n",
       "\n",
       "        club_involved_name       fee transfer_movement transfer_period  \\\n",
       "0      Paris Saint-Germain  £199.80m               out          Summer   \n",
       "1      Paris Saint-Germain  £130.50m               out          Summer   \n",
       "2             FC Barcelona  £124.20m               out          Summer   \n",
       "3          Atlético Madrid  £113.40m               out          Summer   \n",
       "4             FC Barcelona  £108.00m               out          Summer   \n",
       "...                    ...       ...               ...             ...   \n",
       "4833           Millwall FC         ?               out          Summer   \n",
       "4834            Luton Town         ?               out          Summer   \n",
       "4835       Birmingham City         ?               out          Summer   \n",
       "4836  West Bromwich Albion         ?               out          Summer   \n",
       "4837  West Bromwich Albion         ?               out          Summer   \n",
       "\n",
       "      fee_cleaned       league_name  ...  CLaction CLgoals CLassists CLMotM  \\\n",
       "0           199.8  Primera Division  ...      31.0    17.0       5.0    7.0   \n",
       "1           130.5           Ligue 1  ...       9.0     6.0       0.0    1.0   \n",
       "2           124.2      1 Bundesliga  ...       0.0     0.0       0.0    0.0   \n",
       "3           113.4          Liga Nos  ...       0.0     0.0       0.0    0.0   \n",
       "4           108.0  Primera Division  ...      46.0    20.0       3.0    6.0   \n",
       "...           ...               ...  ...       ...     ...       ...    ...   \n",
       "4833          NaN      Championship  ...       0.0     0.0       0.0    0.0   \n",
       "4834          NaN    Premier League  ...       0.0     0.0       0.0    0.0   \n",
       "4835          NaN    Premier League  ...       0.0     0.0       0.0    0.0   \n",
       "4836          NaN    Premier League  ...       0.0     0.0       0.0    0.0   \n",
       "4837          NaN    Premier League  ...       0.0     0.0       0.0    0.0   \n",
       "\n",
       "     CLrating ELaction ELgoals ELassists ELMotM ELrating  \n",
       "0      246.27      0.0     0.0       0.0    0.0     0.00  \n",
       "1       64.43      1.0     0.0       0.0    0.0     6.09  \n",
       "2        0.00      0.0     0.0       0.0    0.0     0.00  \n",
       "3        0.00      0.0     0.0       0.0    0.0     0.00  \n",
       "4      332.84      8.0     6.0       2.0    3.0    63.32  \n",
       "...       ...      ...     ...       ...    ...      ...  \n",
       "4833     0.00      0.0     0.0       0.0    0.0     0.00  \n",
       "4834     0.00      0.0     0.0       0.0    0.0     0.00  \n",
       "4835     0.00      0.0     0.0       0.0    0.0     0.00  \n",
       "4836     0.00      0.0     0.0       0.0    0.0     0.00  \n",
       "4837     0.00      0.0     0.0       0.0    0.0     0.00  \n",
       "\n",
       "[3746 rows x 98 columns]"
      ],
      "text/html": "<div>\n<style scoped>\n    .dataframe tbody tr th:only-of-type {\n        vertical-align: middle;\n    }\n\n    .dataframe tbody tr th {\n        vertical-align: top;\n    }\n\n    .dataframe thead th {\n        text-align: right;\n    }\n</style>\n<table border=\"1\" class=\"dataframe\">\n  <thead>\n    <tr style=\"text-align: right;\">\n      <th></th>\n      <th>club_name</th>\n      <th>player_name</th>\n      <th>age_x</th>\n      <th>position_x</th>\n      <th>club_involved_name</th>\n      <th>fee</th>\n      <th>transfer_movement</th>\n      <th>transfer_period</th>\n      <th>fee_cleaned</th>\n      <th>league_name</th>\n      <th>...</th>\n      <th>CLaction</th>\n      <th>CLgoals</th>\n      <th>CLassists</th>\n      <th>CLMotM</th>\n      <th>CLrating</th>\n      <th>ELaction</th>\n      <th>ELgoals</th>\n      <th>ELassists</th>\n      <th>ELMotM</th>\n      <th>ELrating</th>\n    </tr>\n  </thead>\n  <tbody>\n    <tr>\n      <th>0</th>\n      <td>FC Barcelona</td>\n      <td>Neymar</td>\n      <td>25.0</td>\n      <td>Left Winger</td>\n      <td>Paris Saint-Germain</td>\n      <td>£199.80m</td>\n      <td>out</td>\n      <td>Summer</td>\n      <td>199.8</td>\n      <td>Primera Division</td>\n      <td>...</td>\n      <td>31.0</td>\n      <td>17.0</td>\n      <td>5.0</td>\n      <td>7.0</td>\n      <td>246.27</td>\n      <td>0.0</td>\n      <td>0.0</td>\n      <td>0.0</td>\n      <td>0.0</td>\n      <td>0.00</td>\n    </tr>\n    <tr>\n      <th>1</th>\n      <td>AS Monaco</td>\n      <td>Kylian Mbappé</td>\n      <td>19.0</td>\n      <td>Centre-Forward</td>\n      <td>Paris Saint-Germain</td>\n      <td>£130.50m</td>\n      <td>out</td>\n      <td>Summer</td>\n      <td>130.5</td>\n      <td>Ligue 1</td>\n      <td>...</td>\n      <td>9.0</td>\n      <td>6.0</td>\n      <td>0.0</td>\n      <td>1.0</td>\n      <td>64.43</td>\n      <td>1.0</td>\n      <td>0.0</td>\n      <td>0.0</td>\n      <td>0.0</td>\n      <td>6.09</td>\n    </tr>\n    <tr>\n      <th>2</th>\n      <td>Borussia Dortmund</td>\n      <td>Ousmane Dembélé</td>\n      <td>20.0</td>\n      <td>Right Winger</td>\n      <td>FC Barcelona</td>\n      <td>£124.20m</td>\n      <td>out</td>\n      <td>Summer</td>\n      <td>124.2</td>\n      <td>1 Bundesliga</td>\n      <td>...</td>\n      <td>0.0</td>\n      <td>0.0</td>\n      <td>0.0</td>\n      <td>0.0</td>\n      <td>0.00</td>\n      <td>0.0</td>\n      <td>0.0</td>\n      <td>0.0</td>\n      <td>0.0</td>\n      <td>0.00</td>\n    </tr>\n    <tr>\n      <th>3</th>\n      <td>SL Benfica</td>\n      <td>João Félix</td>\n      <td>19.0</td>\n      <td>Second Striker</td>\n      <td>Atlético Madrid</td>\n      <td>£113.40m</td>\n      <td>out</td>\n      <td>Summer</td>\n      <td>113.4</td>\n      <td>Liga Nos</td>\n      <td>...</td>\n      <td>0.0</td>\n      <td>0.0</td>\n      <td>0.0</td>\n      <td>0.0</td>\n      <td>0.00</td>\n      <td>0.0</td>\n      <td>0.0</td>\n      <td>0.0</td>\n      <td>0.0</td>\n      <td>0.00</td>\n    </tr>\n    <tr>\n      <th>4</th>\n      <td>Atlético Madrid</td>\n      <td>Antoine Griezmann</td>\n      <td>28.0</td>\n      <td>Second Striker</td>\n      <td>FC Barcelona</td>\n      <td>£108.00m</td>\n      <td>out</td>\n      <td>Summer</td>\n      <td>108.0</td>\n      <td>Primera Division</td>\n      <td>...</td>\n      <td>46.0</td>\n      <td>20.0</td>\n      <td>3.0</td>\n      <td>6.0</td>\n      <td>332.84</td>\n      <td>8.0</td>\n      <td>6.0</td>\n      <td>2.0</td>\n      <td>3.0</td>\n      <td>63.32</td>\n    </tr>\n    <tr>\n      <th>...</th>\n      <td>...</td>\n      <td>...</td>\n      <td>...</td>\n      <td>...</td>\n      <td>...</td>\n      <td>...</td>\n      <td>...</td>\n      <td>...</td>\n      <td>...</td>\n      <td>...</td>\n      <td>...</td>\n      <td>...</td>\n      <td>...</td>\n      <td>...</td>\n      <td>...</td>\n      <td>...</td>\n      <td>...</td>\n      <td>...</td>\n      <td>...</td>\n      <td>...</td>\n      <td>...</td>\n    </tr>\n    <tr>\n      <th>4833</th>\n      <td>Derby County</td>\n      <td>Mason Bennett</td>\n      <td>24.0</td>\n      <td>Left Winger</td>\n      <td>Millwall FC</td>\n      <td>?</td>\n      <td>out</td>\n      <td>Summer</td>\n      <td>NaN</td>\n      <td>Championship</td>\n      <td>...</td>\n      <td>0.0</td>\n      <td>0.0</td>\n      <td>0.0</td>\n      <td>0.0</td>\n      <td>0.00</td>\n      <td>0.0</td>\n      <td>0.0</td>\n      <td>0.0</td>\n      <td>0.0</td>\n      <td>0.00</td>\n    </tr>\n    <tr>\n      <th>4834</th>\n      <td>Aston Villa</td>\n      <td>James Bree</td>\n      <td>22.0</td>\n      <td>Right-Back</td>\n      <td>Luton Town</td>\n      <td>?</td>\n      <td>out</td>\n      <td>Summer</td>\n      <td>NaN</td>\n      <td>Premier League</td>\n      <td>...</td>\n      <td>0.0</td>\n      <td>0.0</td>\n      <td>0.0</td>\n      <td>0.0</td>\n      <td>0.00</td>\n      <td>0.0</td>\n      <td>0.0</td>\n      <td>0.0</td>\n      <td>0.0</td>\n      <td>0.00</td>\n    </tr>\n    <tr>\n      <th>4835</th>\n      <td>Aston Villa</td>\n      <td>Scott Hogan</td>\n      <td>28.0</td>\n      <td>Centre-Forward</td>\n      <td>Birmingham City</td>\n      <td>?</td>\n      <td>out</td>\n      <td>Summer</td>\n      <td>NaN</td>\n      <td>Premier League</td>\n      <td>...</td>\n      <td>0.0</td>\n      <td>0.0</td>\n      <td>0.0</td>\n      <td>0.0</td>\n      <td>0.00</td>\n      <td>0.0</td>\n      <td>0.0</td>\n      <td>0.0</td>\n      <td>0.0</td>\n      <td>0.00</td>\n    </tr>\n    <tr>\n      <th>4836</th>\n      <td>Sheffield United</td>\n      <td>Callum Robinson</td>\n      <td>25.0</td>\n      <td>Left Winger</td>\n      <td>West Bromwich Albion</td>\n      <td>?</td>\n      <td>out</td>\n      <td>Summer</td>\n      <td>NaN</td>\n      <td>Premier League</td>\n      <td>...</td>\n      <td>0.0</td>\n      <td>0.0</td>\n      <td>0.0</td>\n      <td>0.0</td>\n      <td>0.00</td>\n      <td>0.0</td>\n      <td>0.0</td>\n      <td>0.0</td>\n      <td>0.0</td>\n      <td>0.00</td>\n    </tr>\n    <tr>\n      <th>4837</th>\n      <td>Sheffield United</td>\n      <td>Callum Robinson</td>\n      <td>25.0</td>\n      <td>Left Winger</td>\n      <td>West Bromwich Albion</td>\n      <td>?</td>\n      <td>out</td>\n      <td>Summer</td>\n      <td>NaN</td>\n      <td>Premier League</td>\n      <td>...</td>\n      <td>0.0</td>\n      <td>0.0</td>\n      <td>0.0</td>\n      <td>0.0</td>\n      <td>0.00</td>\n      <td>0.0</td>\n      <td>0.0</td>\n      <td>0.0</td>\n      <td>0.0</td>\n      <td>0.00</td>\n    </tr>\n  </tbody>\n</table>\n<p>3746 rows × 98 columns</p>\n</div>"
     },
     "metadata": {},
     "execution_count": 23
    }
   ],
   "source": [
    "final_df = pd.merge(transfermarkt_plus_fm, stats_data, how='inner', left_on=['year_x','flat_name'], right_on=['year','name']).sort_values('fee_cleaned', ascending = False)\n",
    "final_df = final_df[final_df.gamesPlayed > 5]\n",
    "final_df"
   ]
  },
  {
   "source": [
    "# Removing duplicates"
   ],
   "cell_type": "markdown",
   "metadata": {}
  },
  {
   "cell_type": "code",
   "execution_count": 24,
   "metadata": {},
   "outputs": [
    {
     "output_type": "stream",
     "name": "stderr",
     "text": [
      "100%|██████████| 394/394 [02:00<00:00,  3.28it/s]\n",
      "197it [00:01, 186.90it/s]\n"
     ]
    }
   ],
   "source": [
    "df = final_df\n",
    "\n",
    "to_drop = []\n",
    "duplicated = df[df[['player_name', 'fee_cleaned']].duplicated()][['club_name', 'player_name']].drop_duplicates()\n",
    "for j, duplicate in tqdm(duplicated.iterrows(), total = len(duplicated)):\n",
    "    for i, row in df.iterrows():\n",
    "        if (row.club_name == duplicate.club_name) and (row.player_name == duplicate.player_name):\n",
    "            if not (row.league_y in row.league_x and row.league_y in row.league_name):\n",
    "                to_drop.append(i)\n",
    "\n",
    "df = df.drop(to_drop)\n",
    "\n",
    "for i, row in tqdm(df[df[['player_name', 'fee_cleaned']].duplicated()].iterrows()):\n",
    "    df = df[(df.player_name != row.player_name) | (df.club_name != row.club_name)]"
   ]
  },
  {
   "cell_type": "code",
   "execution_count": 25,
   "metadata": {},
   "outputs": [],
   "source": [
    "df.to_csv('data/clean_data.csv')"
   ]
  },
  {
   "cell_type": "code",
   "execution_count": null,
   "metadata": {},
   "outputs": [],
   "source": []
  }
 ]
}