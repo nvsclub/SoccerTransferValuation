{
 "metadata": {
  "language_info": {
   "codemirror_mode": {
    "name": "ipython",
    "version": 3
   },
   "file_extension": ".py",
   "mimetype": "text/x-python",
   "name": "python",
   "nbconvert_exporter": "python",
   "pygments_lexer": "ipython3",
   "version": "3.8.5-final"
  },
  "orig_nbformat": 2,
  "kernelspec": {
   "name": "python3",
   "display_name": "Python 3.8.5 64-bit",
   "metadata": {
    "interpreter": {
     "hash": "de5f22618689967f01319fb4cd070269718539d4a91f849d771b5bf4ab8f102b"
    }
   }
  }
 },
 "nbformat": 4,
 "nbformat_minor": 2,
 "cells": [
  {
   "cell_type": "code",
   "execution_count": 1,
   "metadata": {},
   "outputs": [],
   "source": [
    "import pandas as pd\n",
    "import numpy as np\n",
    "import matplotlib.pyplot as plt\n",
    "import seaborn as sns\n",
    "from tqdm import tqdm"
   ]
  },
  {
   "cell_type": "code",
   "execution_count": 2,
   "metadata": {},
   "outputs": [],
   "source": [
    "df = pd.read_csv('data/clean_data.csv')"
   ]
  },
  {
   "cell_type": "code",
   "execution_count": 3,
   "metadata": {},
   "outputs": [
    {
     "output_type": "execute_result",
     "data": {
      "text/plain": [
       "      Unnamed: 0          club_name        player_name  age_x  \\\n",
       "0              0       FC Barcelona             Neymar   25.0   \n",
       "1              1          AS Monaco      Kylian Mbappé   19.0   \n",
       "2              2  Borussia Dortmund    Ousmane Dembélé   20.0   \n",
       "3              3         SL Benfica         João Félix   19.0   \n",
       "4              4    Atlético Madrid  Antoine Griezmann   28.0   \n",
       "...          ...                ...                ...    ...   \n",
       "3165        4831         FC Utrecht      Rico Strieder   27.0   \n",
       "3166        4832        Barnsley FC       Mallik Wilks   21.0   \n",
       "3167        4833       Derby County      Mason Bennett   24.0   \n",
       "3168        4834        Aston Villa         James Bree   22.0   \n",
       "3169        4835        Aston Villa        Scott Hogan   28.0   \n",
       "\n",
       "              position_x   club_involved_name       fee transfer_movement  \\\n",
       "0            Left Winger  Paris Saint-Germain  £199.80m               out   \n",
       "1         Centre-Forward  Paris Saint-Germain  £130.50m               out   \n",
       "2           Right Winger         FC Barcelona  £124.20m               out   \n",
       "3         Second Striker      Atlético Madrid  £113.40m               out   \n",
       "4         Second Striker         FC Barcelona  £108.00m               out   \n",
       "...                  ...                  ...       ...               ...   \n",
       "3165  Defensive Midfield           PEC Zwolle         ?               out   \n",
       "3166         Left Winger            Hull City         ?               out   \n",
       "3167         Left Winger          Millwall FC         ?               out   \n",
       "3168          Right-Back           Luton Town         ?               out   \n",
       "3169      Centre-Forward      Birmingham City         ?               out   \n",
       "\n",
       "     transfer_period  fee_cleaned  ... CLaction  CLgoals CLassists CLMotM  \\\n",
       "0             Summer        199.8  ...     31.0     17.0       5.0    7.0   \n",
       "1             Summer        130.5  ...      9.0      6.0       0.0    1.0   \n",
       "2             Summer        124.2  ...      0.0      0.0       0.0    0.0   \n",
       "3             Summer        113.4  ...      0.0      0.0       0.0    0.0   \n",
       "4             Summer        108.0  ...     46.0     20.0       3.0    6.0   \n",
       "...              ...          ...  ...      ...      ...       ...    ...   \n",
       "3165          Summer          NaN  ...      0.0      0.0       0.0    0.0   \n",
       "3166          Summer          NaN  ...      0.0      0.0       0.0    0.0   \n",
       "3167          Summer          NaN  ...      0.0      0.0       0.0    0.0   \n",
       "3168          Summer          NaN  ...      0.0      0.0       0.0    0.0   \n",
       "3169          Summer          NaN  ...      0.0      0.0       0.0    0.0   \n",
       "\n",
       "     CLrating ELaction ELgoals  ELassists ELMotM ELrating  \n",
       "0      246.27      0.0     0.0        0.0    0.0     0.00  \n",
       "1       64.43      1.0     0.0        0.0    0.0     6.09  \n",
       "2        0.00      0.0     0.0        0.0    0.0     0.00  \n",
       "3        0.00      0.0     0.0        0.0    0.0     0.00  \n",
       "4      332.84      8.0     6.0        2.0    3.0    63.32  \n",
       "...       ...      ...     ...        ...    ...      ...  \n",
       "3165     0.00      0.0     0.0        0.0    0.0     0.00  \n",
       "3166     0.00      0.0     0.0        0.0    0.0     0.00  \n",
       "3167     0.00      0.0     0.0        0.0    0.0     0.00  \n",
       "3168     0.00      0.0     0.0        0.0    0.0     0.00  \n",
       "3169     0.00      0.0     0.0        0.0    0.0     0.00  \n",
       "\n",
       "[3170 rows x 99 columns]"
      ],
      "text/html": "<div>\n<style scoped>\n    .dataframe tbody tr th:only-of-type {\n        vertical-align: middle;\n    }\n\n    .dataframe tbody tr th {\n        vertical-align: top;\n    }\n\n    .dataframe thead th {\n        text-align: right;\n    }\n</style>\n<table border=\"1\" class=\"dataframe\">\n  <thead>\n    <tr style=\"text-align: right;\">\n      <th></th>\n      <th>Unnamed: 0</th>\n      <th>club_name</th>\n      <th>player_name</th>\n      <th>age_x</th>\n      <th>position_x</th>\n      <th>club_involved_name</th>\n      <th>fee</th>\n      <th>transfer_movement</th>\n      <th>transfer_period</th>\n      <th>fee_cleaned</th>\n      <th>...</th>\n      <th>CLaction</th>\n      <th>CLgoals</th>\n      <th>CLassists</th>\n      <th>CLMotM</th>\n      <th>CLrating</th>\n      <th>ELaction</th>\n      <th>ELgoals</th>\n      <th>ELassists</th>\n      <th>ELMotM</th>\n      <th>ELrating</th>\n    </tr>\n  </thead>\n  <tbody>\n    <tr>\n      <th>0</th>\n      <td>0</td>\n      <td>FC Barcelona</td>\n      <td>Neymar</td>\n      <td>25.0</td>\n      <td>Left Winger</td>\n      <td>Paris Saint-Germain</td>\n      <td>£199.80m</td>\n      <td>out</td>\n      <td>Summer</td>\n      <td>199.8</td>\n      <td>...</td>\n      <td>31.0</td>\n      <td>17.0</td>\n      <td>5.0</td>\n      <td>7.0</td>\n      <td>246.27</td>\n      <td>0.0</td>\n      <td>0.0</td>\n      <td>0.0</td>\n      <td>0.0</td>\n      <td>0.00</td>\n    </tr>\n    <tr>\n      <th>1</th>\n      <td>1</td>\n      <td>AS Monaco</td>\n      <td>Kylian Mbappé</td>\n      <td>19.0</td>\n      <td>Centre-Forward</td>\n      <td>Paris Saint-Germain</td>\n      <td>£130.50m</td>\n      <td>out</td>\n      <td>Summer</td>\n      <td>130.5</td>\n      <td>...</td>\n      <td>9.0</td>\n      <td>6.0</td>\n      <td>0.0</td>\n      <td>1.0</td>\n      <td>64.43</td>\n      <td>1.0</td>\n      <td>0.0</td>\n      <td>0.0</td>\n      <td>0.0</td>\n      <td>6.09</td>\n    </tr>\n    <tr>\n      <th>2</th>\n      <td>2</td>\n      <td>Borussia Dortmund</td>\n      <td>Ousmane Dembélé</td>\n      <td>20.0</td>\n      <td>Right Winger</td>\n      <td>FC Barcelona</td>\n      <td>£124.20m</td>\n      <td>out</td>\n      <td>Summer</td>\n      <td>124.2</td>\n      <td>...</td>\n      <td>0.0</td>\n      <td>0.0</td>\n      <td>0.0</td>\n      <td>0.0</td>\n      <td>0.00</td>\n      <td>0.0</td>\n      <td>0.0</td>\n      <td>0.0</td>\n      <td>0.0</td>\n      <td>0.00</td>\n    </tr>\n    <tr>\n      <th>3</th>\n      <td>3</td>\n      <td>SL Benfica</td>\n      <td>João Félix</td>\n      <td>19.0</td>\n      <td>Second Striker</td>\n      <td>Atlético Madrid</td>\n      <td>£113.40m</td>\n      <td>out</td>\n      <td>Summer</td>\n      <td>113.4</td>\n      <td>...</td>\n      <td>0.0</td>\n      <td>0.0</td>\n      <td>0.0</td>\n      <td>0.0</td>\n      <td>0.00</td>\n      <td>0.0</td>\n      <td>0.0</td>\n      <td>0.0</td>\n      <td>0.0</td>\n      <td>0.00</td>\n    </tr>\n    <tr>\n      <th>4</th>\n      <td>4</td>\n      <td>Atlético Madrid</td>\n      <td>Antoine Griezmann</td>\n      <td>28.0</td>\n      <td>Second Striker</td>\n      <td>FC Barcelona</td>\n      <td>£108.00m</td>\n      <td>out</td>\n      <td>Summer</td>\n      <td>108.0</td>\n      <td>...</td>\n      <td>46.0</td>\n      <td>20.0</td>\n      <td>3.0</td>\n      <td>6.0</td>\n      <td>332.84</td>\n      <td>8.0</td>\n      <td>6.0</td>\n      <td>2.0</td>\n      <td>3.0</td>\n      <td>63.32</td>\n    </tr>\n    <tr>\n      <th>...</th>\n      <td>...</td>\n      <td>...</td>\n      <td>...</td>\n      <td>...</td>\n      <td>...</td>\n      <td>...</td>\n      <td>...</td>\n      <td>...</td>\n      <td>...</td>\n      <td>...</td>\n      <td>...</td>\n      <td>...</td>\n      <td>...</td>\n      <td>...</td>\n      <td>...</td>\n      <td>...</td>\n      <td>...</td>\n      <td>...</td>\n      <td>...</td>\n      <td>...</td>\n      <td>...</td>\n    </tr>\n    <tr>\n      <th>3165</th>\n      <td>4831</td>\n      <td>FC Utrecht</td>\n      <td>Rico Strieder</td>\n      <td>27.0</td>\n      <td>Defensive Midfield</td>\n      <td>PEC Zwolle</td>\n      <td>?</td>\n      <td>out</td>\n      <td>Summer</td>\n      <td>NaN</td>\n      <td>...</td>\n      <td>0.0</td>\n      <td>0.0</td>\n      <td>0.0</td>\n      <td>0.0</td>\n      <td>0.00</td>\n      <td>0.0</td>\n      <td>0.0</td>\n      <td>0.0</td>\n      <td>0.0</td>\n      <td>0.00</td>\n    </tr>\n    <tr>\n      <th>3166</th>\n      <td>4832</td>\n      <td>Barnsley FC</td>\n      <td>Mallik Wilks</td>\n      <td>21.0</td>\n      <td>Left Winger</td>\n      <td>Hull City</td>\n      <td>?</td>\n      <td>out</td>\n      <td>Summer</td>\n      <td>NaN</td>\n      <td>...</td>\n      <td>0.0</td>\n      <td>0.0</td>\n      <td>0.0</td>\n      <td>0.0</td>\n      <td>0.00</td>\n      <td>0.0</td>\n      <td>0.0</td>\n      <td>0.0</td>\n      <td>0.0</td>\n      <td>0.00</td>\n    </tr>\n    <tr>\n      <th>3167</th>\n      <td>4833</td>\n      <td>Derby County</td>\n      <td>Mason Bennett</td>\n      <td>24.0</td>\n      <td>Left Winger</td>\n      <td>Millwall FC</td>\n      <td>?</td>\n      <td>out</td>\n      <td>Summer</td>\n      <td>NaN</td>\n      <td>...</td>\n      <td>0.0</td>\n      <td>0.0</td>\n      <td>0.0</td>\n      <td>0.0</td>\n      <td>0.00</td>\n      <td>0.0</td>\n      <td>0.0</td>\n      <td>0.0</td>\n      <td>0.0</td>\n      <td>0.00</td>\n    </tr>\n    <tr>\n      <th>3168</th>\n      <td>4834</td>\n      <td>Aston Villa</td>\n      <td>James Bree</td>\n      <td>22.0</td>\n      <td>Right-Back</td>\n      <td>Luton Town</td>\n      <td>?</td>\n      <td>out</td>\n      <td>Summer</td>\n      <td>NaN</td>\n      <td>...</td>\n      <td>0.0</td>\n      <td>0.0</td>\n      <td>0.0</td>\n      <td>0.0</td>\n      <td>0.00</td>\n      <td>0.0</td>\n      <td>0.0</td>\n      <td>0.0</td>\n      <td>0.0</td>\n      <td>0.00</td>\n    </tr>\n    <tr>\n      <th>3169</th>\n      <td>4835</td>\n      <td>Aston Villa</td>\n      <td>Scott Hogan</td>\n      <td>28.0</td>\n      <td>Centre-Forward</td>\n      <td>Birmingham City</td>\n      <td>?</td>\n      <td>out</td>\n      <td>Summer</td>\n      <td>NaN</td>\n      <td>...</td>\n      <td>0.0</td>\n      <td>0.0</td>\n      <td>0.0</td>\n      <td>0.0</td>\n      <td>0.00</td>\n      <td>0.0</td>\n      <td>0.0</td>\n      <td>0.0</td>\n      <td>0.0</td>\n      <td>0.00</td>\n    </tr>\n  </tbody>\n</table>\n<p>3170 rows × 99 columns</p>\n</div>"
     },
     "metadata": {},
     "execution_count": 3
    }
   ],
   "source": [
    "df"
   ]
  },
  {
   "cell_type": "code",
   "execution_count": 4,
   "metadata": {},
   "outputs": [],
   "source": [
    "# Cleaning a little bit more"
   ]
  },
  {
   "cell_type": "code",
   "execution_count": 5,
   "metadata": {},
   "outputs": [],
   "source": [
    "df = df.drop('dribledPast', axis = 1)\n",
    "df = df[df.country != 'Montserrat'] # No country data\n",
    "df = df[df.country != 'Guadeloupe'] # No country data"
   ]
  },
  {
   "cell_type": "code",
   "execution_count": 6,
   "metadata": {},
   "outputs": [],
   "source": [
    "df.balance = df.balance.str.replace('k', '000').str.replace('m', '000000').str.replace('b', '000000000').str.replace('£', '').astype(int)\n",
    "df.wage = df.wage.str.replace('k', '000').str.replace('m', '000000').str.replace('£', '').astype(int)\n",
    "df.wagebudget = df.wagebudget.str.replace('k', '000').str.replace('m', '000000').str.replace('£', '').astype(int)\n",
    "df.value = df.value.str.replace('k', '000').str.replace('m', '000000').str.replace('£', '').astype(int)\n",
    "df.cost = df.cost.str.replace('k', '000').str.replace('m', '000000').str.replace('£', '').astype(int)\n",
    "df.injprone = df.injprone.str.replace('%', '').astype(int)"
   ]
  },
  {
   "cell_type": "code",
   "execution_count": 7,
   "metadata": {},
   "outputs": [],
   "source": [
    "# Contract duration\n",
    "df['contract'] = df.expires.str.split('-', expand=True)[2].astype(int) - df.year_x + 0.5 * (df.expires.str.split('-', expand=True)[1] == '12')\n",
    "df = df[df['contract'] >= 0]"
   ]
  },
  {
   "cell_type": "code",
   "execution_count": 8,
   "metadata": {},
   "outputs": [],
   "source": [
    "# Remove unknown fees\n",
    "df = df[df.fee != '?']"
   ]
  },
  {
   "cell_type": "code",
   "execution_count": 9,
   "metadata": {},
   "outputs": [],
   "source": [
    "# Positional features\n",
    "df['GK'] = df.position_x.str.contains('Goalkeeper')\n",
    "df['DEF'] = df.position_x.str.contains('Back') | df.position_x.str.contains('Defensive')\n",
    "df['MID'] = df.position_x.str.contains('Mid')\n",
    "df['STR'] = df.position_x.str.contains('Striker') | df.position_x.str.contains('Forward') | df.position_x.str.contains('Winger')\n",
    "df['Wing'] = df.position_x.str.contains('Winger') | df.position_x.str.contains('Right') | df.position_x.str.contains('Left')\n",
    "df['Central'] = df.position_x.str.contains('Centr') | df.position_x.str.contains('Striker')"
   ]
  },
  {
   "cell_type": "code",
   "execution_count": 10,
   "metadata": {},
   "outputs": [],
   "source": [
    "uefa_rankings = pd.DataFrame(\n",
    "    [\n",
    "        ['Primera Division', 1],\n",
    "        ['Premier League', 2],\n",
    "        ['Serie A', 3],\n",
    "        ['1 Bundesliga', 4],\n",
    "        ['Ligue 1', 5],\n",
    "        ['Championship', 5.5],\n",
    "        ['Liga Nos', 6],\n",
    "        ['Premier Liga', 7],\n",
    "        ['Eredivisie', 8]\n",
    "    ], columns = ['league_name', 'UEFAranking']\n",
    ")"
   ]
  },
  {
   "cell_type": "code",
   "execution_count": 11,
   "metadata": {},
   "outputs": [],
   "source": [
    "# If player has no country, then country = country where currently playing\n",
    "df.country = df.country.fillna(df.clubcountry)"
   ]
  },
  {
   "cell_type": "code",
   "execution_count": 12,
   "metadata": {},
   "outputs": [],
   "source": [
    "df = df.merge(uefa_rankings, on='league_name', how='left')"
   ]
  },
  {
   "cell_type": "code",
   "execution_count": 13,
   "metadata": {},
   "outputs": [],
   "source": [
    "# Adding Country Data"
   ]
  },
  {
   "cell_type": "code",
   "execution_count": 14,
   "metadata": {},
   "outputs": [],
   "source": [
    "gdp = pd.read_csv('country data/GDPpc.csv')[['Country Name', '2019']].rename(columns={'Country Name':'country', '2019':'GDP'})\n",
    "pop = pd.read_csv('country data/pop.csv')[['Country Name', '2019']].rename(columns={'Country Name':'country', '2019':'CountryPopulation'})\n",
    "forex = pd.read_csv('country data/forex.csv')"
   ]
  },
  {
   "cell_type": "code",
   "execution_count": 15,
   "metadata": {},
   "outputs": [],
   "source": [
    "df = df.merge(gdp, on='country', how='left')\n",
    "df = df.merge(pop, on='country', how='left')\n",
    "df = df.merge(forex, on='year', how='left')\n",
    "df = df.drop(['year'], axis=1)"
   ]
  },
  {
   "cell_type": "code",
   "execution_count": 16,
   "metadata": {},
   "outputs": [],
   "source": [
    "# Target engineering\n",
    "df['fee_log'] = np.log(df.fee_cleaned + 1)"
   ]
  },
  {
   "cell_type": "code",
   "execution_count": 17,
   "metadata": {},
   "outputs": [],
   "source": [
    "# Renaming variables\n",
    "df = df.rename(columns={'age_x':'age', 'rating_x':'ratingFM', 'after_loan':'afterloan', 'rating_y':'ratingWS', 'year_x':'year'})"
   ]
  },
  {
   "cell_type": "code",
   "execution_count": 18,
   "metadata": {},
   "outputs": [],
   "source": [
    "identifiers = ['player_name', 'club_involved_name', 'season']\n",
    "player_var = ['age', 'wage', 'value', 'cost', 'ratingFM', 'potential', 'injprone', 'afterloan', 'contract']\n",
    "team_var = ['reputation', 'balance', 'wagebudget', 'trainingfacilities', 'youthfacilities', 'youthacademy', 'stadiumcap', 'avgattendance']\n",
    "stats_var = ['gamesPlayed', 'subedOn', 'MotM', 'ratingWS']\n",
    "offensive_var = ['goalsScored', 'assists', 'shots', 'passes', 'passesSuccess', 'aerialsWon', 'keyPasses', 'dribbles', 'offsides', 'dispossessed', 'badTouch', 'crosses', 'longBalls', 'throughBalls']\n",
    "defensive_var = ['yellow', 'red', 'tackles', 'interceptions', 'fouls', 'offsidesProvoked', 'clearances', 'blockedPass', 'ownGoal']\n",
    "previous_var = ['ATaction', 'ATgoals', 'ATassists', 'ATshots', 'ATpasses', 'ATpassesSuccess', 'ATtackles', 'ATinterceptions', 'ATMotM', 'ATrating', 'CLaction', 'CLgoals', 'CLassists', 'CLMotM', 'CLrating', 'ELaction', 'ELgoals', 'ELassists', 'ELMotM', 'ELrating']\n",
    "pos_var = ['GK', 'DEF', 'MID', 'STR', 'Wing', 'Central']\n",
    "external_var = ['year', 'GDP', 'CountryPopulation', 'UEFAranking', 'eurgbp']\n",
    "features = player_var + team_var + stats_var + offensive_var + defensive_var + previous_var + pos_var + external_var\n",
    "labels = ['fee_cleaned', 'fee_log']"
   ]
  },
  {
   "cell_type": "code",
   "execution_count": 19,
   "metadata": {},
   "outputs": [
    {
     "output_type": "execute_result",
     "data": {
      "text/plain": [
       "75"
      ]
     },
     "metadata": {},
     "execution_count": 19
    }
   ],
   "source": [
    "len(features)"
   ]
  },
  {
   "cell_type": "code",
   "execution_count": 20,
   "metadata": {},
   "outputs": [],
   "source": [
    "# Avoid div by 0\n",
    "df.gamesPlayed = [max(1, i) for i in df.gamesPlayed]\n",
    "df.ATaction = [max(1, i) for i in df.ATaction]\n",
    "df.CLaction = [max(1, i) for i in df.CLaction]\n",
    "df.ELaction = [max(1, i) for i in df.ELaction]"
   ]
  },
  {
   "cell_type": "code",
   "execution_count": 21,
   "metadata": {},
   "outputs": [],
   "source": [
    "# Normalize features to per-game\n",
    "for feature in offensive_var + defensive_var + ['MotM', 'ratingWS']:\n",
    "    df[feature] /= df.gamesPlayed\n",
    "for feature in ['ATgoals', 'ATassists', 'ATshots', 'ATpasses', 'ATpassesSuccess', 'ATtackles', 'ATinterceptions', 'ATMotM', 'ATrating']:\n",
    "    df[feature] /= df.ATaction\n",
    "for feature in ['CLgoals', 'CLassists', 'CLMotM', 'CLrating']:\n",
    "    df[feature] /= df.CLaction\n",
    "for feature in ['ELgoals', 'ELassists', 'ELMotM', 'ELrating']:\n",
    "    df[feature] /= df.ELaction"
   ]
  },
  {
   "cell_type": "code",
   "execution_count": 22,
   "metadata": {},
   "outputs": [],
   "source": [
    "# Feature normalization -> to 0 mean, 1 variance\n",
    "from sklearn.preprocessing import StandardScaler"
   ]
  },
  {
   "cell_type": "code",
   "execution_count": 23,
   "metadata": {},
   "outputs": [
    {
     "output_type": "execute_result",
     "data": {
      "text/plain": [
       "       age    wage     value       cost  ratingFM  potential  injprone  \\\n",
       "0     25.0  495000  62000000  200000000     90.00      91.50        30   \n",
       "1     19.0  308000  53000000  151000000     78.60     -10.00        30   \n",
       "2     20.0   50000  25000000  121000000     75.30     -95.00        25   \n",
       "3     19.0    4000   9000000   52000000     79.80      92.30        20   \n",
       "4     28.0  791000  74000000  120000000     94.70      95.70        25   \n",
       "...    ...     ...       ...        ...       ...        ...       ...   \n",
       "3002  31.0  180000  30000000    7000000     84.00      87.60        50   \n",
       "3003  25.0   40000   8000000   14000000     73.50      76.00        50   \n",
       "3004  31.0   31000   3000000    7000000     76.58      76.58         0   \n",
       "3005  30.0   15000   3000000    1000000     68.22      68.90         0   \n",
       "3006  33.0   23000   1000000    2000000     73.43      73.43         0   \n",
       "\n",
       "      afterloan  contract  reputation  ...    DEF    MID    STR   Wing  \\\n",
       "0             0       4.0       187.0  ...  False  False   True   True   \n",
       "1             1       0.0       172.0  ...  False  False   True  False   \n",
       "2             0       4.0       159.0  ...  False  False   True   True   \n",
       "3             0       4.0       163.0  ...  False  False   True  False   \n",
       "4             0       4.0       174.0  ...  False  False   True  False   \n",
       "...         ...       ...         ...  ...    ...    ...    ...    ...   \n",
       "3002          1       0.0       162.0  ...  False   True  False  False   \n",
       "3003          1       0.0       111.0  ...  False   True  False  False   \n",
       "3004          1       0.0       134.0  ...  False  False   True  False   \n",
       "3005          0       0.0       115.0  ...   True  False  False   True   \n",
       "3006          1       1.0       115.0  ...   True  False  False  False   \n",
       "\n",
       "      Central  year           GDP  CountryPopulation  UEFAranking  eurgbp  \n",
       "0       False  2017  11121.739915        211049527.0          1.0  0.8775  \n",
       "1        True  2018  44317.392315         67059887.0          5.0  0.8842  \n",
       "2       False  2017  44317.392315         67059887.0          4.0  0.8775  \n",
       "3        True  2019  24590.425797         10269417.0          6.0  0.8964  \n",
       "4        True  2019  44317.392315         67059887.0          1.0  0.8964  \n",
       "...       ...   ...           ...                ...          ...     ...  \n",
       "3002    False  2020   4732.069506          2957731.0          2.0  0.9018  \n",
       "3003    False  2016  14597.308096          3461734.0          2.0  0.8395  \n",
       "3004     True  2014  35613.842286         60297396.0          3.0  0.7921  \n",
       "3005    False  2014  43688.437455         66834405.0          5.5  0.7921  \n",
       "3006     True  2014  35613.842286         60297396.0          3.0  0.7921  \n",
       "\n",
       "[3007 rows x 75 columns]"
      ],
      "text/html": "<div>\n<style scoped>\n    .dataframe tbody tr th:only-of-type {\n        vertical-align: middle;\n    }\n\n    .dataframe tbody tr th {\n        vertical-align: top;\n    }\n\n    .dataframe thead th {\n        text-align: right;\n    }\n</style>\n<table border=\"1\" class=\"dataframe\">\n  <thead>\n    <tr style=\"text-align: right;\">\n      <th></th>\n      <th>age</th>\n      <th>wage</th>\n      <th>value</th>\n      <th>cost</th>\n      <th>ratingFM</th>\n      <th>potential</th>\n      <th>injprone</th>\n      <th>afterloan</th>\n      <th>contract</th>\n      <th>reputation</th>\n      <th>...</th>\n      <th>DEF</th>\n      <th>MID</th>\n      <th>STR</th>\n      <th>Wing</th>\n      <th>Central</th>\n      <th>year</th>\n      <th>GDP</th>\n      <th>CountryPopulation</th>\n      <th>UEFAranking</th>\n      <th>eurgbp</th>\n    </tr>\n  </thead>\n  <tbody>\n    <tr>\n      <th>0</th>\n      <td>25.0</td>\n      <td>495000</td>\n      <td>62000000</td>\n      <td>200000000</td>\n      <td>90.00</td>\n      <td>91.50</td>\n      <td>30</td>\n      <td>0</td>\n      <td>4.0</td>\n      <td>187.0</td>\n      <td>...</td>\n      <td>False</td>\n      <td>False</td>\n      <td>True</td>\n      <td>True</td>\n      <td>False</td>\n      <td>2017</td>\n      <td>11121.739915</td>\n      <td>211049527.0</td>\n      <td>1.0</td>\n      <td>0.8775</td>\n    </tr>\n    <tr>\n      <th>1</th>\n      <td>19.0</td>\n      <td>308000</td>\n      <td>53000000</td>\n      <td>151000000</td>\n      <td>78.60</td>\n      <td>-10.00</td>\n      <td>30</td>\n      <td>1</td>\n      <td>0.0</td>\n      <td>172.0</td>\n      <td>...</td>\n      <td>False</td>\n      <td>False</td>\n      <td>True</td>\n      <td>False</td>\n      <td>True</td>\n      <td>2018</td>\n      <td>44317.392315</td>\n      <td>67059887.0</td>\n      <td>5.0</td>\n      <td>0.8842</td>\n    </tr>\n    <tr>\n      <th>2</th>\n      <td>20.0</td>\n      <td>50000</td>\n      <td>25000000</td>\n      <td>121000000</td>\n      <td>75.30</td>\n      <td>-95.00</td>\n      <td>25</td>\n      <td>0</td>\n      <td>4.0</td>\n      <td>159.0</td>\n      <td>...</td>\n      <td>False</td>\n      <td>False</td>\n      <td>True</td>\n      <td>True</td>\n      <td>False</td>\n      <td>2017</td>\n      <td>44317.392315</td>\n      <td>67059887.0</td>\n      <td>4.0</td>\n      <td>0.8775</td>\n    </tr>\n    <tr>\n      <th>3</th>\n      <td>19.0</td>\n      <td>4000</td>\n      <td>9000000</td>\n      <td>52000000</td>\n      <td>79.80</td>\n      <td>92.30</td>\n      <td>20</td>\n      <td>0</td>\n      <td>4.0</td>\n      <td>163.0</td>\n      <td>...</td>\n      <td>False</td>\n      <td>False</td>\n      <td>True</td>\n      <td>False</td>\n      <td>True</td>\n      <td>2019</td>\n      <td>24590.425797</td>\n      <td>10269417.0</td>\n      <td>6.0</td>\n      <td>0.8964</td>\n    </tr>\n    <tr>\n      <th>4</th>\n      <td>28.0</td>\n      <td>791000</td>\n      <td>74000000</td>\n      <td>120000000</td>\n      <td>94.70</td>\n      <td>95.70</td>\n      <td>25</td>\n      <td>0</td>\n      <td>4.0</td>\n      <td>174.0</td>\n      <td>...</td>\n      <td>False</td>\n      <td>False</td>\n      <td>True</td>\n      <td>False</td>\n      <td>True</td>\n      <td>2019</td>\n      <td>44317.392315</td>\n      <td>67059887.0</td>\n      <td>1.0</td>\n      <td>0.8964</td>\n    </tr>\n    <tr>\n      <th>...</th>\n      <td>...</td>\n      <td>...</td>\n      <td>...</td>\n      <td>...</td>\n      <td>...</td>\n      <td>...</td>\n      <td>...</td>\n      <td>...</td>\n      <td>...</td>\n      <td>...</td>\n      <td>...</td>\n      <td>...</td>\n      <td>...</td>\n      <td>...</td>\n      <td>...</td>\n      <td>...</td>\n      <td>...</td>\n      <td>...</td>\n      <td>...</td>\n      <td>...</td>\n      <td>...</td>\n    </tr>\n    <tr>\n      <th>3002</th>\n      <td>31.0</td>\n      <td>180000</td>\n      <td>30000000</td>\n      <td>7000000</td>\n      <td>84.00</td>\n      <td>87.60</td>\n      <td>50</td>\n      <td>1</td>\n      <td>0.0</td>\n      <td>162.0</td>\n      <td>...</td>\n      <td>False</td>\n      <td>True</td>\n      <td>False</td>\n      <td>False</td>\n      <td>False</td>\n      <td>2020</td>\n      <td>4732.069506</td>\n      <td>2957731.0</td>\n      <td>2.0</td>\n      <td>0.9018</td>\n    </tr>\n    <tr>\n      <th>3003</th>\n      <td>25.0</td>\n      <td>40000</td>\n      <td>8000000</td>\n      <td>14000000</td>\n      <td>73.50</td>\n      <td>76.00</td>\n      <td>50</td>\n      <td>1</td>\n      <td>0.0</td>\n      <td>111.0</td>\n      <td>...</td>\n      <td>False</td>\n      <td>True</td>\n      <td>False</td>\n      <td>False</td>\n      <td>False</td>\n      <td>2016</td>\n      <td>14597.308096</td>\n      <td>3461734.0</td>\n      <td>2.0</td>\n      <td>0.8395</td>\n    </tr>\n    <tr>\n      <th>3004</th>\n      <td>31.0</td>\n      <td>31000</td>\n      <td>3000000</td>\n      <td>7000000</td>\n      <td>76.58</td>\n      <td>76.58</td>\n      <td>0</td>\n      <td>1</td>\n      <td>0.0</td>\n      <td>134.0</td>\n      <td>...</td>\n      <td>False</td>\n      <td>False</td>\n      <td>True</td>\n      <td>False</td>\n      <td>True</td>\n      <td>2014</td>\n      <td>35613.842286</td>\n      <td>60297396.0</td>\n      <td>3.0</td>\n      <td>0.7921</td>\n    </tr>\n    <tr>\n      <th>3005</th>\n      <td>30.0</td>\n      <td>15000</td>\n      <td>3000000</td>\n      <td>1000000</td>\n      <td>68.22</td>\n      <td>68.90</td>\n      <td>0</td>\n      <td>0</td>\n      <td>0.0</td>\n      <td>115.0</td>\n      <td>...</td>\n      <td>True</td>\n      <td>False</td>\n      <td>False</td>\n      <td>True</td>\n      <td>False</td>\n      <td>2014</td>\n      <td>43688.437455</td>\n      <td>66834405.0</td>\n      <td>5.5</td>\n      <td>0.7921</td>\n    </tr>\n    <tr>\n      <th>3006</th>\n      <td>33.0</td>\n      <td>23000</td>\n      <td>1000000</td>\n      <td>2000000</td>\n      <td>73.43</td>\n      <td>73.43</td>\n      <td>0</td>\n      <td>1</td>\n      <td>1.0</td>\n      <td>115.0</td>\n      <td>...</td>\n      <td>True</td>\n      <td>False</td>\n      <td>False</td>\n      <td>False</td>\n      <td>True</td>\n      <td>2014</td>\n      <td>35613.842286</td>\n      <td>60297396.0</td>\n      <td>3.0</td>\n      <td>0.7921</td>\n    </tr>\n  </tbody>\n</table>\n<p>3007 rows × 75 columns</p>\n</div>"
     },
     "metadata": {},
     "execution_count": 23
    }
   ],
   "source": [
    "df[features]"
   ]
  },
  {
   "cell_type": "code",
   "execution_count": 24,
   "metadata": {},
   "outputs": [],
   "source": [
    "scaler = StandardScaler()\n",
    "scaler.fit(df[features])\n",
    "df[features] = scaler.transform(df[features])"
   ]
  },
  {
   "cell_type": "code",
   "execution_count": 25,
   "metadata": {},
   "outputs": [],
   "source": [
    "df = df[identifiers + features + labels].dropna()"
   ]
  },
  {
   "cell_type": "code",
   "execution_count": 26,
   "metadata": {},
   "outputs": [
    {
     "output_type": "execute_result",
     "data": {
      "text/plain": [
       "             player_name     club_involved_name     season       age  \\\n",
       "0                 Neymar    Paris Saint-Germain  2017/2018 -0.585046   \n",
       "1          Kylian Mbappé    Paris Saint-Germain  2018/2019 -2.049648   \n",
       "2        Ousmane Dembélé           FC Barcelona  2017/2018 -1.805548   \n",
       "3             João Félix        Atlético Madrid  2019/2020 -2.049648   \n",
       "4      Antoine Griezmann           FC Barcelona  2019/2020  0.147256   \n",
       "...                  ...                    ...        ...       ...   \n",
       "3001     Daniele Capelli              AC Cesena  2015/2016  0.391356   \n",
       "3002  Henrikh Mkhitaryan                AS Roma  2020/2021  0.879557   \n",
       "3003      Gastón Ramírez       Middlesbrough FC  2016/2017 -0.585046   \n",
       "3004     Antonio Cassano               Parma FC  2014/2015  0.879557   \n",
       "3005     Jean Beausejour  SC Cambuur-Leeuwarden  2014/2015  0.635457   \n",
       "\n",
       "           wage     value       cost  ratingFM  potential  injprone  ...  \\\n",
       "0     12.315201  7.299882  11.404813  3.330984   0.957797 -0.151163  ...   \n",
       "1      7.434713  6.148324   8.490667  1.275699  -3.630068 -0.151163  ...   \n",
       "2      0.701205  2.565702   6.706495  0.680749  -7.472122 -0.377982  ...   \n",
       "3     -0.499342  0.518489   2.602902  1.492045   0.993957 -0.604802  ...   \n",
       "4     20.040466  8.835291   6.647023  4.178338   1.147640 -0.377982  ...   \n",
       "...         ...       ...        ...       ...        ...       ...  ...   \n",
       "3001  -0.368848 -0.505117  -0.430189 -0.451461   0.014912  1.436573  ...   \n",
       "3002   4.094058  3.205456  -0.073354  2.249255   0.781514  0.756115  ...   \n",
       "3003   0.440217  0.390539   0.342952  0.356230   0.257187  0.756115  ...   \n",
       "3004   0.205327 -0.249215  -0.073354  0.911517   0.283403 -1.512079  ...   \n",
       "3005  -0.212255 -0.249215  -0.430189 -0.595691  -0.063737 -1.512079  ...   \n",
       "\n",
       "           STR      Wing   Central      year       GDP  CountryPopulation  \\\n",
       "0     1.509692  1.526437 -0.974713  0.053782 -1.434860           3.183356   \n",
       "1     1.509692 -0.655120  1.025943  0.565559  0.437768           0.177493   \n",
       "2     1.509692  1.526437 -0.974713  0.053782  0.437768           0.177493   \n",
       "3     1.509692 -0.655120  1.025943  1.077336 -0.675067          -1.008040   \n",
       "4     1.509692 -0.655120  1.025943  1.077336  0.437768           0.177493   \n",
       "...        ...       ...       ...       ...       ...                ...   \n",
       "3001 -0.662387 -0.655120  1.025943 -0.969772 -0.053215           0.036322   \n",
       "3002 -0.662387 -0.655120 -0.974713  1.589113 -1.795314          -1.160675   \n",
       "3003 -0.662387 -0.655120 -0.974713 -0.457995 -1.238797          -1.150154   \n",
       "3004  1.509692 -0.655120  1.025943 -1.481549 -0.053215           0.036322   \n",
       "3005 -0.662387  1.526437 -0.974713 -1.481549  0.402287           0.172786   \n",
       "\n",
       "      UEFAranking    eurgbp  fee_cleaned   fee_log  \n",
       "0       -1.703498  0.565087        199.8  5.302309  \n",
       "1        0.183647  0.668371        130.5  4.879007  \n",
       "2       -0.288139  0.565087        124.2  4.829912  \n",
       "3        0.655433  0.856442        113.4  4.739701  \n",
       "4       -1.703498  0.856442        108.0  4.691348  \n",
       "...           ...       ...          ...       ...  \n",
       "3001    -0.759925 -1.964614          0.0  0.000000  \n",
       "3002    -1.231711  0.939686          0.0  0.000000  \n",
       "3003    -1.231711 -0.020706          0.0  0.000000  \n",
       "3004    -0.759925 -0.751406          0.0  0.000000  \n",
       "3005     0.419540 -0.751406          0.0  0.000000  \n",
       "\n",
       "[2949 rows x 80 columns]"
      ],
      "text/html": "<div>\n<style scoped>\n    .dataframe tbody tr th:only-of-type {\n        vertical-align: middle;\n    }\n\n    .dataframe tbody tr th {\n        vertical-align: top;\n    }\n\n    .dataframe thead th {\n        text-align: right;\n    }\n</style>\n<table border=\"1\" class=\"dataframe\">\n  <thead>\n    <tr style=\"text-align: right;\">\n      <th></th>\n      <th>player_name</th>\n      <th>club_involved_name</th>\n      <th>season</th>\n      <th>age</th>\n      <th>wage</th>\n      <th>value</th>\n      <th>cost</th>\n      <th>ratingFM</th>\n      <th>potential</th>\n      <th>injprone</th>\n      <th>...</th>\n      <th>STR</th>\n      <th>Wing</th>\n      <th>Central</th>\n      <th>year</th>\n      <th>GDP</th>\n      <th>CountryPopulation</th>\n      <th>UEFAranking</th>\n      <th>eurgbp</th>\n      <th>fee_cleaned</th>\n      <th>fee_log</th>\n    </tr>\n  </thead>\n  <tbody>\n    <tr>\n      <th>0</th>\n      <td>Neymar</td>\n      <td>Paris Saint-Germain</td>\n      <td>2017/2018</td>\n      <td>-0.585046</td>\n      <td>12.315201</td>\n      <td>7.299882</td>\n      <td>11.404813</td>\n      <td>3.330984</td>\n      <td>0.957797</td>\n      <td>-0.151163</td>\n      <td>...</td>\n      <td>1.509692</td>\n      <td>1.526437</td>\n      <td>-0.974713</td>\n      <td>0.053782</td>\n      <td>-1.434860</td>\n      <td>3.183356</td>\n      <td>-1.703498</td>\n      <td>0.565087</td>\n      <td>199.8</td>\n      <td>5.302309</td>\n    </tr>\n    <tr>\n      <th>1</th>\n      <td>Kylian Mbappé</td>\n      <td>Paris Saint-Germain</td>\n      <td>2018/2019</td>\n      <td>-2.049648</td>\n      <td>7.434713</td>\n      <td>6.148324</td>\n      <td>8.490667</td>\n      <td>1.275699</td>\n      <td>-3.630068</td>\n      <td>-0.151163</td>\n      <td>...</td>\n      <td>1.509692</td>\n      <td>-0.655120</td>\n      <td>1.025943</td>\n      <td>0.565559</td>\n      <td>0.437768</td>\n      <td>0.177493</td>\n      <td>0.183647</td>\n      <td>0.668371</td>\n      <td>130.5</td>\n      <td>4.879007</td>\n    </tr>\n    <tr>\n      <th>2</th>\n      <td>Ousmane Dembélé</td>\n      <td>FC Barcelona</td>\n      <td>2017/2018</td>\n      <td>-1.805548</td>\n      <td>0.701205</td>\n      <td>2.565702</td>\n      <td>6.706495</td>\n      <td>0.680749</td>\n      <td>-7.472122</td>\n      <td>-0.377982</td>\n      <td>...</td>\n      <td>1.509692</td>\n      <td>1.526437</td>\n      <td>-0.974713</td>\n      <td>0.053782</td>\n      <td>0.437768</td>\n      <td>0.177493</td>\n      <td>-0.288139</td>\n      <td>0.565087</td>\n      <td>124.2</td>\n      <td>4.829912</td>\n    </tr>\n    <tr>\n      <th>3</th>\n      <td>João Félix</td>\n      <td>Atlético Madrid</td>\n      <td>2019/2020</td>\n      <td>-2.049648</td>\n      <td>-0.499342</td>\n      <td>0.518489</td>\n      <td>2.602902</td>\n      <td>1.492045</td>\n      <td>0.993957</td>\n      <td>-0.604802</td>\n      <td>...</td>\n      <td>1.509692</td>\n      <td>-0.655120</td>\n      <td>1.025943</td>\n      <td>1.077336</td>\n      <td>-0.675067</td>\n      <td>-1.008040</td>\n      <td>0.655433</td>\n      <td>0.856442</td>\n      <td>113.4</td>\n      <td>4.739701</td>\n    </tr>\n    <tr>\n      <th>4</th>\n      <td>Antoine Griezmann</td>\n      <td>FC Barcelona</td>\n      <td>2019/2020</td>\n      <td>0.147256</td>\n      <td>20.040466</td>\n      <td>8.835291</td>\n      <td>6.647023</td>\n      <td>4.178338</td>\n      <td>1.147640</td>\n      <td>-0.377982</td>\n      <td>...</td>\n      <td>1.509692</td>\n      <td>-0.655120</td>\n      <td>1.025943</td>\n      <td>1.077336</td>\n      <td>0.437768</td>\n      <td>0.177493</td>\n      <td>-1.703498</td>\n      <td>0.856442</td>\n      <td>108.0</td>\n      <td>4.691348</td>\n    </tr>\n    <tr>\n      <th>...</th>\n      <td>...</td>\n      <td>...</td>\n      <td>...</td>\n      <td>...</td>\n      <td>...</td>\n      <td>...</td>\n      <td>...</td>\n      <td>...</td>\n      <td>...</td>\n      <td>...</td>\n      <td>...</td>\n      <td>...</td>\n      <td>...</td>\n      <td>...</td>\n      <td>...</td>\n      <td>...</td>\n      <td>...</td>\n      <td>...</td>\n      <td>...</td>\n      <td>...</td>\n      <td>...</td>\n    </tr>\n    <tr>\n      <th>3001</th>\n      <td>Daniele Capelli</td>\n      <td>AC Cesena</td>\n      <td>2015/2016</td>\n      <td>0.391356</td>\n      <td>-0.368848</td>\n      <td>-0.505117</td>\n      <td>-0.430189</td>\n      <td>-0.451461</td>\n      <td>0.014912</td>\n      <td>1.436573</td>\n      <td>...</td>\n      <td>-0.662387</td>\n      <td>-0.655120</td>\n      <td>1.025943</td>\n      <td>-0.969772</td>\n      <td>-0.053215</td>\n      <td>0.036322</td>\n      <td>-0.759925</td>\n      <td>-1.964614</td>\n      <td>0.0</td>\n      <td>0.000000</td>\n    </tr>\n    <tr>\n      <th>3002</th>\n      <td>Henrikh Mkhitaryan</td>\n      <td>AS Roma</td>\n      <td>2020/2021</td>\n      <td>0.879557</td>\n      <td>4.094058</td>\n      <td>3.205456</td>\n      <td>-0.073354</td>\n      <td>2.249255</td>\n      <td>0.781514</td>\n      <td>0.756115</td>\n      <td>...</td>\n      <td>-0.662387</td>\n      <td>-0.655120</td>\n      <td>-0.974713</td>\n      <td>1.589113</td>\n      <td>-1.795314</td>\n      <td>-1.160675</td>\n      <td>-1.231711</td>\n      <td>0.939686</td>\n      <td>0.0</td>\n      <td>0.000000</td>\n    </tr>\n    <tr>\n      <th>3003</th>\n      <td>Gastón Ramírez</td>\n      <td>Middlesbrough FC</td>\n      <td>2016/2017</td>\n      <td>-0.585046</td>\n      <td>0.440217</td>\n      <td>0.390539</td>\n      <td>0.342952</td>\n      <td>0.356230</td>\n      <td>0.257187</td>\n      <td>0.756115</td>\n      <td>...</td>\n      <td>-0.662387</td>\n      <td>-0.655120</td>\n      <td>-0.974713</td>\n      <td>-0.457995</td>\n      <td>-1.238797</td>\n      <td>-1.150154</td>\n      <td>-1.231711</td>\n      <td>-0.020706</td>\n      <td>0.0</td>\n      <td>0.000000</td>\n    </tr>\n    <tr>\n      <th>3004</th>\n      <td>Antonio Cassano</td>\n      <td>Parma FC</td>\n      <td>2014/2015</td>\n      <td>0.879557</td>\n      <td>0.205327</td>\n      <td>-0.249215</td>\n      <td>-0.073354</td>\n      <td>0.911517</td>\n      <td>0.283403</td>\n      <td>-1.512079</td>\n      <td>...</td>\n      <td>1.509692</td>\n      <td>-0.655120</td>\n      <td>1.025943</td>\n      <td>-1.481549</td>\n      <td>-0.053215</td>\n      <td>0.036322</td>\n      <td>-0.759925</td>\n      <td>-0.751406</td>\n      <td>0.0</td>\n      <td>0.000000</td>\n    </tr>\n    <tr>\n      <th>3005</th>\n      <td>Jean Beausejour</td>\n      <td>SC Cambuur-Leeuwarden</td>\n      <td>2014/2015</td>\n      <td>0.635457</td>\n      <td>-0.212255</td>\n      <td>-0.249215</td>\n      <td>-0.430189</td>\n      <td>-0.595691</td>\n      <td>-0.063737</td>\n      <td>-1.512079</td>\n      <td>...</td>\n      <td>-0.662387</td>\n      <td>1.526437</td>\n      <td>-0.974713</td>\n      <td>-1.481549</td>\n      <td>0.402287</td>\n      <td>0.172786</td>\n      <td>0.419540</td>\n      <td>-0.751406</td>\n      <td>0.0</td>\n      <td>0.000000</td>\n    </tr>\n  </tbody>\n</table>\n<p>2949 rows × 80 columns</p>\n</div>"
     },
     "metadata": {},
     "execution_count": 26
    }
   ],
   "source": [
    "df"
   ]
  },
  {
   "cell_type": "code",
   "execution_count": 27,
   "metadata": {},
   "outputs": [],
   "source": [
    "df.to_csv('data/data.csv')"
   ]
  }
 ]
}