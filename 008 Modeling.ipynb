{
 "metadata": {
  "language_info": {
   "codemirror_mode": {
    "name": "ipython",
    "version": 3
   },
   "file_extension": ".py",
   "mimetype": "text/x-python",
   "name": "python",
   "nbconvert_exporter": "python",
   "pygments_lexer": "ipython3",
   "version": "3.8.6-final"
  },
  "orig_nbformat": 2,
  "kernelspec": {
   "name": "python3",
   "display_name": "Python 3.8.6 64-bit",
   "metadata": {
    "interpreter": {
     "hash": "2b9185f3e54c11b8d53d8a03bd3140084c0e44d2e51331e03f14237367078142"
    }
   }
  }
 },
 "nbformat": 4,
 "nbformat_minor": 2,
 "cells": [
  {
   "cell_type": "code",
   "execution_count": 1,
   "metadata": {},
   "outputs": [],
   "source": [
    "import pandas as pd\n",
    "import numpy as np\n",
    "import matplotlib.pyplot as plt\n",
    "from tqdm import tqdm\n",
    "\n",
    "import optuna\n",
    "optuna.logging.set_verbosity(optuna.logging.ERROR)\n",
    "import pickle\n",
    "\n",
    "from sklearn.metrics import mean_squared_error, r2_score\n",
    "from sklearn.model_selection import cross_val_score, cross_val_predict\n",
    "\n",
    "from sklearn.decomposition import PCA # If algorithms are taking too much time\n",
    "\n",
    "from sklearn.linear_model import LinearRegression\n",
    "from sklearn.neighbors import KNeighborsRegressor\n",
    "from sklearn.ensemble import RandomForestRegressor, GradientBoostingRegressor\n",
    "from sklearn.neural_network import MLPRegressor\n",
    "\n",
    "from sklearn.tree import DecisionTreeRegressor\n",
    "from sklearn.ensemble import AdaBoostRegressor, BaggingRegressor"
   ]
  },
  {
   "cell_type": "code",
   "execution_count": 2,
   "metadata": {},
   "outputs": [],
   "source": [
    "identifiers = ['player_name', 'club_involved_name', 'season']\n",
    "player_var = ['age', 'wage', 'ratingFM', 'potential', 'injprone', 'afterloan', 'contract']\n",
    "team_var = ['reputation', 'balance', 'wagebudget', 'trainingfacilities', 'youthfacilities', 'youthacademy', 'stadiumcap', 'avgattendance']\n",
    "stats_var = ['gamesPlayed', 'subedOn', 'MotM', 'ratingWS']\n",
    "offensive_var = ['goalsScored', 'assists', 'shots', 'passes', 'passesSuccess', 'aerialsWon', 'keyPasses', 'dribbles', 'offsides', 'dispossessed', 'badTouch', 'crosses', 'longBalls', 'throughBalls']\n",
    "defensive_var = ['yellow', 'red', 'tackles', 'interceptions', 'fouls', 'offsidesProvoked', 'clearances', 'blockedPass', 'ownGoal']\n",
    "previous_var = ['ATaction', 'ATgoals', 'ATassists', 'ATshots', 'ATpasses', 'ATpassesSuccess', 'ATtackles', 'ATinterceptions', 'ATMotM', 'ATrating', 'CLaction', 'CLgoals', 'CLassists', 'CLMotM', 'CLrating', 'ELaction', 'ELgoals', 'ELassists', 'ELMotM', 'ELrating']\n",
    "pos_var = ['GK', 'DEF', 'MID', 'STR', 'Wing', 'Central']\n",
    "external_var = ['year', 'GDP', 'CountryPopulation', 'UEFAranking', 'eurgbp']\n",
    "features = player_var + team_var + stats_var + offensive_var + defensive_var + previous_var + pos_var + external_var\n",
    "labels = ['fee_cleaned', 'fee_log']\n",
    "target = 'fee_cleaned'\n",
    "\n",
    "removed_features = []"
   ]
  },
  {
   "cell_type": "code",
   "execution_count": 3,
   "metadata": {},
   "outputs": [],
   "source": [
    "## Bayesian optimization-based feature selection\n",
    "### Objective function\n",
    "def objective_selection(trial):\n",
    "    #print(trial.number, end = ' ')\n",
    "    weighted_df = train_df[features + [target]]\n",
    "    for i, feature in enumerate(features):\n",
    "        if trial.suggest_int(feature, 0, 1) == 0:\n",
    "            weighted_df = weighted_df.drop(feature, axis = 1)\n",
    "    features_list = list(weighted_df.drop(target, axis = 1))\n",
    "\n",
    "    if len(features_list) == 0:\n",
    "        return 99999999999\n",
    "\n",
    "    train_set = weighted_df.iloc[:int(internal_test_validation_split * len(weighted_df))]\n",
    "    test_set = weighted_df.iloc[int(internal_test_validation_split * len(weighted_df)):]\n",
    "\n",
    "    model.fit(train_set[features_list], train_set[target])\n",
    "    return -r2_score(model.predict(test_set[features_list]), test_set[target])\n",
    "\n",
    "def bayesian_optimization_selection(model, train_df, features, target, n_trials = 500):\n",
    "    study = optuna.create_study()\n",
    "    study.optimize(objective_selection, n_trials=n_trials)\n",
    "\n",
    "    # need to normalize for feature mean value\n",
    "    selected_features = []\n",
    "    for feature in features:\n",
    "        if study.best_trial.params[feature]:\n",
    "            selected_features.append(feature)\n",
    "\n",
    "    return selected_features, study.best_trial.number"
   ]
  },
  {
   "cell_type": "code",
   "execution_count": 4,
   "metadata": {},
   "outputs": [],
   "source": [
    "## Bayesian optimization-based feature weighting\n",
    "def objective_weighting(trial):\n",
    "    #print(trial.number, end = ' ')\n",
    "    weighted_df = train_df.copy()\n",
    "    for i, feature in enumerate(features):\n",
    "        weighted_df[feature] *= trial.suggest_uniform(feature, 0, 1)\n",
    "\n",
    "    train_set = weighted_df.iloc[:int(internal_test_validation_split * len(weighted_df))]\n",
    "    test_set = weighted_df.iloc[int(internal_test_validation_split * len(weighted_df)):]\n",
    "\n",
    "    model.fit(train_set[features], train_set['fee_log'])\n",
    "    return -r2_score(model.predict(test_set[features]), test_set['fee_log']) \n",
    "\n",
    "def bayesian_optimization_weighting(model, df, features, target, n_trials = 500):\n",
    "    study = optuna.create_study()\n",
    "    study.optimize(objective_weighting, n_trials=n_trials)\n",
    "\n",
    "    # need to normalize for feature mean value\n",
    "    weighted_df = train_df.copy()\n",
    "    for feature in features:\n",
    "        weighted_df[feature] *= study.best_trial.params[feature]\n",
    "\n",
    "    return weighted_df, study.best_trial.number, study.best_trial.params"
   ]
  },
  {
   "cell_type": "code",
   "execution_count": 5,
   "metadata": {},
   "outputs": [],
   "source": [
    "external_test_validation_split = 0.8\n",
    "internal_test_validation_split = 0.6"
   ]
  },
  {
   "cell_type": "code",
   "execution_count": 6,
   "metadata": {},
   "outputs": [],
   "source": [
    "df = pd.read_csv('data/data.csv')\n",
    "df = df[df.fee_cleaned > 0]\n",
    "df = df.sample(len(df), random_state=0)\n",
    "train_df = df.iloc[:int(external_test_validation_split * len(df))]"
   ]
  },
  {
   "cell_type": "code",
   "execution_count": 7,
   "metadata": {},
   "outputs": [
    {
     "output_type": "execute_result",
     "data": {
      "text/plain": [
       "      Unnamed: 0     player_name   club_involved_name     season       age  \\\n",
       "904          918   Tommy Elphick          Aston Villa  2016/2017  0.147256   \n",
       "159          160   Samuel Umtiti         FC Barcelona  2016/2017 -1.317347   \n",
       "974          989       Maicosuel       Ajax Amsterdam  2014/2015  0.147256   \n",
       "744          752   James McClean           Stoke City  2018/2019  0.391356   \n",
       "1452        1475     Miso Brecko       1.FC Nuremberg  2015/2016  0.879557   \n",
       "...          ...             ...                  ...        ...       ...   \n",
       "832          843    Nathan Baker         Bristol City  2017/2018 -0.340945   \n",
       "951          966    David Ospina           SSC Napoli  2019/2020  0.635457   \n",
       "1144        1160  Nick Viergever       Ajax Amsterdam  2014/2015 -0.829146   \n",
       "1037        1052   Sandro Wagner  TSG 1899 Hoffenheim  2016/2017  0.147256   \n",
       "1240        1257  Marvin Ducksch          Hannover 96  2019/2020 -0.585046   \n",
       "\n",
       "          wage     value      cost  ratingFM  potential  ...       STR  \\\n",
       "904  -0.081761 -0.377166 -0.370716  0.013683   0.094465  ... -0.662387   \n",
       "159   0.127030  0.006686  0.283480  0.157913   0.401829  ... -0.662387   \n",
       "974  -0.238354 -0.377166 -0.458676 -0.687638  -0.101706  ...  1.509692   \n",
       "744   0.440217  0.902342 -0.132827 -0.473095  -0.036617  ... -0.662387   \n",
       "1452 -0.212255 -0.505117 -0.370716 -0.593888  -0.058765  ... -0.662387   \n",
       "...        ...       ...       ...       ...        ...  ...       ...   \n",
       "832   0.048734 -0.249215 -0.251772  0.338201   0.302388  ... -0.662387   \n",
       "951   0.570711  1.158243 -0.251772  1.618247   0.614272  ... -0.662387   \n",
       "1144 -0.342749 -0.249215 -0.073354 -0.332471   0.142830  ... -0.662387   \n",
       "1037 -0.368848 -0.377166 -0.430189  0.897094   0.279787  ...  1.509692   \n",
       "1240 -0.290551 -0.121265 -0.251772  0.338201   0.243627  ...  1.509692   \n",
       "\n",
       "          Wing   Central      year       GDP  CountryPopulation  UEFAranking  \\\n",
       "904  -0.655120  1.025943 -0.457995  0.402287           0.172786    -1.231711   \n",
       "159  -0.655120  1.025943 -0.457995  0.437768           0.177493     0.183647   \n",
       "974   1.526437 -0.974713 -1.481549 -0.053215           0.036322    -0.759925   \n",
       "744   1.526437 -0.974713  0.565559  2.433959          -1.119264     0.419540   \n",
       "1452  1.526437 -0.974713 -0.969772  0.624527           0.513024    -0.288139   \n",
       "...        ...       ...       ...       ...                ...          ...   \n",
       "832  -0.655120  1.025943  0.053782  0.402287           0.172786     0.419540   \n",
       "951  -0.655120 -0.974713  1.077336 -1.619825          -0.171556    -1.231711   \n",
       "1144 -0.655120  1.025943 -1.481549  1.079317          -0.860587     1.599005   \n",
       "1037 -0.655120  1.025943 -0.457995  0.624527           0.513024    -0.288139   \n",
       "1240 -0.655120  1.025943  1.077336  0.624527           0.513024    -0.288139   \n",
       "\n",
       "        eurgbp  fee_cleaned   fee_log  \n",
       "904  -0.020706         3.51  1.506297  \n",
       "159  -0.020706        22.50  3.157000  \n",
       "974  -0.751406         2.70  1.308333  \n",
       "744   0.668371         5.04  1.798404  \n",
       "1452 -1.964614         0.45  0.371564  \n",
       "...        ...          ...       ...  \n",
       "832   0.565087         3.90  1.589235  \n",
       "951   0.856442         3.15  1.423108  \n",
       "1144 -0.751406         1.80  1.029619  \n",
       "1037 -0.020706         2.52  1.258461  \n",
       "1240  0.856442         1.35  0.854415  \n",
       "\n",
       "[1236 rows x 81 columns]"
      ],
      "text/html": "<div>\n<style scoped>\n    .dataframe tbody tr th:only-of-type {\n        vertical-align: middle;\n    }\n\n    .dataframe tbody tr th {\n        vertical-align: top;\n    }\n\n    .dataframe thead th {\n        text-align: right;\n    }\n</style>\n<table border=\"1\" class=\"dataframe\">\n  <thead>\n    <tr style=\"text-align: right;\">\n      <th></th>\n      <th>Unnamed: 0</th>\n      <th>player_name</th>\n      <th>club_involved_name</th>\n      <th>season</th>\n      <th>age</th>\n      <th>wage</th>\n      <th>value</th>\n      <th>cost</th>\n      <th>ratingFM</th>\n      <th>potential</th>\n      <th>...</th>\n      <th>STR</th>\n      <th>Wing</th>\n      <th>Central</th>\n      <th>year</th>\n      <th>GDP</th>\n      <th>CountryPopulation</th>\n      <th>UEFAranking</th>\n      <th>eurgbp</th>\n      <th>fee_cleaned</th>\n      <th>fee_log</th>\n    </tr>\n  </thead>\n  <tbody>\n    <tr>\n      <th>904</th>\n      <td>918</td>\n      <td>Tommy Elphick</td>\n      <td>Aston Villa</td>\n      <td>2016/2017</td>\n      <td>0.147256</td>\n      <td>-0.081761</td>\n      <td>-0.377166</td>\n      <td>-0.370716</td>\n      <td>0.013683</td>\n      <td>0.094465</td>\n      <td>...</td>\n      <td>-0.662387</td>\n      <td>-0.655120</td>\n      <td>1.025943</td>\n      <td>-0.457995</td>\n      <td>0.402287</td>\n      <td>0.172786</td>\n      <td>-1.231711</td>\n      <td>-0.020706</td>\n      <td>3.51</td>\n      <td>1.506297</td>\n    </tr>\n    <tr>\n      <th>159</th>\n      <td>160</td>\n      <td>Samuel Umtiti</td>\n      <td>FC Barcelona</td>\n      <td>2016/2017</td>\n      <td>-1.317347</td>\n      <td>0.127030</td>\n      <td>0.006686</td>\n      <td>0.283480</td>\n      <td>0.157913</td>\n      <td>0.401829</td>\n      <td>...</td>\n      <td>-0.662387</td>\n      <td>-0.655120</td>\n      <td>1.025943</td>\n      <td>-0.457995</td>\n      <td>0.437768</td>\n      <td>0.177493</td>\n      <td>0.183647</td>\n      <td>-0.020706</td>\n      <td>22.50</td>\n      <td>3.157000</td>\n    </tr>\n    <tr>\n      <th>974</th>\n      <td>989</td>\n      <td>Maicosuel</td>\n      <td>Ajax Amsterdam</td>\n      <td>2014/2015</td>\n      <td>0.147256</td>\n      <td>-0.238354</td>\n      <td>-0.377166</td>\n      <td>-0.458676</td>\n      <td>-0.687638</td>\n      <td>-0.101706</td>\n      <td>...</td>\n      <td>1.509692</td>\n      <td>1.526437</td>\n      <td>-0.974713</td>\n      <td>-1.481549</td>\n      <td>-0.053215</td>\n      <td>0.036322</td>\n      <td>-0.759925</td>\n      <td>-0.751406</td>\n      <td>2.70</td>\n      <td>1.308333</td>\n    </tr>\n    <tr>\n      <th>744</th>\n      <td>752</td>\n      <td>James McClean</td>\n      <td>Stoke City</td>\n      <td>2018/2019</td>\n      <td>0.391356</td>\n      <td>0.440217</td>\n      <td>0.902342</td>\n      <td>-0.132827</td>\n      <td>-0.473095</td>\n      <td>-0.036617</td>\n      <td>...</td>\n      <td>-0.662387</td>\n      <td>1.526437</td>\n      <td>-0.974713</td>\n      <td>0.565559</td>\n      <td>2.433959</td>\n      <td>-1.119264</td>\n      <td>0.419540</td>\n      <td>0.668371</td>\n      <td>5.04</td>\n      <td>1.798404</td>\n    </tr>\n    <tr>\n      <th>1452</th>\n      <td>1475</td>\n      <td>Miso Brecko</td>\n      <td>1.FC Nuremberg</td>\n      <td>2015/2016</td>\n      <td>0.879557</td>\n      <td>-0.212255</td>\n      <td>-0.505117</td>\n      <td>-0.370716</td>\n      <td>-0.593888</td>\n      <td>-0.058765</td>\n      <td>...</td>\n      <td>-0.662387</td>\n      <td>1.526437</td>\n      <td>-0.974713</td>\n      <td>-0.969772</td>\n      <td>0.624527</td>\n      <td>0.513024</td>\n      <td>-0.288139</td>\n      <td>-1.964614</td>\n      <td>0.45</td>\n      <td>0.371564</td>\n    </tr>\n    <tr>\n      <th>...</th>\n      <td>...</td>\n      <td>...</td>\n      <td>...</td>\n      <td>...</td>\n      <td>...</td>\n      <td>...</td>\n      <td>...</td>\n      <td>...</td>\n      <td>...</td>\n      <td>...</td>\n      <td>...</td>\n      <td>...</td>\n      <td>...</td>\n      <td>...</td>\n      <td>...</td>\n      <td>...</td>\n      <td>...</td>\n      <td>...</td>\n      <td>...</td>\n      <td>...</td>\n      <td>...</td>\n    </tr>\n    <tr>\n      <th>832</th>\n      <td>843</td>\n      <td>Nathan Baker</td>\n      <td>Bristol City</td>\n      <td>2017/2018</td>\n      <td>-0.340945</td>\n      <td>0.048734</td>\n      <td>-0.249215</td>\n      <td>-0.251772</td>\n      <td>0.338201</td>\n      <td>0.302388</td>\n      <td>...</td>\n      <td>-0.662387</td>\n      <td>-0.655120</td>\n      <td>1.025943</td>\n      <td>0.053782</td>\n      <td>0.402287</td>\n      <td>0.172786</td>\n      <td>0.419540</td>\n      <td>0.565087</td>\n      <td>3.90</td>\n      <td>1.589235</td>\n    </tr>\n    <tr>\n      <th>951</th>\n      <td>966</td>\n      <td>David Ospina</td>\n      <td>SSC Napoli</td>\n      <td>2019/2020</td>\n      <td>0.635457</td>\n      <td>0.570711</td>\n      <td>1.158243</td>\n      <td>-0.251772</td>\n      <td>1.618247</td>\n      <td>0.614272</td>\n      <td>...</td>\n      <td>-0.662387</td>\n      <td>-0.655120</td>\n      <td>-0.974713</td>\n      <td>1.077336</td>\n      <td>-1.619825</td>\n      <td>-0.171556</td>\n      <td>-1.231711</td>\n      <td>0.856442</td>\n      <td>3.15</td>\n      <td>1.423108</td>\n    </tr>\n    <tr>\n      <th>1144</th>\n      <td>1160</td>\n      <td>Nick Viergever</td>\n      <td>Ajax Amsterdam</td>\n      <td>2014/2015</td>\n      <td>-0.829146</td>\n      <td>-0.342749</td>\n      <td>-0.249215</td>\n      <td>-0.073354</td>\n      <td>-0.332471</td>\n      <td>0.142830</td>\n      <td>...</td>\n      <td>-0.662387</td>\n      <td>-0.655120</td>\n      <td>1.025943</td>\n      <td>-1.481549</td>\n      <td>1.079317</td>\n      <td>-0.860587</td>\n      <td>1.599005</td>\n      <td>-0.751406</td>\n      <td>1.80</td>\n      <td>1.029619</td>\n    </tr>\n    <tr>\n      <th>1037</th>\n      <td>1052</td>\n      <td>Sandro Wagner</td>\n      <td>TSG 1899 Hoffenheim</td>\n      <td>2016/2017</td>\n      <td>0.147256</td>\n      <td>-0.368848</td>\n      <td>-0.377166</td>\n      <td>-0.430189</td>\n      <td>0.897094</td>\n      <td>0.279787</td>\n      <td>...</td>\n      <td>1.509692</td>\n      <td>-0.655120</td>\n      <td>1.025943</td>\n      <td>-0.457995</td>\n      <td>0.624527</td>\n      <td>0.513024</td>\n      <td>-0.288139</td>\n      <td>-0.020706</td>\n      <td>2.52</td>\n      <td>1.258461</td>\n    </tr>\n    <tr>\n      <th>1240</th>\n      <td>1257</td>\n      <td>Marvin Ducksch</td>\n      <td>Hannover 96</td>\n      <td>2019/2020</td>\n      <td>-0.585046</td>\n      <td>-0.290551</td>\n      <td>-0.121265</td>\n      <td>-0.251772</td>\n      <td>0.338201</td>\n      <td>0.243627</td>\n      <td>...</td>\n      <td>1.509692</td>\n      <td>-0.655120</td>\n      <td>1.025943</td>\n      <td>1.077336</td>\n      <td>0.624527</td>\n      <td>0.513024</td>\n      <td>-0.288139</td>\n      <td>0.856442</td>\n      <td>1.35</td>\n      <td>0.854415</td>\n    </tr>\n  </tbody>\n</table>\n<p>1236 rows × 81 columns</p>\n</div>"
     },
     "metadata": {},
     "execution_count": 7
    }
   ],
   "source": [
    "train_df"
   ]
  },
  {
   "source": [
    "# Linear Regressor"
   ],
   "cell_type": "markdown",
   "metadata": {}
  },
  {
   "cell_type": "code",
   "execution_count": 8,
   "metadata": {},
   "outputs": [],
   "source": [
    "model = LinearRegression(n_jobs = -1)"
   ]
  },
  {
   "source": [
    "bayesian_selection_LR, i = bayesian_optimization_selection(model, train_df, features, 'fee_cleaned', n_trials = 500)\n",
    "i"
   ],
   "cell_type": "code",
   "metadata": {
    "tags": []
   },
   "execution_count": 9,
   "outputs": [
    {
     "output_type": "execute_result",
     "data": {
      "text/plain": [
       "351"
      ]
     },
     "metadata": {},
     "execution_count": 9
    }
   ]
  },
  {
   "cell_type": "code",
   "execution_count": 10,
   "metadata": {},
   "outputs": [
    {
     "output_type": "stream",
     "name": "stdout",
     "text": [
      "age, wage, ratingFM, afterloan, contract, balance, wagebudget, gamesPlayed, subedOn, MotM, ratingWS, assists, shots, aerialsWon, keyPasses, dribbles, offsides, dispossessed, throughBalls, yellow, red, tackles, interceptions, ownGoal, ATaction, ATpasses, ATtackles, ATrating, CLgoals, CLassists, ELaction, ELassists, ELrating, Wing, Central, year, GDP, CountryPopulation, UEFAranking, "
     ]
    }
   ],
   "source": [
    "for feature in bayesian_selection_LR: print(feature, end = ', ')"
   ]
  },
  {
   "cell_type": "code",
   "execution_count": 11,
   "metadata": {},
   "outputs": [],
   "source": [
    "scores = cross_val_predict(model, train_df[features], train_df['fee_cleaned'], cv=5)\n",
    "train_df['LRclean'] = scores"
   ]
  },
  {
   "cell_type": "code",
   "execution_count": 12,
   "metadata": {},
   "outputs": [],
   "source": [
    "scores = cross_val_predict(model, train_df[bayesian_selection_LR], train_df['fee_cleaned'], cv=5)\n",
    "train_df['LRselection'] = scores"
   ]
  },
  {
   "cell_type": "code",
   "execution_count": 13,
   "metadata": {},
   "outputs": [],
   "source": [
    "scores = cross_val_predict(model, train_df[features], train_df['fee_log'], cv=5)\n",
    "train_df['LRlog'] = scores\n",
    "train_df['LRdelog'] = np.exp(scores) - 1"
   ]
  },
  {
   "cell_type": "code",
   "execution_count": 14,
   "metadata": {},
   "outputs": [
    {
     "output_type": "execute_result",
     "data": {
      "text/plain": [
       "(0.581760875165358,\n",
       " 0.6032958375518847,\n",
       " 0.6842718491575767,\n",
       " -3.0874112638480478)"
      ]
     },
     "metadata": {},
     "execution_count": 14
    }
   ],
   "source": [
    "train_df = train_df.fillna(0)\n",
    "(r2_score(train_df.fee_cleaned, train_df.LRclean), \n",
    "r2_score(train_df.fee_cleaned, train_df.LRselection), \n",
    "r2_score(train_df.fee_log, train_df.LRlog),\n",
    "r2_score(train_df.fee_cleaned, train_df.LRdelog))"
   ]
  },
  {
   "cell_type": "code",
   "execution_count": 15,
   "metadata": {},
   "outputs": [
    {
     "output_type": "execute_result",
     "data": {
      "text/plain": [
       "           player_name   club_involved_name  fee_cleaned     LRclean  \\\n",
       "677   Robin van Persie            Fulham FC         5.85   48.798678   \n",
       "54      Alexis Sánchez           Arsenal FC        38.25   49.343900   \n",
       "7           Paul Pogba    Manchester United        94.50   49.922553   \n",
       "18       Romelu Lukaku          Inter Milan        66.60   54.411634   \n",
       "6          Eden Hazard          Real Madrid       103.50   58.824961   \n",
       "103      Cesc Fàbregas           Chelsea FC        29.70   65.982032   \n",
       "1        Kylian Mbappé  Paris Saint-Germain       130.50   84.719747   \n",
       "0               Neymar  Paris Saint-Germain       199.80  118.730558   \n",
       "5    Cristiano Ronaldo          Juventus FC       105.30  136.020411   \n",
       "4    Antoine Griezmann         FC Barcelona       108.00  187.355805   \n",
       "\n",
       "     LRselection     LRdelog   fee_log     LRlog  \n",
       "677    44.815446   23.598617  1.924249  3.202690  \n",
       "54     47.864326   53.109012  3.669951  3.991001  \n",
       "7      50.515867  120.371719  4.559126  4.798858  \n",
       "18     45.313887   80.200490  4.213608  4.396921  \n",
       "6      58.757208   79.012312  4.649187  4.382181  \n",
       "103    63.052931   53.751773  3.424263  4.002810  \n",
       "1      78.069587   79.271140  4.879007  4.385410  \n",
       "0     120.935769  712.286197  5.302309  6.569883  \n",
       "5     141.408948  274.949130  4.666265  5.620217  \n",
       "4     170.204157  971.648667  4.691348  6.880023  "
      ],
      "text/html": "<div>\n<style scoped>\n    .dataframe tbody tr th:only-of-type {\n        vertical-align: middle;\n    }\n\n    .dataframe tbody tr th {\n        vertical-align: top;\n    }\n\n    .dataframe thead th {\n        text-align: right;\n    }\n</style>\n<table border=\"1\" class=\"dataframe\">\n  <thead>\n    <tr style=\"text-align: right;\">\n      <th></th>\n      <th>player_name</th>\n      <th>club_involved_name</th>\n      <th>fee_cleaned</th>\n      <th>LRclean</th>\n      <th>LRselection</th>\n      <th>LRdelog</th>\n      <th>fee_log</th>\n      <th>LRlog</th>\n    </tr>\n  </thead>\n  <tbody>\n    <tr>\n      <th>677</th>\n      <td>Robin van Persie</td>\n      <td>Fulham FC</td>\n      <td>5.85</td>\n      <td>48.798678</td>\n      <td>44.815446</td>\n      <td>23.598617</td>\n      <td>1.924249</td>\n      <td>3.202690</td>\n    </tr>\n    <tr>\n      <th>54</th>\n      <td>Alexis Sánchez</td>\n      <td>Arsenal FC</td>\n      <td>38.25</td>\n      <td>49.343900</td>\n      <td>47.864326</td>\n      <td>53.109012</td>\n      <td>3.669951</td>\n      <td>3.991001</td>\n    </tr>\n    <tr>\n      <th>7</th>\n      <td>Paul Pogba</td>\n      <td>Manchester United</td>\n      <td>94.50</td>\n      <td>49.922553</td>\n      <td>50.515867</td>\n      <td>120.371719</td>\n      <td>4.559126</td>\n      <td>4.798858</td>\n    </tr>\n    <tr>\n      <th>18</th>\n      <td>Romelu Lukaku</td>\n      <td>Inter Milan</td>\n      <td>66.60</td>\n      <td>54.411634</td>\n      <td>45.313887</td>\n      <td>80.200490</td>\n      <td>4.213608</td>\n      <td>4.396921</td>\n    </tr>\n    <tr>\n      <th>6</th>\n      <td>Eden Hazard</td>\n      <td>Real Madrid</td>\n      <td>103.50</td>\n      <td>58.824961</td>\n      <td>58.757208</td>\n      <td>79.012312</td>\n      <td>4.649187</td>\n      <td>4.382181</td>\n    </tr>\n    <tr>\n      <th>103</th>\n      <td>Cesc Fàbregas</td>\n      <td>Chelsea FC</td>\n      <td>29.70</td>\n      <td>65.982032</td>\n      <td>63.052931</td>\n      <td>53.751773</td>\n      <td>3.424263</td>\n      <td>4.002810</td>\n    </tr>\n    <tr>\n      <th>1</th>\n      <td>Kylian Mbappé</td>\n      <td>Paris Saint-Germain</td>\n      <td>130.50</td>\n      <td>84.719747</td>\n      <td>78.069587</td>\n      <td>79.271140</td>\n      <td>4.879007</td>\n      <td>4.385410</td>\n    </tr>\n    <tr>\n      <th>0</th>\n      <td>Neymar</td>\n      <td>Paris Saint-Germain</td>\n      <td>199.80</td>\n      <td>118.730558</td>\n      <td>120.935769</td>\n      <td>712.286197</td>\n      <td>5.302309</td>\n      <td>6.569883</td>\n    </tr>\n    <tr>\n      <th>5</th>\n      <td>Cristiano Ronaldo</td>\n      <td>Juventus FC</td>\n      <td>105.30</td>\n      <td>136.020411</td>\n      <td>141.408948</td>\n      <td>274.949130</td>\n      <td>4.666265</td>\n      <td>5.620217</td>\n    </tr>\n    <tr>\n      <th>4</th>\n      <td>Antoine Griezmann</td>\n      <td>FC Barcelona</td>\n      <td>108.00</td>\n      <td>187.355805</td>\n      <td>170.204157</td>\n      <td>971.648667</td>\n      <td>4.691348</td>\n      <td>6.880023</td>\n    </tr>\n  </tbody>\n</table>\n</div>"
     },
     "metadata": {},
     "execution_count": 15
    }
   ],
   "source": [
    "train_df[['player_name','club_involved_name','fee_cleaned','LRclean','LRselection','LRdelog','fee_log','LRlog']].sort_values('LRclean').tail(10)"
   ]
  },
  {
   "cell_type": "code",
   "execution_count": 16,
   "metadata": {},
   "outputs": [
    {
     "output_type": "stream",
     "name": "stdout",
     "text": [
      "                 age -4.949692926940159\n                wage 6.013314528014815\n            ratingFM 2.667556947366331\n           potential -0.030175703353564565\n            injprone -0.22965829317901126\n           afterloan -0.49352164720704517\n            contract 1.866291634011613\n          reputation 1.2939898770060538\n             balance 0.11220639875317351\n          wagebudget -0.23236379871954926\n  trainingfacilities 0.15039320171714854\n     youthfacilities -0.8631830148993382\n        youthacademy 1.027045935034352\n          stadiumcap 0.2947008423878441\n       avgattendance -1.042568891916747\n         gamesPlayed 1.239836485452671\n             subedOn -0.22847946967302168\n                MotM 0.3614546862791377\n            ratingWS 3.860962123712547\n         goalsScored 0.3910154475538614\n             assists 1.556082336307878\n               shots 0.03278099852907712\n              passes -1.2304007330596785\n       passesSuccess 1.3235557359765142\n          aerialsWon -1.0483380034006804\n           keyPasses -1.3776841048794302\n            dribbles 1.6758261491441433\n            offsides 0.7880672941055148\n        dispossessed -0.2690862015232709\n            badTouch -0.5793291686113068\n             crosses -0.08484742479377484\n           longBalls -0.27611448708738084\n        throughBalls 0.6837375987941628\n              yellow -0.026052026644584336\n                 red 0.1303435200421037\n             tackles -1.6852199728715254\n       interceptions -0.42455820531085625\n               fouls -0.3798356497667958\n    offsidesProvoked 0.059499180805009155\n          clearances -0.605465663095144\n         blockedPass -0.20351449968302782\n             ownGoal 0.31718957563524475\n            ATaction -1.4066760581325155\n             ATgoals 0.2469251918394086\n           ATassists -0.02299227434681589\n             ATshots -1.1086351246710513\n            ATpasses 3.239712881878792\n     ATpassesSuccess -2.47695313300279\n           ATtackles 0.03940629225959669\n     ATinterceptions -0.20371104251102662\n              ATMotM 0.4012338942192628\n            ATrating -0.0097430430233032\n            CLaction -2.112545560956055\n             CLgoals 0.3985487175193021\n           CLassists 0.5613134001659974\n              CLMotM 0.5406399443256875\n            CLrating 0.15884027886843266\n            ELaction -0.29314262367504873\n             ELgoals -0.0012065741837111732\n           ELassists -0.14725368785916237\n              ELMotM -0.028890009892541757\n            ELrating 0.2346111620596727\n                  GK 0.7565051990738478\n                 DEF 2.456111617320749\n                 MID 1.6251757536173719\n                 STR 1.1924744221127348\n                Wing 0.10612290066569097\n             Central 1.3452830810807292\n                year 1.5365401285720288\n                 GDP -0.012090449128271341\n   CountryPopulation 0.28627369307086314\n         UEFAranking -1.5714562396392269\n              eurgbp 0.10300971294263794\n"
     ]
    }
   ],
   "source": [
    "model.fit(train_df[features], train_df['fee_cleaned'])\n",
    "for feature, weight in zip(features, model.coef_): print(feature.rjust(20), weight, end = '\\n')"
   ]
  },
  {
   "source": [
    "# K-Nearest Neighbors"
   ],
   "cell_type": "markdown",
   "metadata": {}
  },
  {
   "cell_type": "code",
   "execution_count": 7,
   "metadata": {},
   "outputs": [],
   "source": [
    "scores = []\n",
    "for i in [3, 5, 7, 9, 11, 15, 20, 30]:\n",
    "    model = KNeighborsRegressor(n_neighbors=i, n_jobs = -1)\n",
    "    scores.append(cross_val_score(model, train_df[features], train_df['fee_cleaned'], cv=5).mean())"
   ]
  },
  {
   "cell_type": "code",
   "execution_count": 8,
   "metadata": {},
   "outputs": [
    {
     "output_type": "execute_result",
     "data": {
      "text/plain": [
       "[0.3395082986596324,\n",
       " 0.33655959114811945,\n",
       " 0.3522754084029859,\n",
       " 0.34818120062350816,\n",
       " 0.3415462912500539,\n",
       " 0.3344087341044324,\n",
       " 0.32115103274954737,\n",
       " 0.29698681089542867]"
      ]
     },
     "metadata": {},
     "execution_count": 8
    }
   ],
   "source": [
    "scores"
   ]
  },
  {
   "cell_type": "code",
   "execution_count": 10,
   "metadata": {},
   "outputs": [],
   "source": [
    "model = KNeighborsRegressor(n_neighbors=7, n_jobs = -1)"
   ]
  },
  {
   "cell_type": "code",
   "execution_count": 11,
   "metadata": {},
   "outputs": [
    {
     "output_type": "execute_result",
     "data": {
      "text/plain": [
       "493"
      ]
     },
     "metadata": {},
     "execution_count": 11
    }
   ],
   "source": [
    "bayesian_selection_kNN, i = bayesian_optimization_selection(model, train_df, features, 'fee_cleaned', n_trials = 500)\n",
    "i"
   ]
  },
  {
   "cell_type": "code",
   "execution_count": 12,
   "metadata": {},
   "outputs": [
    {
     "output_type": "execute_result",
     "data": {
      "text/plain": [
       "998"
      ]
     },
     "metadata": {},
     "execution_count": 12
    }
   ],
   "source": [
    "BW_train_df1, i, params = bayesian_optimization_weighting(model, train_df, features, 'fee_cleaned', n_trials = 1000)\n",
    "i"
   ]
  },
  {
   "cell_type": "code",
   "execution_count": 13,
   "metadata": {},
   "outputs": [
    {
     "output_type": "execute_result",
     "data": {
      "text/plain": [
       "937"
      ]
     },
     "metadata": {},
     "execution_count": 13
    }
   ],
   "source": [
    "BW_train_df2, i, params = bayesian_optimization_weighting(model, train_df, bayesian_selection_kNN, 'fee_cleaned', n_trials = 1000)\n",
    "i"
   ]
  },
  {
   "cell_type": "code",
   "execution_count": 14,
   "metadata": {},
   "outputs": [
    {
     "output_type": "stream",
     "name": "stdout",
     "text": [
      "age, ratingFM, injprone, reputation, balance, subedOn, ratingWS, goalsScored, aerialsWon, keyPasses, badTouch, yellow, offsidesProvoked, clearances, ATassists, ATpasses, ATpassesSuccess, ATtackles, ATinterceptions, ATrating, CLMotM, CLrating, ELgoals, ELassists, ELMotM, ELrating, GK, DEF, year, CountryPopulation, UEFAranking, "
     ]
    }
   ],
   "source": [
    "for feature in bayesian_selection_kNN: print(feature, end = ', ')"
   ]
  },
  {
   "cell_type": "code",
   "execution_count": 15,
   "metadata": {},
   "outputs": [
    {
     "output_type": "stream",
     "name": "stdout",
     "text": [
      "0.9080832407084423, 0.7012925463875592, 0.2433677465030823, 0.43873643556493297, 0.13733987827695543, 0.12729724414928298, 0.8103820282148873, 0.1276090501672072, 0.9792140578383226, 0.21118815847435216, 0.0958656589375252, 0.3596522735687437, 0.24420936283503494, 0.2357162180810693, 0.3466849770262128, 0.19745340463169717, 0.355265733461544, 0.036631127766739664, 0.13893172122336592, 0.18949802117182915, 0.3764041693301598, 0.8004980043255004, 0.06863175718700944, 0.3342559092858046, 0.5447965017295756, 0.7349332525126426, 0.18799016060440082, 0.5818613058601788, 0.5619548418945728, 0.03938408091365346, 0.8781337827713466, "
     ]
    }
   ],
   "source": [
    "for feature in bayesian_selection_kNN: print(params[feature], end = ', ')"
   ]
  },
  {
   "cell_type": "code",
   "execution_count": 16,
   "metadata": {},
   "outputs": [],
   "source": [
    "scores = cross_val_predict(model, train_df[features], train_df['fee_cleaned'], cv=5)\n",
    "train_df['KNNclean'] = scores"
   ]
  },
  {
   "cell_type": "code",
   "execution_count": 17,
   "metadata": {},
   "outputs": [],
   "source": [
    "scores = cross_val_predict(model, train_df[bayesian_selection_kNN], train_df['fee_cleaned'], cv=5)\n",
    "train_df['KNNselection'] = scores"
   ]
  },
  {
   "cell_type": "code",
   "execution_count": 18,
   "metadata": {},
   "outputs": [],
   "source": [
    "scores = cross_val_predict(model, BW_train_df1[features], BW_train_df1['fee_cleaned'], cv=5)\n",
    "train_df['KNNweighted'] = scores"
   ]
  },
  {
   "cell_type": "code",
   "execution_count": 19,
   "metadata": {},
   "outputs": [],
   "source": [
    "scores = cross_val_predict(model, BW_train_df2[bayesian_selection_kNN], BW_train_df2['fee_cleaned'], cv=5)\n",
    "train_df['KNNweighted2'] = scores"
   ]
  },
  {
   "cell_type": "code",
   "execution_count": 20,
   "metadata": {},
   "outputs": [],
   "source": [
    "scores = cross_val_predict(model, train_df[features], train_df['fee_log'], cv=5)\n",
    "train_df['KNNlog'] = scores\n",
    "train_df['KNNdelog'] = np.exp(scores) - 1"
   ]
  },
  {
   "cell_type": "code",
   "execution_count": 21,
   "metadata": {},
   "outputs": [
    {
     "output_type": "execute_result",
     "data": {
      "text/plain": [
       "(0.3691810541522962,\n",
       " 0.36187819099713514,\n",
       " 0.46572916867406844,\n",
       " 0.37514258822901414,\n",
       " 0.39860494275885694,\n",
       " 0.26907509518809836)"
      ]
     },
     "metadata": {},
     "execution_count": 21
    }
   ],
   "source": [
    "train_df = train_df.fillna(0)\n",
    "(r2_score(train_df.fee_cleaned, train_df.KNNclean), \n",
    "r2_score(train_df.fee_cleaned, train_df.KNNselection), \n",
    "r2_score(train_df.fee_cleaned, train_df.KNNweighted),\n",
    "r2_score(train_df.fee_cleaned, train_df.KNNweighted2),\n",
    "r2_score(train_df.fee_log, train_df.KNNlog),\n",
    "r2_score(train_df.fee_cleaned, train_df.KNNdelog))"
   ]
  },
  {
   "cell_type": "code",
   "execution_count": 22,
   "metadata": {},
   "outputs": [
    {
     "output_type": "execute_result",
     "data": {
      "text/plain": [
       "            player_name   club_involved_name  fee_cleaned   KNNclean  \\\n",
       "342       Dimitri Payet      West Ham United        13.50  34.457143   \n",
       "56   Henrikh Mkhitaryan    Manchester United        37.80  36.064286   \n",
       "59           Sadio Mané         Liverpool FC        37.08  36.367143   \n",
       "17       Ángel Di María    Manchester United        67.50  36.540000   \n",
       "16      James Rodríguez          Real Madrid        67.50  42.364286   \n",
       "6           Eden Hazard          Real Madrid       103.50  44.524286   \n",
       "103       Cesc Fàbregas           Chelsea FC        29.70  45.064286   \n",
       "0                Neymar  Paris Saint-Germain       199.80  58.088571   \n",
       "4     Antoine Griezmann         FC Barcelona       108.00  82.671429   \n",
       "5     Cristiano Ronaldo          Juventus FC       105.30  85.950000   \n",
       "\n",
       "     KNNselection  KNNweighted  KNNweighted2   KNNdelog   fee_log    KNNlog  \n",
       "342     30.471429    31.114286     27.617143  20.698453  2.674149  3.077241  \n",
       "56      36.257143    31.307143     33.750000  23.182884  3.658420  3.185645  \n",
       "59      24.320000    33.757143     31.610000  29.549592  3.639689  3.419351  \n",
       "17      55.478571    38.764286     32.592857  30.841700  4.226834  3.460777  \n",
       "16      27.835714    21.664286     18.900000  30.320605  4.226834  3.444276  \n",
       "6       55.864286    37.697143     35.948571  36.437239  4.649187  3.622666  \n",
       "103     33.814286    42.544286     33.364286  35.848766  3.424263  3.606822  \n",
       "0       75.445714    66.728571     61.817143  42.025396  5.302309  3.761791  \n",
       "4       35.994286    86.335714     29.462857  40.448393  4.691348  3.724449  \n",
       "5       62.228571    81.578571     61.778571  58.493169  4.666265  4.085862  "
      ],
      "text/html": "<div>\n<style scoped>\n    .dataframe tbody tr th:only-of-type {\n        vertical-align: middle;\n    }\n\n    .dataframe tbody tr th {\n        vertical-align: top;\n    }\n\n    .dataframe thead th {\n        text-align: right;\n    }\n</style>\n<table border=\"1\" class=\"dataframe\">\n  <thead>\n    <tr style=\"text-align: right;\">\n      <th></th>\n      <th>player_name</th>\n      <th>club_involved_name</th>\n      <th>fee_cleaned</th>\n      <th>KNNclean</th>\n      <th>KNNselection</th>\n      <th>KNNweighted</th>\n      <th>KNNweighted2</th>\n      <th>KNNdelog</th>\n      <th>fee_log</th>\n      <th>KNNlog</th>\n    </tr>\n  </thead>\n  <tbody>\n    <tr>\n      <th>342</th>\n      <td>Dimitri Payet</td>\n      <td>West Ham United</td>\n      <td>13.50</td>\n      <td>34.457143</td>\n      <td>30.471429</td>\n      <td>31.114286</td>\n      <td>27.617143</td>\n      <td>20.698453</td>\n      <td>2.674149</td>\n      <td>3.077241</td>\n    </tr>\n    <tr>\n      <th>56</th>\n      <td>Henrikh Mkhitaryan</td>\n      <td>Manchester United</td>\n      <td>37.80</td>\n      <td>36.064286</td>\n      <td>36.257143</td>\n      <td>31.307143</td>\n      <td>33.750000</td>\n      <td>23.182884</td>\n      <td>3.658420</td>\n      <td>3.185645</td>\n    </tr>\n    <tr>\n      <th>59</th>\n      <td>Sadio Mané</td>\n      <td>Liverpool FC</td>\n      <td>37.08</td>\n      <td>36.367143</td>\n      <td>24.320000</td>\n      <td>33.757143</td>\n      <td>31.610000</td>\n      <td>29.549592</td>\n      <td>3.639689</td>\n      <td>3.419351</td>\n    </tr>\n    <tr>\n      <th>17</th>\n      <td>Ángel Di María</td>\n      <td>Manchester United</td>\n      <td>67.50</td>\n      <td>36.540000</td>\n      <td>55.478571</td>\n      <td>38.764286</td>\n      <td>32.592857</td>\n      <td>30.841700</td>\n      <td>4.226834</td>\n      <td>3.460777</td>\n    </tr>\n    <tr>\n      <th>16</th>\n      <td>James Rodríguez</td>\n      <td>Real Madrid</td>\n      <td>67.50</td>\n      <td>42.364286</td>\n      <td>27.835714</td>\n      <td>21.664286</td>\n      <td>18.900000</td>\n      <td>30.320605</td>\n      <td>4.226834</td>\n      <td>3.444276</td>\n    </tr>\n    <tr>\n      <th>6</th>\n      <td>Eden Hazard</td>\n      <td>Real Madrid</td>\n      <td>103.50</td>\n      <td>44.524286</td>\n      <td>55.864286</td>\n      <td>37.697143</td>\n      <td>35.948571</td>\n      <td>36.437239</td>\n      <td>4.649187</td>\n      <td>3.622666</td>\n    </tr>\n    <tr>\n      <th>103</th>\n      <td>Cesc Fàbregas</td>\n      <td>Chelsea FC</td>\n      <td>29.70</td>\n      <td>45.064286</td>\n      <td>33.814286</td>\n      <td>42.544286</td>\n      <td>33.364286</td>\n      <td>35.848766</td>\n      <td>3.424263</td>\n      <td>3.606822</td>\n    </tr>\n    <tr>\n      <th>0</th>\n      <td>Neymar</td>\n      <td>Paris Saint-Germain</td>\n      <td>199.80</td>\n      <td>58.088571</td>\n      <td>75.445714</td>\n      <td>66.728571</td>\n      <td>61.817143</td>\n      <td>42.025396</td>\n      <td>5.302309</td>\n      <td>3.761791</td>\n    </tr>\n    <tr>\n      <th>4</th>\n      <td>Antoine Griezmann</td>\n      <td>FC Barcelona</td>\n      <td>108.00</td>\n      <td>82.671429</td>\n      <td>35.994286</td>\n      <td>86.335714</td>\n      <td>29.462857</td>\n      <td>40.448393</td>\n      <td>4.691348</td>\n      <td>3.724449</td>\n    </tr>\n    <tr>\n      <th>5</th>\n      <td>Cristiano Ronaldo</td>\n      <td>Juventus FC</td>\n      <td>105.30</td>\n      <td>85.950000</td>\n      <td>62.228571</td>\n      <td>81.578571</td>\n      <td>61.778571</td>\n      <td>58.493169</td>\n      <td>4.666265</td>\n      <td>4.085862</td>\n    </tr>\n  </tbody>\n</table>\n</div>"
     },
     "metadata": {},
     "execution_count": 22
    }
   ],
   "source": [
    "train_df[['player_name','club_involved_name','fee_cleaned','KNNclean','KNNselection','KNNweighted','KNNweighted2','KNNdelog','fee_log','KNNlog']].sort_values('KNNclean').tail(10)"
   ]
  },
  {
   "source": [
    "# Random Forest"
   ],
   "cell_type": "markdown",
   "metadata": {}
  },
  {
   "cell_type": "code",
   "execution_count": 31,
   "metadata": {},
   "outputs": [
    {
     "output_type": "stream",
     "name": "stderr",
     "text": [
      "100%|██████████| 4/4 [00:33<00:00,  8.38s/it]\n"
     ]
    }
   ],
   "source": [
    "scores = []\n",
    "for i in tqdm([30, 100, 300, 500]):\n",
    "    model = RandomForestRegressor(n_estimators=i, n_jobs = -1)\n",
    "    scores.append(cross_val_score(model, train_df[features], train_df['fee_cleaned'], cv=5).mean())"
   ]
  },
  {
   "cell_type": "code",
   "execution_count": 32,
   "metadata": {},
   "outputs": [
    {
     "output_type": "execute_result",
     "data": {
      "text/plain": [
       "[0.48367680749018616,\n",
       " 0.5324610047528318,\n",
       " 0.5277942465130059,\n",
       " 0.5306557942519766]"
      ]
     },
     "metadata": {},
     "execution_count": 32
    }
   ],
   "source": [
    "scores"
   ]
  },
  {
   "cell_type": "code",
   "execution_count": 33,
   "metadata": {},
   "outputs": [],
   "source": [
    "model = RandomForestRegressor(n_estimators=300, n_jobs = -1)"
   ]
  },
  {
   "cell_type": "code",
   "execution_count": 34,
   "metadata": {},
   "outputs": [
    {
     "output_type": "execute_result",
     "data": {
      "text/plain": [
       "454"
      ]
     },
     "metadata": {},
     "execution_count": 34
    }
   ],
   "source": [
    "bayesian_selection_RF, i = bayesian_optimization_selection(model, train_df, features, 'fee_cleaned', n_trials = 500)\n",
    "i"
   ]
  },
  {
   "cell_type": "code",
   "execution_count": 35,
   "metadata": {},
   "outputs": [
    {
     "output_type": "stream",
     "name": "stdout",
     "text": [
      "age, wage, potential, injprone, afterloan, contract, balance, trainingfacilities, youthfacilities, stadiumcap, gamesPlayed, subedOn, MotM, ratingWS, assists, dispossessed, throughBalls, interceptions, offsidesProvoked, ownGoal, ATaction, ATpasses, ATpassesSuccess, ATtackles, CLaction, CLgoals, CLassists, CLrating, ELaction, GK, MID, Central, CountryPopulation, "
     ]
    }
   ],
   "source": [
    "for feature in bayesian_selection_RF: print(feature, end = ', ')"
   ]
  },
  {
   "cell_type": "code",
   "execution_count": 36,
   "metadata": {},
   "outputs": [],
   "source": [
    "scores = cross_val_predict(model, train_df[features], train_df['fee_cleaned'], cv=5)\n",
    "train_df['RFclean'] = scores"
   ]
  },
  {
   "cell_type": "code",
   "execution_count": 37,
   "metadata": {},
   "outputs": [],
   "source": [
    "scores = cross_val_predict(model, train_df[bayesian_selection_RF], train_df['fee_cleaned'], cv=5)\n",
    "train_df['RFselection'] = scores"
   ]
  },
  {
   "cell_type": "code",
   "execution_count": 38,
   "metadata": {},
   "outputs": [],
   "source": [
    "scores = cross_val_predict(model, train_df[features], train_df['fee_log'], cv=5)\n",
    "train_df['RFlog'] = scores\n",
    "train_df['RFdelog'] = np.exp(scores) - 1"
   ]
  },
  {
   "cell_type": "code",
   "execution_count": 39,
   "metadata": {},
   "outputs": [
    {
     "output_type": "execute_result",
     "data": {
      "text/plain": [
       "(0.5393858286364899,\n",
       " 0.5593179253834581,\n",
       " 0.6488220457017393,\n",
       " 0.45828373824975155)"
      ]
     },
     "metadata": {},
     "execution_count": 39
    }
   ],
   "source": [
    "train_df = train_df.fillna(0)\n",
    "(r2_score(train_df.fee_cleaned, train_df.RFclean), \n",
    "r2_score(train_df.fee_cleaned, train_df.RFselection), \n",
    "r2_score(train_df.fee_log, train_df.RFlog),\n",
    "r2_score(train_df.fee_cleaned, train_df.RFdelog))"
   ]
  },
  {
   "cell_type": "code",
   "execution_count": 40,
   "metadata": {},
   "outputs": [
    {
     "output_type": "execute_result",
     "data": {
      "text/plain": [
       "             player_name       club_involved_name  fee_cleaned     RFclean  \\\n",
       "1538     Gabriele Perico                AC Cesena        0.090    0.679253   \n",
       "1505  Sebastian Eriksson             FK Krasnodar        0.293    0.691377   \n",
       "1465      Branko Jovicic  SBV Excelsior Rotterdam        0.450    0.737377   \n",
       "1402     Ismaël Diomandé                  SM Caen        0.675    0.851703   \n",
       "854        Davide Brivio                Genoa CFC        3.600    0.893727   \n",
       "...                  ...                      ...          ...         ...   \n",
       "4      Antoine Griezmann             FC Barcelona      108.000   93.878033   \n",
       "6            Eden Hazard              Real Madrid      103.500   93.928367   \n",
       "29            Luka Jovic              Real Madrid       54.000   99.932867   \n",
       "184           Luka Jovic      Eintracht Frankfurt       20.250   99.983867   \n",
       "5      Cristiano Ronaldo              Juventus FC      105.300  104.195267   \n",
       "\n",
       "      RFselection    RFdelog   fee_log     RFlog  \n",
       "1538     0.833697   0.636132  0.086178  0.492335  \n",
       "1505     0.609533   0.620375  0.256965  0.482658  \n",
       "1465     0.780553   0.629659  0.371564  0.488371  \n",
       "1402     1.174503   0.872858  0.515813  0.627465  \n",
       "854      0.899117   0.779190  1.526056  0.576158  \n",
       "...           ...        ...       ...       ...  \n",
       "4      111.219767  37.668931  4.691348  3.655036  \n",
       "6       97.005600  47.844853  4.649187  3.888649  \n",
       "29      96.203433  18.353797  4.007333  2.962889  \n",
       "184     96.204333  18.016731  3.056357  2.945319  \n",
       "5      116.565167  30.429172  4.666265  3.447737  \n",
       "\n",
       "[1236 rows x 8 columns]"
      ],
      "text/html": "<div>\n<style scoped>\n    .dataframe tbody tr th:only-of-type {\n        vertical-align: middle;\n    }\n\n    .dataframe tbody tr th {\n        vertical-align: top;\n    }\n\n    .dataframe thead th {\n        text-align: right;\n    }\n</style>\n<table border=\"1\" class=\"dataframe\">\n  <thead>\n    <tr style=\"text-align: right;\">\n      <th></th>\n      <th>player_name</th>\n      <th>club_involved_name</th>\n      <th>fee_cleaned</th>\n      <th>RFclean</th>\n      <th>RFselection</th>\n      <th>RFdelog</th>\n      <th>fee_log</th>\n      <th>RFlog</th>\n    </tr>\n  </thead>\n  <tbody>\n    <tr>\n      <th>1538</th>\n      <td>Gabriele Perico</td>\n      <td>AC Cesena</td>\n      <td>0.090</td>\n      <td>0.679253</td>\n      <td>0.833697</td>\n      <td>0.636132</td>\n      <td>0.086178</td>\n      <td>0.492335</td>\n    </tr>\n    <tr>\n      <th>1505</th>\n      <td>Sebastian Eriksson</td>\n      <td>FK Krasnodar</td>\n      <td>0.293</td>\n      <td>0.691377</td>\n      <td>0.609533</td>\n      <td>0.620375</td>\n      <td>0.256965</td>\n      <td>0.482658</td>\n    </tr>\n    <tr>\n      <th>1465</th>\n      <td>Branko Jovicic</td>\n      <td>SBV Excelsior Rotterdam</td>\n      <td>0.450</td>\n      <td>0.737377</td>\n      <td>0.780553</td>\n      <td>0.629659</td>\n      <td>0.371564</td>\n      <td>0.488371</td>\n    </tr>\n    <tr>\n      <th>1402</th>\n      <td>Ismaël Diomandé</td>\n      <td>SM Caen</td>\n      <td>0.675</td>\n      <td>0.851703</td>\n      <td>1.174503</td>\n      <td>0.872858</td>\n      <td>0.515813</td>\n      <td>0.627465</td>\n    </tr>\n    <tr>\n      <th>854</th>\n      <td>Davide Brivio</td>\n      <td>Genoa CFC</td>\n      <td>3.600</td>\n      <td>0.893727</td>\n      <td>0.899117</td>\n      <td>0.779190</td>\n      <td>1.526056</td>\n      <td>0.576158</td>\n    </tr>\n    <tr>\n      <th>...</th>\n      <td>...</td>\n      <td>...</td>\n      <td>...</td>\n      <td>...</td>\n      <td>...</td>\n      <td>...</td>\n      <td>...</td>\n      <td>...</td>\n    </tr>\n    <tr>\n      <th>4</th>\n      <td>Antoine Griezmann</td>\n      <td>FC Barcelona</td>\n      <td>108.000</td>\n      <td>93.878033</td>\n      <td>111.219767</td>\n      <td>37.668931</td>\n      <td>4.691348</td>\n      <td>3.655036</td>\n    </tr>\n    <tr>\n      <th>6</th>\n      <td>Eden Hazard</td>\n      <td>Real Madrid</td>\n      <td>103.500</td>\n      <td>93.928367</td>\n      <td>97.005600</td>\n      <td>47.844853</td>\n      <td>4.649187</td>\n      <td>3.888649</td>\n    </tr>\n    <tr>\n      <th>29</th>\n      <td>Luka Jovic</td>\n      <td>Real Madrid</td>\n      <td>54.000</td>\n      <td>99.932867</td>\n      <td>96.203433</td>\n      <td>18.353797</td>\n      <td>4.007333</td>\n      <td>2.962889</td>\n    </tr>\n    <tr>\n      <th>184</th>\n      <td>Luka Jovic</td>\n      <td>Eintracht Frankfurt</td>\n      <td>20.250</td>\n      <td>99.983867</td>\n      <td>96.204333</td>\n      <td>18.016731</td>\n      <td>3.056357</td>\n      <td>2.945319</td>\n    </tr>\n    <tr>\n      <th>5</th>\n      <td>Cristiano Ronaldo</td>\n      <td>Juventus FC</td>\n      <td>105.300</td>\n      <td>104.195267</td>\n      <td>116.565167</td>\n      <td>30.429172</td>\n      <td>4.666265</td>\n      <td>3.447737</td>\n    </tr>\n  </tbody>\n</table>\n<p>1236 rows × 8 columns</p>\n</div>"
     },
     "metadata": {},
     "execution_count": 40
    }
   ],
   "source": [
    "train_df[['player_name','club_involved_name','fee_cleaned','RFclean','RFselection','RFdelog','fee_log','RFlog']].sort_values('RFclean')"
   ]
  },
  {
   "source": [
    "# Gradient Boosting"
   ],
   "cell_type": "markdown",
   "metadata": {}
  },
  {
   "cell_type": "code",
   "execution_count": 41,
   "metadata": {},
   "outputs": [
    {
     "output_type": "stream",
     "name": "stderr",
     "text": [
      "100%|██████████| 6/6 [01:51<00:00, 18.62s/it]\n"
     ]
    }
   ],
   "source": [
    "scores = []\n",
    "for i in tqdm([30, 100, 300, 500, 700, 1000]):\n",
    "    model = GradientBoostingRegressor(n_estimators=i)\n",
    "    scores.append(cross_val_score(model, train_df[features], train_df['fee_cleaned'], cv=5).mean())"
   ]
  },
  {
   "cell_type": "code",
   "execution_count": 42,
   "metadata": {},
   "outputs": [
    {
     "output_type": "execute_result",
     "data": {
      "text/plain": [
       "[0.5126168389858454,\n",
       " 0.5643571104130096,\n",
       " 0.5769807395129604,\n",
       " 0.5595037987341529,\n",
       " 0.5637608356579934,\n",
       " 0.5643680740521304]"
      ]
     },
     "metadata": {},
     "execution_count": 42
    }
   ],
   "source": [
    "scores"
   ]
  },
  {
   "cell_type": "code",
   "execution_count": 43,
   "metadata": {},
   "outputs": [],
   "source": [
    "model = GradientBoostingRegressor(n_estimators=1000)"
   ]
  },
  {
   "cell_type": "code",
   "execution_count": 44,
   "metadata": {},
   "outputs": [
    {
     "output_type": "execute_result",
     "data": {
      "text/plain": [
       "463"
      ]
     },
     "metadata": {},
     "execution_count": 44
    }
   ],
   "source": [
    "bayesian_selection_GB, i = bayesian_optimization_selection(model, train_df, features, 'fee_cleaned', n_trials = 500)\n",
    "i"
   ]
  },
  {
   "cell_type": "code",
   "execution_count": 45,
   "metadata": {},
   "outputs": [
    {
     "output_type": "stream",
     "name": "stdout",
     "text": [
      "age, ratingFM, potential, afterloan, contract, reputation, balance, wagebudget, trainingfacilities, stadiumcap, gamesPlayed, subedOn, passes, passesSuccess, keyPasses, offsides, dispossessed, crosses, yellow, red, interceptions, offsidesProvoked, clearances, ownGoal, ATaction, CLgoals, CLMotM, ELaction, GK, MID, Central, year, CountryPopulation, UEFAranking, "
     ]
    }
   ],
   "source": [
    "for feature in bayesian_selection_GB: print(feature, end = ', ')"
   ]
  },
  {
   "cell_type": "code",
   "execution_count": 46,
   "metadata": {},
   "outputs": [],
   "source": [
    "scores = cross_val_predict(model, train_df[features], train_df['fee_cleaned'], cv=5)\n",
    "train_df['GBclean'] = scores"
   ]
  },
  {
   "cell_type": "code",
   "execution_count": 47,
   "metadata": {},
   "outputs": [],
   "source": [
    "scores = cross_val_predict(model, train_df[features], train_df['fee_cleaned'], cv=5)\n",
    "train_df['GBselection'] = scores"
   ]
  },
  {
   "cell_type": "code",
   "execution_count": 48,
   "metadata": {},
   "outputs": [],
   "source": [
    "scores = cross_val_predict(model, train_df[features], train_df['fee_log'], cv=5)\n",
    "train_df['GBlog'] = scores\n",
    "train_df['GBdelog'] = np.exp(scores) - 1"
   ]
  },
  {
   "cell_type": "code",
   "execution_count": 49,
   "metadata": {},
   "outputs": [
    {
     "output_type": "execute_result",
     "data": {
      "text/plain": [
       "(0.5861165041680523,\n",
       " 0.5776995254336622,\n",
       " 0.6993029745784354,\n",
       " 0.6185865195934572)"
      ]
     },
     "metadata": {},
     "execution_count": 49
    }
   ],
   "source": [
    "train_df = train_df.fillna(0)\n",
    "(r2_score(train_df.fee_cleaned, train_df.GBclean), \n",
    "r2_score(train_df.fee_cleaned, train_df.GBselection), \n",
    "r2_score(train_df.fee_log, train_df.GBlog),\n",
    "r2_score(train_df.fee_cleaned, train_df.GBdelog))"
   ]
  },
  {
   "cell_type": "code",
   "execution_count": 50,
   "metadata": {},
   "outputs": [
    {
     "output_type": "execute_result",
     "data": {
      "text/plain": [
       "             player_name   club_involved_name  fee_cleaned     GBclean  \\\n",
       "856          Miha Mevlja             FC Sochi        3.600   -4.991574   \n",
       "1382  Rajiv van La Parra    Huddersfield Town        0.810   -2.978535   \n",
       "1464   Emil Hallfredsson     Frosinone Calcio        0.450   -2.552578   \n",
       "1451                Gegé       ACF Fiorentina        0.450   -2.474441   \n",
       "1497        Kenneth Paal           PEC Zwolle        0.315   -2.282616   \n",
       "...                  ...                  ...          ...         ...   \n",
       "29            Luka Jovic          Real Madrid       54.000   89.171178   \n",
       "0                 Neymar  Paris Saint-Germain      199.800  107.244404   \n",
       "6            Eden Hazard          Real Madrid      103.500  110.200801   \n",
       "5      Cristiano Ronaldo          Juventus FC      105.300  122.142792   \n",
       "4      Antoine Griezmann         FC Barcelona      108.000  140.286205   \n",
       "\n",
       "      GBselection     GBdelog   fee_log     GBlog  \n",
       "856     -4.991574    1.380422  1.526056  0.867278  \n",
       "1382    -2.901342    1.020566  0.593327  0.703377  \n",
       "1464    -2.399905    0.003374  0.371564  0.003369  \n",
       "1451    -2.862698    0.035454  0.371564  0.034840  \n",
       "1497    -1.439295    0.181563  0.273837  0.166838  \n",
       "...           ...         ...       ...       ...  \n",
       "29      99.225470   30.156088  4.007333  3.439010  \n",
       "0      104.902972  271.153740  5.302309  5.606367  \n",
       "6      107.340505   83.884898  4.649187  4.441296  \n",
       "5      110.584632   19.454063  4.666265  3.018182  \n",
       "4      132.451855   84.448369  4.691348  4.447912  \n",
       "\n",
       "[1236 rows x 8 columns]"
      ],
      "text/html": "<div>\n<style scoped>\n    .dataframe tbody tr th:only-of-type {\n        vertical-align: middle;\n    }\n\n    .dataframe tbody tr th {\n        vertical-align: top;\n    }\n\n    .dataframe thead th {\n        text-align: right;\n    }\n</style>\n<table border=\"1\" class=\"dataframe\">\n  <thead>\n    <tr style=\"text-align: right;\">\n      <th></th>\n      <th>player_name</th>\n      <th>club_involved_name</th>\n      <th>fee_cleaned</th>\n      <th>GBclean</th>\n      <th>GBselection</th>\n      <th>GBdelog</th>\n      <th>fee_log</th>\n      <th>GBlog</th>\n    </tr>\n  </thead>\n  <tbody>\n    <tr>\n      <th>856</th>\n      <td>Miha Mevlja</td>\n      <td>FC Sochi</td>\n      <td>3.600</td>\n      <td>-4.991574</td>\n      <td>-4.991574</td>\n      <td>1.380422</td>\n      <td>1.526056</td>\n      <td>0.867278</td>\n    </tr>\n    <tr>\n      <th>1382</th>\n      <td>Rajiv van La Parra</td>\n      <td>Huddersfield Town</td>\n      <td>0.810</td>\n      <td>-2.978535</td>\n      <td>-2.901342</td>\n      <td>1.020566</td>\n      <td>0.593327</td>\n      <td>0.703377</td>\n    </tr>\n    <tr>\n      <th>1464</th>\n      <td>Emil Hallfredsson</td>\n      <td>Frosinone Calcio</td>\n      <td>0.450</td>\n      <td>-2.552578</td>\n      <td>-2.399905</td>\n      <td>0.003374</td>\n      <td>0.371564</td>\n      <td>0.003369</td>\n    </tr>\n    <tr>\n      <th>1451</th>\n      <td>Gegé</td>\n      <td>ACF Fiorentina</td>\n      <td>0.450</td>\n      <td>-2.474441</td>\n      <td>-2.862698</td>\n      <td>0.035454</td>\n      <td>0.371564</td>\n      <td>0.034840</td>\n    </tr>\n    <tr>\n      <th>1497</th>\n      <td>Kenneth Paal</td>\n      <td>PEC Zwolle</td>\n      <td>0.315</td>\n      <td>-2.282616</td>\n      <td>-1.439295</td>\n      <td>0.181563</td>\n      <td>0.273837</td>\n      <td>0.166838</td>\n    </tr>\n    <tr>\n      <th>...</th>\n      <td>...</td>\n      <td>...</td>\n      <td>...</td>\n      <td>...</td>\n      <td>...</td>\n      <td>...</td>\n      <td>...</td>\n      <td>...</td>\n    </tr>\n    <tr>\n      <th>29</th>\n      <td>Luka Jovic</td>\n      <td>Real Madrid</td>\n      <td>54.000</td>\n      <td>89.171178</td>\n      <td>99.225470</td>\n      <td>30.156088</td>\n      <td>4.007333</td>\n      <td>3.439010</td>\n    </tr>\n    <tr>\n      <th>0</th>\n      <td>Neymar</td>\n      <td>Paris Saint-Germain</td>\n      <td>199.800</td>\n      <td>107.244404</td>\n      <td>104.902972</td>\n      <td>271.153740</td>\n      <td>5.302309</td>\n      <td>5.606367</td>\n    </tr>\n    <tr>\n      <th>6</th>\n      <td>Eden Hazard</td>\n      <td>Real Madrid</td>\n      <td>103.500</td>\n      <td>110.200801</td>\n      <td>107.340505</td>\n      <td>83.884898</td>\n      <td>4.649187</td>\n      <td>4.441296</td>\n    </tr>\n    <tr>\n      <th>5</th>\n      <td>Cristiano Ronaldo</td>\n      <td>Juventus FC</td>\n      <td>105.300</td>\n      <td>122.142792</td>\n      <td>110.584632</td>\n      <td>19.454063</td>\n      <td>4.666265</td>\n      <td>3.018182</td>\n    </tr>\n    <tr>\n      <th>4</th>\n      <td>Antoine Griezmann</td>\n      <td>FC Barcelona</td>\n      <td>108.000</td>\n      <td>140.286205</td>\n      <td>132.451855</td>\n      <td>84.448369</td>\n      <td>4.691348</td>\n      <td>4.447912</td>\n    </tr>\n  </tbody>\n</table>\n<p>1236 rows × 8 columns</p>\n</div>"
     },
     "metadata": {},
     "execution_count": 50
    }
   ],
   "source": [
    "train_df[['player_name','club_involved_name','fee_cleaned','GBclean','GBselection','GBdelog','fee_log','GBlog']].sort_values('GBclean')"
   ]
  },
  {
   "source": [
    "# Deep Learning"
   ],
   "cell_type": "markdown",
   "metadata": {}
  },
  {
   "cell_type": "code",
   "execution_count": 51,
   "metadata": {},
   "outputs": [],
   "source": [
    "model = MLPRegressor(hidden_layer_sizes=(200, 200, 200), activation='relu', learning_rate_init=0.001, max_iter=600)"
   ]
  },
  {
   "cell_type": "code",
   "execution_count": 52,
   "metadata": {},
   "outputs": [
    {
     "output_type": "execute_result",
     "data": {
      "text/plain": [
       "370"
      ]
     },
     "metadata": {},
     "execution_count": 52
    }
   ],
   "source": [
    "bayesian_selection_NN, i = bayesian_optimization_selection(model, train_df, features, 'fee_cleaned', n_trials = 500)\n",
    "i"
   ]
  },
  {
   "cell_type": "code",
   "execution_count": 53,
   "metadata": {},
   "outputs": [
    {
     "output_type": "stream",
     "name": "stdout",
     "text": [
      "age, wage, ratingFM, injprone, afterloan, contract, reputation, balance, wagebudget, youthacademy, stadiumcap, gamesPlayed, ratingWS, assists, shots, passesSuccess, aerialsWon, keyPasses, dispossessed, badTouch, tackles, interceptions, fouls, blockedPass, ownGoal, ATassists, ATshots, ATpasses, CLaction, CLMotM, ELassists, ELMotM, DEF, CountryPopulation, UEFAranking, eurgbp, "
     ]
    }
   ],
   "source": [
    "for feature in bayesian_selection_NN: print(feature, end = ', ')"
   ]
  },
  {
   "cell_type": "code",
   "execution_count": 54,
   "metadata": {},
   "outputs": [],
   "source": [
    "scores = cross_val_predict(model, train_df[features], train_df['fee_cleaned'], cv=5)\n",
    "train_df['NNclean'] = scores"
   ]
  },
  {
   "cell_type": "code",
   "execution_count": 55,
   "metadata": {},
   "outputs": [],
   "source": [
    "scores = cross_val_predict(model, train_df[bayesian_selection_NN], train_df['fee_cleaned'], cv=5)\n",
    "train_df['NNselection'] = scores"
   ]
  },
  {
   "cell_type": "code",
   "execution_count": 56,
   "metadata": {},
   "outputs": [],
   "source": [
    "scores = cross_val_predict(model, train_df[features], train_df['fee_log'], cv=5)\n",
    "train_df['NNlog'] = scores\n",
    "train_df['NNdelog'] = np.exp(scores) - 1"
   ]
  },
  {
   "cell_type": "code",
   "execution_count": 57,
   "metadata": {},
   "outputs": [
    {
     "output_type": "execute_result",
     "data": {
      "text/plain": [
       "(0.659420705035654,\n",
       " 0.6810572310566261,\n",
       " 0.5989513616802553,\n",
       " -10.255606898063055)"
      ]
     },
     "metadata": {},
     "execution_count": 57
    }
   ],
   "source": [
    "train_df = train_df.fillna(0)\n",
    "(r2_score(train_df.fee_cleaned, train_df.NNclean), \n",
    "r2_score(train_df.fee_cleaned, train_df.NNselection),\n",
    "r2_score(train_df.fee_log, train_df.NNlog),\n",
    "r2_score(train_df.fee_cleaned, train_df.NNdelog))"
   ]
  },
  {
   "cell_type": "code",
   "execution_count": 58,
   "metadata": {},
   "outputs": [
    {
     "output_type": "execute_result",
     "data": {
      "text/plain": [
       "            player_name   club_involved_name  fee_cleaned     NNclean  \\\n",
       "1003       Thomas Touré           SCO Angers        2.700   -1.488517   \n",
       "1531        Anouar Kali           FC Utrecht        0.135   -0.945229   \n",
       "1404               Cauê       Ajax Amsterdam        0.675   -0.837385   \n",
       "1500      Clint Leemans           PEC Zwolle        0.315   -0.799803   \n",
       "1270       Alfred Gomis            SPAL 2013        1.350   -0.704799   \n",
       "...                 ...                  ...          ...         ...   \n",
       "7            Paul Pogba    Manchester United       94.500   80.320398   \n",
       "1         Kylian Mbappé  Paris Saint-Germain      130.500   89.215063   \n",
       "5     Cristiano Ronaldo          Juventus FC      105.300  106.885456   \n",
       "4     Antoine Griezmann         FC Barcelona      108.000  162.868999   \n",
       "0                Neymar  Paris Saint-Germain      199.800  165.638996   \n",
       "\n",
       "      NNselection      NNdelog   fee_log     NNlog  \n",
       "1003     0.535790     6.426560  1.308333  2.005063  \n",
       "1531     0.417662    -0.062590  0.126633 -0.064635  \n",
       "1404     0.473847     0.947005  0.515813  0.666292  \n",
       "1500     0.906280     0.496794  0.273837  0.403326  \n",
       "1270     2.100146     0.941437  0.854415  0.663429  \n",
       "...           ...          ...       ...       ...  \n",
       "7      105.356395   124.921293  4.559126  4.835657  \n",
       "1       83.025670    74.087242  4.879007  4.318651  \n",
       "5      112.721457   308.940666  4.666265  5.736381  \n",
       "4      184.955370  1766.602249  4.691348  7.477379  \n",
       "0      194.686618   555.745909  5.302309  6.322109  \n",
       "\n",
       "[1236 rows x 8 columns]"
      ],
      "text/html": "<div>\n<style scoped>\n    .dataframe tbody tr th:only-of-type {\n        vertical-align: middle;\n    }\n\n    .dataframe tbody tr th {\n        vertical-align: top;\n    }\n\n    .dataframe thead th {\n        text-align: right;\n    }\n</style>\n<table border=\"1\" class=\"dataframe\">\n  <thead>\n    <tr style=\"text-align: right;\">\n      <th></th>\n      <th>player_name</th>\n      <th>club_involved_name</th>\n      <th>fee_cleaned</th>\n      <th>NNclean</th>\n      <th>NNselection</th>\n      <th>NNdelog</th>\n      <th>fee_log</th>\n      <th>NNlog</th>\n    </tr>\n  </thead>\n  <tbody>\n    <tr>\n      <th>1003</th>\n      <td>Thomas Touré</td>\n      <td>SCO Angers</td>\n      <td>2.700</td>\n      <td>-1.488517</td>\n      <td>0.535790</td>\n      <td>6.426560</td>\n      <td>1.308333</td>\n      <td>2.005063</td>\n    </tr>\n    <tr>\n      <th>1531</th>\n      <td>Anouar Kali</td>\n      <td>FC Utrecht</td>\n      <td>0.135</td>\n      <td>-0.945229</td>\n      <td>0.417662</td>\n      <td>-0.062590</td>\n      <td>0.126633</td>\n      <td>-0.064635</td>\n    </tr>\n    <tr>\n      <th>1404</th>\n      <td>Cauê</td>\n      <td>Ajax Amsterdam</td>\n      <td>0.675</td>\n      <td>-0.837385</td>\n      <td>0.473847</td>\n      <td>0.947005</td>\n      <td>0.515813</td>\n      <td>0.666292</td>\n    </tr>\n    <tr>\n      <th>1500</th>\n      <td>Clint Leemans</td>\n      <td>PEC Zwolle</td>\n      <td>0.315</td>\n      <td>-0.799803</td>\n      <td>0.906280</td>\n      <td>0.496794</td>\n      <td>0.273837</td>\n      <td>0.403326</td>\n    </tr>\n    <tr>\n      <th>1270</th>\n      <td>Alfred Gomis</td>\n      <td>SPAL 2013</td>\n      <td>1.350</td>\n      <td>-0.704799</td>\n      <td>2.100146</td>\n      <td>0.941437</td>\n      <td>0.854415</td>\n      <td>0.663429</td>\n    </tr>\n    <tr>\n      <th>...</th>\n      <td>...</td>\n      <td>...</td>\n      <td>...</td>\n      <td>...</td>\n      <td>...</td>\n      <td>...</td>\n      <td>...</td>\n      <td>...</td>\n    </tr>\n    <tr>\n      <th>7</th>\n      <td>Paul Pogba</td>\n      <td>Manchester United</td>\n      <td>94.500</td>\n      <td>80.320398</td>\n      <td>105.356395</td>\n      <td>124.921293</td>\n      <td>4.559126</td>\n      <td>4.835657</td>\n    </tr>\n    <tr>\n      <th>1</th>\n      <td>Kylian Mbappé</td>\n      <td>Paris Saint-Germain</td>\n      <td>130.500</td>\n      <td>89.215063</td>\n      <td>83.025670</td>\n      <td>74.087242</td>\n      <td>4.879007</td>\n      <td>4.318651</td>\n    </tr>\n    <tr>\n      <th>5</th>\n      <td>Cristiano Ronaldo</td>\n      <td>Juventus FC</td>\n      <td>105.300</td>\n      <td>106.885456</td>\n      <td>112.721457</td>\n      <td>308.940666</td>\n      <td>4.666265</td>\n      <td>5.736381</td>\n    </tr>\n    <tr>\n      <th>4</th>\n      <td>Antoine Griezmann</td>\n      <td>FC Barcelona</td>\n      <td>108.000</td>\n      <td>162.868999</td>\n      <td>184.955370</td>\n      <td>1766.602249</td>\n      <td>4.691348</td>\n      <td>7.477379</td>\n    </tr>\n    <tr>\n      <th>0</th>\n      <td>Neymar</td>\n      <td>Paris Saint-Germain</td>\n      <td>199.800</td>\n      <td>165.638996</td>\n      <td>194.686618</td>\n      <td>555.745909</td>\n      <td>5.302309</td>\n      <td>6.322109</td>\n    </tr>\n  </tbody>\n</table>\n<p>1236 rows × 8 columns</p>\n</div>"
     },
     "metadata": {},
     "execution_count": 58
    }
   ],
   "source": [
    "train_df[['player_name','club_involved_name','fee_cleaned','NNclean','NNselection','NNdelog','fee_log','NNlog']].sort_values('NNclean')"
   ]
  },
  {
   "source": [
    "# Ensembling"
   ],
   "cell_type": "markdown",
   "metadata": {}
  },
  {
   "cell_type": "code",
   "execution_count": 81,
   "metadata": {},
   "outputs": [],
   "source": [
    "edf = pd.read_csv('misc/data_from_modelling.csv')"
   ]
  },
  {
   "cell_type": "code",
   "execution_count": 82,
   "metadata": {},
   "outputs": [
    {
     "output_type": "execute_result",
     "data": {
      "text/plain": [
       "0.6851896083905907"
      ]
     },
     "metadata": {},
     "execution_count": 82
    }
   ],
   "source": [
    "edf['SimpleAvg'] = (edf.LRselection + edf.KNNweighted2 + edf.RFselection + edf.GBselection + edf.NNselection) / 5\n",
    "r2_score(edf.fee_cleaned, edf.SimpleAvg)"
   ]
  },
  {
   "cell_type": "code",
   "execution_count": 83,
   "metadata": {},
   "outputs": [],
   "source": [
    "stacking_features = ['LRselection', 'KNNweighted2', 'RFclean', 'GBclean', 'NNselection']"
   ]
  },
  {
   "cell_type": "code",
   "execution_count": 84,
   "metadata": {},
   "outputs": [
    {
     "output_type": "execute_result",
     "data": {
      "text/plain": [
       "0.7269798204347787"
      ]
     },
     "metadata": {},
     "execution_count": 84
    }
   ],
   "source": [
    "model = LinearRegression(n_jobs = -1)\n",
    "model.fit(edf[stacking_features], edf.fee_cleaned)\n",
    "pickle.dump(model, open('misc/lrstacking.sav', 'wb'))\n",
    "edf['stackingLR'] = model.predict(edf[stacking_features])\n",
    "r2_score(edf.fee_cleaned, edf.stackingLR)"
   ]
  },
  {
   "cell_type": "code",
   "execution_count": 85,
   "metadata": {},
   "outputs": [
    {
     "output_type": "stream",
     "name": "stdout",
     "text": [
      "         LRselection 0.15624793239724905\n        KNNweighted2 0.37279796886935535\n             RFclean 0.09296444454788022\n             GBclean 0.010547433350557966\n         NNselection 0.536519292366993\n"
     ]
    }
   ],
   "source": [
    "for feature, weight in zip(stacking_features, model.coef_):\n",
    "    print(feature.rjust(20), weight, end = '\\n')"
   ]
  },
  {
   "cell_type": "code",
   "execution_count": 88,
   "metadata": {},
   "outputs": [
    {
     "output_type": "execute_result",
     "data": {
      "text/plain": [
       "0.747058684272197"
      ]
     },
     "metadata": {},
     "execution_count": 88
    }
   ],
   "source": [
    "model = MLPRegressor(hidden_layer_sizes=(20, 20), activation='relu', learning_rate_init=0.001, max_iter=600)\n",
    "model.fit(edf[stacking_features], edf.fee_cleaned)\n",
    "pickle.dump(model, open('misc/nnstacking.sav', 'wb'))\n",
    "edf['stackingNN'] = model.predict(edf[stacking_features])\n",
    "r2_score(edf.fee_cleaned, edf.stackingNN)"
   ]
  },
  {
   "cell_type": "code",
   "execution_count": 89,
   "metadata": {},
   "outputs": [
    {
     "output_type": "execute_result",
     "data": {
      "text/plain": [
       "            player_name   club_involved_name  fee_cleaned  stackingLR  \\\n",
       "1031       Thomas Lemar      Atlético Madrid        63.00   51.309805   \n",
       "62               Arthur          Juventus FC        64.80   36.998948   \n",
       "122       Romelu Lukaku          Inter Milan        66.60   40.419884   \n",
       "1001     Ángel Di María    Manchester United        67.50   50.521454   \n",
       "613     James Rodríguez          Real Madrid        67.50   38.792500   \n",
       "577     Kevin De Bruyne         Cardiff City        68.40   42.001307   \n",
       "735        Nicolas Pépé           Arsenal FC        72.00   39.285877   \n",
       "148         Kai Havertz           Chelsea FC        72.00   62.985563   \n",
       "909     Lucas Hernández        Bayern Munich        72.00   27.091183   \n",
       "549       Romelu Lukaku    Manchester United        76.23   62.061249   \n",
       "21        Harry Maguire    Manchester United        78.30   35.723210   \n",
       "438     Gonzalo Higuaín          Juventus FC        81.00   42.202407   \n",
       "1162         Paul Pogba    Manchester United        94.50   87.275041   \n",
       "853         Eden Hazard          Real Madrid       103.50   92.525820   \n",
       "203   Cristiano Ronaldo          Juventus FC       105.30  113.750693   \n",
       "162   Antoine Griezmann         FC Barcelona       108.00  156.585942   \n",
       "1131         João Félix      Atlético Madrid       113.40   57.685921   \n",
       "245     Ousmane Dembélé         FC Barcelona       124.20   58.564241   \n",
       "270       Kylian Mbappé  Paris Saint-Germain       130.50   75.215929   \n",
       "1109             Neymar  Paris Saint-Germain       199.80  156.010347   \n",
       "\n",
       "      stackingNN  \n",
       "1031   56.473940  \n",
       "62     40.165025  \n",
       "122    40.755580  \n",
       "1001   49.712469  \n",
       "613    41.573533  \n",
       "577    43.637566  \n",
       "735    40.092912  \n",
       "148    62.901593  \n",
       "909    27.698575  \n",
       "549    63.403807  \n",
       "21     35.578158  \n",
       "438    43.744980  \n",
       "1162   88.443187  \n",
       "853    84.095843  \n",
       "203   116.297291  \n",
       "162   147.953194  \n",
       "1131   67.381409  \n",
       "245    60.508038  \n",
       "270    78.639258  \n",
       "1109  178.243492  "
      ],
      "text/html": "<div>\n<style scoped>\n    .dataframe tbody tr th:only-of-type {\n        vertical-align: middle;\n    }\n\n    .dataframe tbody tr th {\n        vertical-align: top;\n    }\n\n    .dataframe thead th {\n        text-align: right;\n    }\n</style>\n<table border=\"1\" class=\"dataframe\">\n  <thead>\n    <tr style=\"text-align: right;\">\n      <th></th>\n      <th>player_name</th>\n      <th>club_involved_name</th>\n      <th>fee_cleaned</th>\n      <th>stackingLR</th>\n      <th>stackingNN</th>\n    </tr>\n  </thead>\n  <tbody>\n    <tr>\n      <th>1031</th>\n      <td>Thomas Lemar</td>\n      <td>Atlético Madrid</td>\n      <td>63.00</td>\n      <td>51.309805</td>\n      <td>56.473940</td>\n    </tr>\n    <tr>\n      <th>62</th>\n      <td>Arthur</td>\n      <td>Juventus FC</td>\n      <td>64.80</td>\n      <td>36.998948</td>\n      <td>40.165025</td>\n    </tr>\n    <tr>\n      <th>122</th>\n      <td>Romelu Lukaku</td>\n      <td>Inter Milan</td>\n      <td>66.60</td>\n      <td>40.419884</td>\n      <td>40.755580</td>\n    </tr>\n    <tr>\n      <th>1001</th>\n      <td>Ángel Di María</td>\n      <td>Manchester United</td>\n      <td>67.50</td>\n      <td>50.521454</td>\n      <td>49.712469</td>\n    </tr>\n    <tr>\n      <th>613</th>\n      <td>James Rodríguez</td>\n      <td>Real Madrid</td>\n      <td>67.50</td>\n      <td>38.792500</td>\n      <td>41.573533</td>\n    </tr>\n    <tr>\n      <th>577</th>\n      <td>Kevin De Bruyne</td>\n      <td>Cardiff City</td>\n      <td>68.40</td>\n      <td>42.001307</td>\n      <td>43.637566</td>\n    </tr>\n    <tr>\n      <th>735</th>\n      <td>Nicolas Pépé</td>\n      <td>Arsenal FC</td>\n      <td>72.00</td>\n      <td>39.285877</td>\n      <td>40.092912</td>\n    </tr>\n    <tr>\n      <th>148</th>\n      <td>Kai Havertz</td>\n      <td>Chelsea FC</td>\n      <td>72.00</td>\n      <td>62.985563</td>\n      <td>62.901593</td>\n    </tr>\n    <tr>\n      <th>909</th>\n      <td>Lucas Hernández</td>\n      <td>Bayern Munich</td>\n      <td>72.00</td>\n      <td>27.091183</td>\n      <td>27.698575</td>\n    </tr>\n    <tr>\n      <th>549</th>\n      <td>Romelu Lukaku</td>\n      <td>Manchester United</td>\n      <td>76.23</td>\n      <td>62.061249</td>\n      <td>63.403807</td>\n    </tr>\n    <tr>\n      <th>21</th>\n      <td>Harry Maguire</td>\n      <td>Manchester United</td>\n      <td>78.30</td>\n      <td>35.723210</td>\n      <td>35.578158</td>\n    </tr>\n    <tr>\n      <th>438</th>\n      <td>Gonzalo Higuaín</td>\n      <td>Juventus FC</td>\n      <td>81.00</td>\n      <td>42.202407</td>\n      <td>43.744980</td>\n    </tr>\n    <tr>\n      <th>1162</th>\n      <td>Paul Pogba</td>\n      <td>Manchester United</td>\n      <td>94.50</td>\n      <td>87.275041</td>\n      <td>88.443187</td>\n    </tr>\n    <tr>\n      <th>853</th>\n      <td>Eden Hazard</td>\n      <td>Real Madrid</td>\n      <td>103.50</td>\n      <td>92.525820</td>\n      <td>84.095843</td>\n    </tr>\n    <tr>\n      <th>203</th>\n      <td>Cristiano Ronaldo</td>\n      <td>Juventus FC</td>\n      <td>105.30</td>\n      <td>113.750693</td>\n      <td>116.297291</td>\n    </tr>\n    <tr>\n      <th>162</th>\n      <td>Antoine Griezmann</td>\n      <td>FC Barcelona</td>\n      <td>108.00</td>\n      <td>156.585942</td>\n      <td>147.953194</td>\n    </tr>\n    <tr>\n      <th>1131</th>\n      <td>João Félix</td>\n      <td>Atlético Madrid</td>\n      <td>113.40</td>\n      <td>57.685921</td>\n      <td>67.381409</td>\n    </tr>\n    <tr>\n      <th>245</th>\n      <td>Ousmane Dembélé</td>\n      <td>FC Barcelona</td>\n      <td>124.20</td>\n      <td>58.564241</td>\n      <td>60.508038</td>\n    </tr>\n    <tr>\n      <th>270</th>\n      <td>Kylian Mbappé</td>\n      <td>Paris Saint-Germain</td>\n      <td>130.50</td>\n      <td>75.215929</td>\n      <td>78.639258</td>\n    </tr>\n    <tr>\n      <th>1109</th>\n      <td>Neymar</td>\n      <td>Paris Saint-Germain</td>\n      <td>199.80</td>\n      <td>156.010347</td>\n      <td>178.243492</td>\n    </tr>\n  </tbody>\n</table>\n</div>"
     },
     "metadata": {},
     "execution_count": 89
    }
   ],
   "source": [
    "edf[['player_name','club_involved_name','fee_cleaned','stackingLR','stackingNN']].sort_values('fee_cleaned').tail(20)"
   ]
  },
  {
   "source": [
    "# The outliers"
   ],
   "cell_type": "markdown",
   "metadata": {}
  },
  {
   "cell_type": "code",
   "execution_count": 90,
   "metadata": {},
   "outputs": [],
   "source": [
    "train_df['LRdelta'] = train_df.LRclean - train_df.fee_cleaned\n",
    "train_df['KNNdelta'] = train_df.KNNclean - train_df.fee_cleaned\n",
    "train_df['RFdelta'] = train_df.RFclean - train_df.fee_cleaned\n",
    "train_df['GBdelta'] = train_df.GBclean - train_df.fee_cleaned\n",
    "train_df['NNdelta'] = train_df.NNclean - train_df.fee_cleaned"
   ]
  },
  {
   "cell_type": "code",
   "execution_count": 91,
   "metadata": {},
   "outputs": [
    {
     "output_type": "execute_result",
     "data": {
      "text/plain": [
       "              player_name    club_involved_name  fee_cleaned    LRdelta  \\\n",
       "1544     Birkir Bjarnason  Delfino Pescara 1936        0.018   1.353014   \n",
       "1543     Oualid El Hajjam          ES Troyes AC        0.032  -3.565990   \n",
       "1542      Chaker Alhadhur               SM Caen        0.045  -1.998812   \n",
       "1539     Domenico Maietta       Bologna FC 1909        0.090  -3.863142   \n",
       "1537  Thorsten Kirschbaum        1.FC Nuremberg        0.090 -22.300631   \n",
       "...                   ...                   ...          ...        ...   \n",
       "4       Antoine Griezmann          FC Barcelona      108.000  79.355805   \n",
       "3              João Félix       Atlético Madrid      113.400 -79.905963   \n",
       "2         Ousmane Dembélé          FC Barcelona      124.200 -86.791721   \n",
       "1           Kylian Mbappé   Paris Saint-Germain      130.500 -45.780253   \n",
       "0                  Neymar   Paris Saint-Germain      199.800 -81.069442   \n",
       "\n",
       "        KNNdelta     RFdelta    GBdelta    NNdelta  \n",
       "1544    4.900867    3.315510   2.194562   1.044757  \n",
       "1543    3.235667    1.795057  -0.150551   0.427235  \n",
       "1542    3.960000    1.727753   1.483532   3.142972  \n",
       "1539    1.760467    1.663130   2.080873   1.683154  \n",
       "1537    3.538800    1.630707  -1.278075  -0.330693  \n",
       "...          ...         ...        ...        ...  \n",
       "4     -53.978667  -14.121967  32.286205  54.868999  \n",
       "3     -93.870000  -67.815567 -70.429045 -46.756628  \n",
       "2    -111.054000  -98.164333 -83.852464 -87.928909  \n",
       "1    -101.010000  -98.957333 -82.539438 -41.284937  \n",
       "0    -151.062000 -110.977033 -92.555596 -34.161004  \n",
       "\n",
       "[1236 rows x 8 columns]"
      ],
      "text/html": "<div>\n<style scoped>\n    .dataframe tbody tr th:only-of-type {\n        vertical-align: middle;\n    }\n\n    .dataframe tbody tr th {\n        vertical-align: top;\n    }\n\n    .dataframe thead th {\n        text-align: right;\n    }\n</style>\n<table border=\"1\" class=\"dataframe\">\n  <thead>\n    <tr style=\"text-align: right;\">\n      <th></th>\n      <th>player_name</th>\n      <th>club_involved_name</th>\n      <th>fee_cleaned</th>\n      <th>LRdelta</th>\n      <th>KNNdelta</th>\n      <th>RFdelta</th>\n      <th>GBdelta</th>\n      <th>NNdelta</th>\n    </tr>\n  </thead>\n  <tbody>\n    <tr>\n      <th>1544</th>\n      <td>Birkir Bjarnason</td>\n      <td>Delfino Pescara 1936</td>\n      <td>0.018</td>\n      <td>1.353014</td>\n      <td>4.900867</td>\n      <td>3.315510</td>\n      <td>2.194562</td>\n      <td>1.044757</td>\n    </tr>\n    <tr>\n      <th>1543</th>\n      <td>Oualid El Hajjam</td>\n      <td>ES Troyes AC</td>\n      <td>0.032</td>\n      <td>-3.565990</td>\n      <td>3.235667</td>\n      <td>1.795057</td>\n      <td>-0.150551</td>\n      <td>0.427235</td>\n    </tr>\n    <tr>\n      <th>1542</th>\n      <td>Chaker Alhadhur</td>\n      <td>SM Caen</td>\n      <td>0.045</td>\n      <td>-1.998812</td>\n      <td>3.960000</td>\n      <td>1.727753</td>\n      <td>1.483532</td>\n      <td>3.142972</td>\n    </tr>\n    <tr>\n      <th>1539</th>\n      <td>Domenico Maietta</td>\n      <td>Bologna FC 1909</td>\n      <td>0.090</td>\n      <td>-3.863142</td>\n      <td>1.760467</td>\n      <td>1.663130</td>\n      <td>2.080873</td>\n      <td>1.683154</td>\n    </tr>\n    <tr>\n      <th>1537</th>\n      <td>Thorsten Kirschbaum</td>\n      <td>1.FC Nuremberg</td>\n      <td>0.090</td>\n      <td>-22.300631</td>\n      <td>3.538800</td>\n      <td>1.630707</td>\n      <td>-1.278075</td>\n      <td>-0.330693</td>\n    </tr>\n    <tr>\n      <th>...</th>\n      <td>...</td>\n      <td>...</td>\n      <td>...</td>\n      <td>...</td>\n      <td>...</td>\n      <td>...</td>\n      <td>...</td>\n      <td>...</td>\n    </tr>\n    <tr>\n      <th>4</th>\n      <td>Antoine Griezmann</td>\n      <td>FC Barcelona</td>\n      <td>108.000</td>\n      <td>79.355805</td>\n      <td>-53.978667</td>\n      <td>-14.121967</td>\n      <td>32.286205</td>\n      <td>54.868999</td>\n    </tr>\n    <tr>\n      <th>3</th>\n      <td>João Félix</td>\n      <td>Atlético Madrid</td>\n      <td>113.400</td>\n      <td>-79.905963</td>\n      <td>-93.870000</td>\n      <td>-67.815567</td>\n      <td>-70.429045</td>\n      <td>-46.756628</td>\n    </tr>\n    <tr>\n      <th>2</th>\n      <td>Ousmane Dembélé</td>\n      <td>FC Barcelona</td>\n      <td>124.200</td>\n      <td>-86.791721</td>\n      <td>-111.054000</td>\n      <td>-98.164333</td>\n      <td>-83.852464</td>\n      <td>-87.928909</td>\n    </tr>\n    <tr>\n      <th>1</th>\n      <td>Kylian Mbappé</td>\n      <td>Paris Saint-Germain</td>\n      <td>130.500</td>\n      <td>-45.780253</td>\n      <td>-101.010000</td>\n      <td>-98.957333</td>\n      <td>-82.539438</td>\n      <td>-41.284937</td>\n    </tr>\n    <tr>\n      <th>0</th>\n      <td>Neymar</td>\n      <td>Paris Saint-Germain</td>\n      <td>199.800</td>\n      <td>-81.069442</td>\n      <td>-151.062000</td>\n      <td>-110.977033</td>\n      <td>-92.555596</td>\n      <td>-34.161004</td>\n    </tr>\n  </tbody>\n</table>\n<p>1236 rows × 8 columns</p>\n</div>"
     },
     "metadata": {},
     "execution_count": 91
    }
   ],
   "source": [
    "train_df[['player_name','club_involved_name','fee_cleaned','LRdelta', 'KNNdelta', 'RFdelta', 'GBdelta', 'NNdelta']].sort_values('fee_cleaned')"
   ]
  },
  {
   "cell_type": "code",
   "execution_count": 92,
   "metadata": {},
   "outputs": [],
   "source": [
    "train_df.to_csv('misc/data_from_modelling.csv')"
   ]
  }
 ]
}