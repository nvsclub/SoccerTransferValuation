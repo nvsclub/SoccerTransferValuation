{
 "metadata": {
  "language_info": {
   "codemirror_mode": {
    "name": "ipython",
    "version": 3
   },
   "file_extension": ".py",
   "mimetype": "text/x-python",
   "name": "python",
   "nbconvert_exporter": "python",
   "pygments_lexer": "ipython3",
   "version": "3.8.6-final"
  },
  "orig_nbformat": 2,
  "kernelspec": {
   "name": "python3",
   "display_name": "Python 3.8.6 64-bit",
   "metadata": {
    "interpreter": {
     "hash": "2b9185f3e54c11b8d53d8a03bd3140084c0e44d2e51331e03f14237367078142"
    }
   }
  }
 },
 "nbformat": 4,
 "nbformat_minor": 2,
 "cells": [
  {
   "cell_type": "code",
   "execution_count": 1,
   "metadata": {},
   "outputs": [],
   "source": [
    "import pandas as pd\n",
    "import numpy as np\n",
    "import matplotlib.pyplot as plt\n",
    "from tqdm import tqdm\n",
    "\n",
    "import optuna\n",
    "optuna.logging.set_verbosity(optuna.logging.ERROR)\n",
    "import pickle\n",
    "\n",
    "from sklearn.metrics import mean_squared_error, r2_score\n",
    "from sklearn.model_selection import cross_val_score, cross_val_predict\n",
    "\n",
    "from sklearn.decomposition import PCA # If algorithms are taking too much time\n",
    "\n",
    "from sklearn.linear_model import LinearRegression\n",
    "from sklearn.neighbors import KNeighborsRegressor\n",
    "from sklearn.ensemble import RandomForestRegressor, GradientBoostingRegressor\n",
    "from sklearn.neural_network import MLPRegressor\n",
    "\n",
    "from sklearn.tree import DecisionTreeRegressor\n",
    "from sklearn.ensemble import AdaBoostRegressor, BaggingRegressor"
   ]
  },
  {
   "source": [
    "# Baseline from FM"
   ],
   "cell_type": "markdown",
   "metadata": {}
  },
  {
   "cell_type": "code",
   "execution_count": 2,
   "metadata": {},
   "outputs": [
    {
     "output_type": "execute_result",
     "data": {
      "text/plain": [
       "(-0.20842484604363998, 0.42839417062946805)"
      ]
     },
     "metadata": {},
     "execution_count": 2
    }
   ],
   "source": [
    "a = pd.read_csv('data/clean_data.csv')\n",
    "a.value = a.value.str.replace('k', '000').str.replace('m', '000000').str.replace('£', '').astype(int)/1000000\n",
    "a.cost = a.cost.str.replace('k', '000').str.replace('m', '000000').str.replace('£', '').astype(int)/1000000\n",
    "a = a[['fee_cleaned','cost','value']].dropna()\n",
    "a.fee_cleaned = a.fee_cleaned.astype(int)\n",
    "r2_score(a.fee_cleaned, a.cost), r2_score(a.fee_cleaned, a.value)"
   ]
  },
  {
   "source": [
    "# Actually Evaluating"
   ],
   "cell_type": "markdown",
   "metadata": {}
  },
  {
   "cell_type": "code",
   "execution_count": 3,
   "metadata": {},
   "outputs": [],
   "source": [
    "identifiers = ['player_name', 'club_involved_name', 'season']\n",
    "player_var = ['age', 'wage', 'ratingFM', 'potential', 'injprone', 'afterloan', 'contract']\n",
    "team_var = ['reputation', 'balance', 'wagebudget', 'trainingfacilities', 'youthfacilities', 'youthacademy', 'stadiumcap', 'avgattendance']\n",
    "stats_var = ['gamesPlayed', 'subedOn', 'MotM', 'ratingWS']\n",
    "offensive_var = ['goalsScored', 'assists', 'shots', 'passes', 'passesSuccess', 'aerialsWon', 'keyPasses', 'dribbles', 'offsides', 'dispossessed', 'badTouch', 'crosses', 'longBalls', 'throughBalls']\n",
    "defensive_var = ['yellow', 'red', 'tackles', 'interceptions', 'fouls', 'offsidesProvoked', 'clearances', 'blockedPass', 'ownGoal']\n",
    "previous_var = ['ATaction', 'ATgoals', 'ATassists', 'ATshots', 'ATpasses', 'ATpassesSuccess', 'ATtackles', 'ATinterceptions', 'ATMotM', 'ATrating', 'CLaction', 'CLgoals', 'CLassists', 'CLMotM', 'CLrating', 'ELaction', 'ELgoals', 'ELassists', 'ELMotM', 'ELrating']\n",
    "pos_var = ['GK', 'DEF', 'MID', 'STR', 'Wing', 'Central']\n",
    "external_var = ['year', 'GDP', 'CountryPopulation', 'UEFAranking', 'eurgbp']\n",
    "features = player_var + team_var + stats_var + offensive_var + defensive_var + previous_var + pos_var + external_var\n",
    "labels = ['fee_cleaned', 'fee_log']\n",
    "target = 'fee_cleaned'\n",
    "\n",
    "removed_features = []"
   ]
  },
  {
   "cell_type": "code",
   "execution_count": 4,
   "metadata": {},
   "outputs": [],
   "source": [
    "## Bayesian optimization-based feature selection\n",
    "### Objective function\n",
    "def objective_selection(trial):\n",
    "    print(trial.number, end = '\\r')\n",
    "    weighted_df = df[features + [target]]\n",
    "    for i, feature in enumerate(features):\n",
    "        if trial.suggest_int(feature, 0, 1) == 0:\n",
    "            weighted_df = weighted_df.drop(feature, axis = 1)\n",
    "    features_list = list(weighted_df.drop(target, axis = 1))\n",
    "\n",
    "    if len(features_list) == 0:\n",
    "        return 99999999999\n",
    "\n",
    "    train_set = weighted_df.iloc[:int(internal_test_validation_split * len(weighted_df))]\n",
    "    test_set = weighted_df.iloc[int(internal_test_validation_split * len(weighted_df)):]\n",
    "\n",
    "    model.fit(train_set[features_list], train_set[target])\n",
    "    return -r2_score(model.predict(test_set[features_list]), test_set[target])\n",
    "\n",
    "def bayesian_optimization_selection(model, df, features, target, n_trials = 500):\n",
    "    study = optuna.create_study()\n",
    "    study.optimize(objective_selection, n_trials=n_trials)\n",
    "\n",
    "    # need to normalize for feature mean value\n",
    "    selected_features = []\n",
    "    for feature in features:\n",
    "        if study.best_trial.params[feature]:\n",
    "            selected_features.append(feature)\n",
    "\n",
    "    return selected_features, study.best_trial.number"
   ]
  },
  {
   "cell_type": "code",
   "execution_count": 5,
   "metadata": {},
   "outputs": [],
   "source": [
    "## Bayesian optimization-based feature weighting\n",
    "def objective_weighting(trial):\n",
    "    print(trial.number, end = '\\r')\n",
    "    weighted_df = df.iloc[:test_loc].copy()\n",
    "    for i, feature in enumerate(features):\n",
    "        weighted_df[feature] *= trial.suggest_uniform(feature, 0, 1)\n",
    "\n",
    "    train_set = weighted_df.iloc[:int(internal_test_validation_split * len(weighted_df))]\n",
    "    test_set = weighted_df.iloc[int(internal_test_validation_split * len(weighted_df)):]\n",
    "\n",
    "    model.fit(train_set[features], train_set['fee_log'])\n",
    "    return -r2_score(model.predict(test_set[features]), test_set['fee_log']) \n",
    "\n",
    "def bayesian_optimization_weighting(model, df, features, target, n_trials = 500):\n",
    "    study = optuna.create_study()\n",
    "    study.optimize(objective_weighting, n_trials=n_trials)\n",
    "\n",
    "    # need to normalize for feature mean value\n",
    "    weighted_df = df.copy()\n",
    "    for feature in features:\n",
    "        weighted_df[feature] *= study.best_trial.params[feature]\n",
    "\n",
    "    return weighted_df, study.best_trial.number"
   ]
  },
  {
   "cell_type": "code",
   "execution_count": 6,
   "metadata": {},
   "outputs": [],
   "source": [
    "external_test_validation_split = 0.8\n",
    "internal_test_validation_split = 0.6"
   ]
  },
  {
   "cell_type": "code",
   "execution_count": 7,
   "metadata": {},
   "outputs": [],
   "source": [
    "df = pd.read_csv('data/data.csv')\n",
    "df = df[df.fee_cleaned > 0]\n",
    "df = df.sample(len(df), random_state=0)\n",
    "test_loc = int(external_test_validation_split * len(df))"
   ]
  },
  {
   "cell_type": "code",
   "execution_count": 8,
   "metadata": {},
   "outputs": [
    {
     "output_type": "execute_result",
     "data": {
      "text/plain": [
       "      Unnamed: 0         player_name    club_involved_name     season  \\\n",
       "904          918       Tommy Elphick           Aston Villa  2016/2017   \n",
       "159          160       Samuel Umtiti          FC Barcelona  2016/2017   \n",
       "974          989           Maicosuel        Ajax Amsterdam  2014/2015   \n",
       "744          752       James McClean            Stoke City  2018/2019   \n",
       "1452        1475         Miso Brecko        1.FC Nuremberg  2015/2016   \n",
       "...          ...                 ...                   ...        ...   \n",
       "763          773       Jasmin Kurtic             SPAL 2013  2018/2019   \n",
       "835          846      Charlie Austin  West Bromwich Albion  2019/2020   \n",
       "1216        1233            Tim Ream             Fulham FC  2015/2016   \n",
       "559          564  José Manuel Jurado            Watford FC  2015/2016   \n",
       "684          691  Giovani dos Santos        Ajax Amsterdam  2015/2016   \n",
       "\n",
       "           age      wage     value      cost  ratingFM  potential  ...  \\\n",
       "904   0.147256 -0.081761 -0.377166 -0.370716  0.013683   0.094465  ...   \n",
       "159  -1.317347  0.127030  0.006686  0.283480  0.157913   0.401829  ...   \n",
       "974   0.147256 -0.238354 -0.377166 -0.458676 -0.687638  -0.101706  ...   \n",
       "744   0.391356  0.440217  0.902342 -0.132827 -0.473095  -0.036617  ...   \n",
       "1452  0.879557 -0.212255 -0.505117 -0.370716 -0.593888  -0.058765  ...   \n",
       "...        ...       ...       ...       ...       ...        ...  ...   \n",
       "763   0.391356 -0.107859  0.518489  0.105063  0.518489   0.248147  ...   \n",
       "835   0.635457  1.223183  1.286194  0.164535  1.329786   0.564551  ...   \n",
       "1216 -0.096845 -0.342749 -0.121265 -0.370716 -0.821051  -0.049725  ...   \n",
       "559   0.391356  0.257525  0.006686 -0.132827  0.678946   0.242271  ...   \n",
       "684  -0.340945  0.361920  0.774391  0.580842  0.458994   0.246339  ...   \n",
       "\n",
       "           STR      Wing   Central      year       GDP  CountryPopulation  \\\n",
       "904  -0.662387 -0.655120  1.025943 -0.457995  0.402287           0.172786   \n",
       "159  -0.662387 -0.655120  1.025943 -0.457995  0.437768           0.177493   \n",
       "974   1.509692  1.526437 -0.974713 -1.481549 -0.053215           0.036322   \n",
       "744  -0.662387  1.526437 -0.974713  0.565559  2.433959          -1.119264   \n",
       "1452 -0.662387  1.526437 -0.974713 -0.969772  0.624527           0.513024   \n",
       "...        ...       ...       ...       ...       ...                ...   \n",
       "763  -0.662387 -0.655120  1.025943  0.565559 -0.530556          -1.178832   \n",
       "835   1.509692 -0.655120  1.025943  1.077336  0.402287           0.172786   \n",
       "1216 -0.662387 -0.655120  1.025943 -0.969772  1.078203           5.629762   \n",
       "559  -0.662387 -0.655120 -0.974713 -0.969772 -1.384666           1.791458   \n",
       "684   1.509692 -0.655120  1.025943 -0.969772 -0.180940          -0.239666   \n",
       "\n",
       "      UEFAranking    eurgbp  fee_cleaned   fee_log  \n",
       "904     -1.231711 -0.020706         3.51  1.506297  \n",
       "159      0.183647 -0.020706        22.50  3.157000  \n",
       "974     -0.759925 -0.751406         2.70  1.308333  \n",
       "744      0.419540  0.668371         5.04  1.798404  \n",
       "1452    -0.288139 -1.964614         0.45  0.371564  \n",
       "...           ...       ...          ...       ...  \n",
       "763     -0.759925  0.668371         4.77  1.752672  \n",
       "835     -1.231711  0.856442         3.87  1.583094  \n",
       "1216     0.419540 -1.964614         1.53  0.928219  \n",
       "559      1.127219 -1.964614         7.74  2.167910  \n",
       "684     -1.703498 -1.964614         5.72  1.905088  \n",
       "\n",
       "[1545 rows x 81 columns]"
      ],
      "text/html": "<div>\n<style scoped>\n    .dataframe tbody tr th:only-of-type {\n        vertical-align: middle;\n    }\n\n    .dataframe tbody tr th {\n        vertical-align: top;\n    }\n\n    .dataframe thead th {\n        text-align: right;\n    }\n</style>\n<table border=\"1\" class=\"dataframe\">\n  <thead>\n    <tr style=\"text-align: right;\">\n      <th></th>\n      <th>Unnamed: 0</th>\n      <th>player_name</th>\n      <th>club_involved_name</th>\n      <th>season</th>\n      <th>age</th>\n      <th>wage</th>\n      <th>value</th>\n      <th>cost</th>\n      <th>ratingFM</th>\n      <th>potential</th>\n      <th>...</th>\n      <th>STR</th>\n      <th>Wing</th>\n      <th>Central</th>\n      <th>year</th>\n      <th>GDP</th>\n      <th>CountryPopulation</th>\n      <th>UEFAranking</th>\n      <th>eurgbp</th>\n      <th>fee_cleaned</th>\n      <th>fee_log</th>\n    </tr>\n  </thead>\n  <tbody>\n    <tr>\n      <th>904</th>\n      <td>918</td>\n      <td>Tommy Elphick</td>\n      <td>Aston Villa</td>\n      <td>2016/2017</td>\n      <td>0.147256</td>\n      <td>-0.081761</td>\n      <td>-0.377166</td>\n      <td>-0.370716</td>\n      <td>0.013683</td>\n      <td>0.094465</td>\n      <td>...</td>\n      <td>-0.662387</td>\n      <td>-0.655120</td>\n      <td>1.025943</td>\n      <td>-0.457995</td>\n      <td>0.402287</td>\n      <td>0.172786</td>\n      <td>-1.231711</td>\n      <td>-0.020706</td>\n      <td>3.51</td>\n      <td>1.506297</td>\n    </tr>\n    <tr>\n      <th>159</th>\n      <td>160</td>\n      <td>Samuel Umtiti</td>\n      <td>FC Barcelona</td>\n      <td>2016/2017</td>\n      <td>-1.317347</td>\n      <td>0.127030</td>\n      <td>0.006686</td>\n      <td>0.283480</td>\n      <td>0.157913</td>\n      <td>0.401829</td>\n      <td>...</td>\n      <td>-0.662387</td>\n      <td>-0.655120</td>\n      <td>1.025943</td>\n      <td>-0.457995</td>\n      <td>0.437768</td>\n      <td>0.177493</td>\n      <td>0.183647</td>\n      <td>-0.020706</td>\n      <td>22.50</td>\n      <td>3.157000</td>\n    </tr>\n    <tr>\n      <th>974</th>\n      <td>989</td>\n      <td>Maicosuel</td>\n      <td>Ajax Amsterdam</td>\n      <td>2014/2015</td>\n      <td>0.147256</td>\n      <td>-0.238354</td>\n      <td>-0.377166</td>\n      <td>-0.458676</td>\n      <td>-0.687638</td>\n      <td>-0.101706</td>\n      <td>...</td>\n      <td>1.509692</td>\n      <td>1.526437</td>\n      <td>-0.974713</td>\n      <td>-1.481549</td>\n      <td>-0.053215</td>\n      <td>0.036322</td>\n      <td>-0.759925</td>\n      <td>-0.751406</td>\n      <td>2.70</td>\n      <td>1.308333</td>\n    </tr>\n    <tr>\n      <th>744</th>\n      <td>752</td>\n      <td>James McClean</td>\n      <td>Stoke City</td>\n      <td>2018/2019</td>\n      <td>0.391356</td>\n      <td>0.440217</td>\n      <td>0.902342</td>\n      <td>-0.132827</td>\n      <td>-0.473095</td>\n      <td>-0.036617</td>\n      <td>...</td>\n      <td>-0.662387</td>\n      <td>1.526437</td>\n      <td>-0.974713</td>\n      <td>0.565559</td>\n      <td>2.433959</td>\n      <td>-1.119264</td>\n      <td>0.419540</td>\n      <td>0.668371</td>\n      <td>5.04</td>\n      <td>1.798404</td>\n    </tr>\n    <tr>\n      <th>1452</th>\n      <td>1475</td>\n      <td>Miso Brecko</td>\n      <td>1.FC Nuremberg</td>\n      <td>2015/2016</td>\n      <td>0.879557</td>\n      <td>-0.212255</td>\n      <td>-0.505117</td>\n      <td>-0.370716</td>\n      <td>-0.593888</td>\n      <td>-0.058765</td>\n      <td>...</td>\n      <td>-0.662387</td>\n      <td>1.526437</td>\n      <td>-0.974713</td>\n      <td>-0.969772</td>\n      <td>0.624527</td>\n      <td>0.513024</td>\n      <td>-0.288139</td>\n      <td>-1.964614</td>\n      <td>0.45</td>\n      <td>0.371564</td>\n    </tr>\n    <tr>\n      <th>...</th>\n      <td>...</td>\n      <td>...</td>\n      <td>...</td>\n      <td>...</td>\n      <td>...</td>\n      <td>...</td>\n      <td>...</td>\n      <td>...</td>\n      <td>...</td>\n      <td>...</td>\n      <td>...</td>\n      <td>...</td>\n      <td>...</td>\n      <td>...</td>\n      <td>...</td>\n      <td>...</td>\n      <td>...</td>\n      <td>...</td>\n      <td>...</td>\n      <td>...</td>\n      <td>...</td>\n    </tr>\n    <tr>\n      <th>763</th>\n      <td>773</td>\n      <td>Jasmin Kurtic</td>\n      <td>SPAL 2013</td>\n      <td>2018/2019</td>\n      <td>0.391356</td>\n      <td>-0.107859</td>\n      <td>0.518489</td>\n      <td>0.105063</td>\n      <td>0.518489</td>\n      <td>0.248147</td>\n      <td>...</td>\n      <td>-0.662387</td>\n      <td>-0.655120</td>\n      <td>1.025943</td>\n      <td>0.565559</td>\n      <td>-0.530556</td>\n      <td>-1.178832</td>\n      <td>-0.759925</td>\n      <td>0.668371</td>\n      <td>4.77</td>\n      <td>1.752672</td>\n    </tr>\n    <tr>\n      <th>835</th>\n      <td>846</td>\n      <td>Charlie Austin</td>\n      <td>West Bromwich Albion</td>\n      <td>2019/2020</td>\n      <td>0.635457</td>\n      <td>1.223183</td>\n      <td>1.286194</td>\n      <td>0.164535</td>\n      <td>1.329786</td>\n      <td>0.564551</td>\n      <td>...</td>\n      <td>1.509692</td>\n      <td>-0.655120</td>\n      <td>1.025943</td>\n      <td>1.077336</td>\n      <td>0.402287</td>\n      <td>0.172786</td>\n      <td>-1.231711</td>\n      <td>0.856442</td>\n      <td>3.87</td>\n      <td>1.583094</td>\n    </tr>\n    <tr>\n      <th>1216</th>\n      <td>1233</td>\n      <td>Tim Ream</td>\n      <td>Fulham FC</td>\n      <td>2015/2016</td>\n      <td>-0.096845</td>\n      <td>-0.342749</td>\n      <td>-0.121265</td>\n      <td>-0.370716</td>\n      <td>-0.821051</td>\n      <td>-0.049725</td>\n      <td>...</td>\n      <td>-0.662387</td>\n      <td>-0.655120</td>\n      <td>1.025943</td>\n      <td>-0.969772</td>\n      <td>1.078203</td>\n      <td>5.629762</td>\n      <td>0.419540</td>\n      <td>-1.964614</td>\n      <td>1.53</td>\n      <td>0.928219</td>\n    </tr>\n    <tr>\n      <th>559</th>\n      <td>564</td>\n      <td>José Manuel Jurado</td>\n      <td>Watford FC</td>\n      <td>2015/2016</td>\n      <td>0.391356</td>\n      <td>0.257525</td>\n      <td>0.006686</td>\n      <td>-0.132827</td>\n      <td>0.678946</td>\n      <td>0.242271</td>\n      <td>...</td>\n      <td>-0.662387</td>\n      <td>-0.655120</td>\n      <td>-0.974713</td>\n      <td>-0.969772</td>\n      <td>-1.384666</td>\n      <td>1.791458</td>\n      <td>1.127219</td>\n      <td>-1.964614</td>\n      <td>7.74</td>\n      <td>2.167910</td>\n    </tr>\n    <tr>\n      <th>684</th>\n      <td>691</td>\n      <td>Giovani dos Santos</td>\n      <td>Ajax Amsterdam</td>\n      <td>2015/2016</td>\n      <td>-0.340945</td>\n      <td>0.361920</td>\n      <td>0.774391</td>\n      <td>0.580842</td>\n      <td>0.458994</td>\n      <td>0.246339</td>\n      <td>...</td>\n      <td>1.509692</td>\n      <td>-0.655120</td>\n      <td>1.025943</td>\n      <td>-0.969772</td>\n      <td>-0.180940</td>\n      <td>-0.239666</td>\n      <td>-1.703498</td>\n      <td>-1.964614</td>\n      <td>5.72</td>\n      <td>1.905088</td>\n    </tr>\n  </tbody>\n</table>\n<p>1545 rows × 81 columns</p>\n</div>"
     },
     "metadata": {},
     "execution_count": 8
    }
   ],
   "source": [
    "df"
   ]
  },
  {
   "source": [
    "# Linear Regressor"
   ],
   "cell_type": "markdown",
   "metadata": {}
  },
  {
   "cell_type": "code",
   "execution_count": 9,
   "metadata": {},
   "outputs": [],
   "source": [
    "model = LinearRegression(n_jobs = -1)"
   ]
  },
  {
   "source": [
    "bayesian_selection_LR = ['age', 'wage', 'ratingFM', 'afterloan', 'contract', 'balance', 'wagebudget', 'gamesPlayed', 'subedOn', 'MotM', 'ratingWS', 'assists', 'shots', 'aerialsWon', 'keyPasses', 'dribbles', 'offsides', 'dispossessed', 'throughBalls', 'yellow', 'red', 'tackles', 'interceptions', 'ownGoal', 'ATaction', 'ATpasses', 'ATtackles', 'ATrating', 'CLgoals', 'CLassists', 'ELaction', 'ELassists', 'ELrating', 'Wing', 'Central', 'year', 'GDP', 'CountryPopulation', 'UEFAranking']"
   ],
   "cell_type": "code",
   "metadata": {
    "tags": []
   },
   "execution_count": 10,
   "outputs": []
  },
  {
   "cell_type": "code",
   "execution_count": 11,
   "metadata": {},
   "outputs": [],
   "source": [
    "scores = cross_val_predict(model, df[bayesian_selection_LR], df['fee_cleaned'], cv=120)\n",
    "df['LR'] = [max(0,i) for i in scores]"
   ]
  },
  {
   "cell_type": "code",
   "execution_count": 12,
   "metadata": {},
   "outputs": [
    {
     "output_type": "execute_result",
     "data": {
      "text/plain": [
       "(0.6595954525286688, 0.6391123626191157)"
      ]
     },
     "metadata": {},
     "execution_count": 12
    }
   ],
   "source": [
    "r2_score(df.iloc[test_loc:].fee_cleaned, df.iloc[test_loc:].LR), r2_score(df.fee_cleaned, df.LR)"
   ]
  },
  {
   "source": [
    "# K-Nearest Neighbors"
   ],
   "cell_type": "markdown",
   "metadata": {}
  },
  {
   "cell_type": "code",
   "execution_count": 13,
   "metadata": {},
   "outputs": [],
   "source": [
    "model = KNeighborsRegressor(n_neighbors=15, n_jobs = -1)"
   ]
  },
  {
   "cell_type": "code",
   "execution_count": 14,
   "metadata": {},
   "outputs": [],
   "source": [
    "bayesian_selection_kNN = ['age', 'wage', 'ratingFM', 'contract', 'reputation', 'trainingfacilities', 'youthacademy', 'stadiumcap', 'avgattendance', 'gamesPlayed', 'MotM', 'ratingWS', 'goalsScored', 'shots', 'keyPasses', 'dribbles', 'offsides', 'dispossessed', 'crosses', 'throughBalls', 'tackles', 'offsidesProvoked', 'blockedPass', 'ownGoal', 'ATgoals', 'ATassists', 'ATshots', 'ATpasses', 'ATpassesSuccess', 'ATtackles', 'ATinterceptions', 'ATMotM', 'ATrating', 'ELaction', 'GK', 'DEF', 'year', 'UEFAranking', 'eurgbp']"
   ]
  },
  {
   "cell_type": "code",
   "execution_count": 15,
   "metadata": {},
   "outputs": [
    {
     "output_type": "stream",
     "name": "stdout",
     "text": []
    },
    {
     "output_type": "execute_result",
     "data": {
      "text/plain": [
       "949"
      ]
     },
     "metadata": {},
     "execution_count": 15
    }
   ],
   "source": [
    "BW_df, i = bayesian_optimization_weighting(model, df, bayesian_selection_kNN, 'fee_cleaned', n_trials = 1000)\n",
    "i"
   ]
  },
  {
   "cell_type": "code",
   "execution_count": 16,
   "metadata": {},
   "outputs": [],
   "source": [
    "scores = cross_val_predict(model, BW_df[bayesian_selection_kNN], BW_df['fee_cleaned'], cv=120)\n",
    "df['BWKNN'] = scores"
   ]
  },
  {
   "cell_type": "code",
   "execution_count": 17,
   "metadata": {},
   "outputs": [
    {
     "output_type": "execute_result",
     "data": {
      "text/plain": [
       "(0.5596835040257819, 0.5390487454012527)"
      ]
     },
     "metadata": {},
     "execution_count": 17
    }
   ],
   "source": [
    "r2_score(df.iloc[test_loc:].fee_cleaned, df.iloc[test_loc:].BWKNN), r2_score(df.fee_cleaned, df.BWKNN)"
   ]
  },
  {
   "source": [
    "# Random Forest"
   ],
   "cell_type": "markdown",
   "metadata": {}
  },
  {
   "cell_type": "code",
   "execution_count": 18,
   "metadata": {},
   "outputs": [],
   "source": [
    "model = RandomForestRegressor(n_estimators=300, n_jobs = -1)"
   ]
  },
  {
   "cell_type": "code",
   "execution_count": 19,
   "metadata": {},
   "outputs": [],
   "source": [
    "scores = cross_val_predict(model, df[features], df['fee_cleaned'], cv=120)\n",
    "df['RF'] = scores"
   ]
  },
  {
   "cell_type": "code",
   "execution_count": 20,
   "metadata": {},
   "outputs": [
    {
     "output_type": "execute_result",
     "data": {
      "text/plain": [
       "(0.5803939739853858, 0.5954374072917223)"
      ]
     },
     "metadata": {},
     "execution_count": 20
    }
   ],
   "source": [
    "r2_score(df.iloc[test_loc:].fee_cleaned, df.iloc[test_loc:].RF), r2_score(df.fee_cleaned, df.RF)"
   ]
  },
  {
   "source": [
    "# Gradient Boosting"
   ],
   "cell_type": "markdown",
   "metadata": {}
  },
  {
   "cell_type": "code",
   "execution_count": 21,
   "metadata": {},
   "outputs": [],
   "source": [
    "model = GradientBoostingRegressor(n_estimators=1000)"
   ]
  },
  {
   "cell_type": "code",
   "execution_count": 22,
   "metadata": {},
   "outputs": [],
   "source": [
    "scores = cross_val_predict(model, df[features], df['fee_cleaned'], cv=120)\n",
    "df['GB'] = scores"
   ]
  },
  {
   "cell_type": "code",
   "execution_count": 23,
   "metadata": {},
   "outputs": [
    {
     "output_type": "execute_result",
     "data": {
      "text/plain": [
       "(0.5951985358845231, 0.6634573209271926)"
      ]
     },
     "metadata": {},
     "execution_count": 23
    }
   ],
   "source": [
    "r2_score(df.iloc[test_loc:].fee_cleaned, df.iloc[test_loc:].GB), r2_score(df.fee_cleaned, df.GB)"
   ]
  },
  {
   "source": [
    "# Deep Learning"
   ],
   "cell_type": "markdown",
   "metadata": {}
  },
  {
   "cell_type": "code",
   "execution_count": 24,
   "metadata": {},
   "outputs": [],
   "source": [
    "model = MLPRegressor(hidden_layer_sizes=(200, 200, 200), activation='relu', learning_rate_init=0.001, max_iter=600)"
   ]
  },
  {
   "cell_type": "code",
   "execution_count": 25,
   "metadata": {},
   "outputs": [],
   "source": [
    "bayesian_selection_NN = ['age', 'wage', 'ratingFM', 'injprone', 'afterloan', 'contract', 'reputation', 'balance', 'wagebudget', 'youthacademy', 'stadiumcap', 'gamesPlayed', 'ratingWS', 'assists', 'shots', 'passesSuccess', 'aerialsWon', 'keyPasses', 'dispossessed', 'badTouch', 'tackles', 'interceptions', 'fouls', 'blockedPass', 'ownGoal', 'ATassists', 'ATshots', 'ATpasses', 'CLaction', 'CLMotM', 'ELassists', 'ELMotM', 'DEF', 'CountryPopulation', 'UEFAranking', 'eurgbp']"
   ]
  },
  {
   "cell_type": "code",
   "execution_count": 26,
   "metadata": {},
   "outputs": [],
   "source": [
    "scores = cross_val_predict(model, df[bayesian_selection_NN], df['fee_cleaned'], cv=120)\n",
    "df['NN'] = scores"
   ]
  },
  {
   "source": [
    "r2_score(df.iloc[test_loc:].fee_cleaned, df.iloc[test_loc:].NN), r2_score(df.fee_cleaned, df.NN)"
   ],
   "cell_type": "code",
   "metadata": {},
   "execution_count": 27,
   "outputs": [
    {
     "output_type": "execute_result",
     "data": {
      "text/plain": [
       "(0.5733444365413221, 0.6776206972691076)"
      ]
     },
     "metadata": {},
     "execution_count": 27
    }
   ]
  },
  {
   "source": [
    "# Feature importance"
   ],
   "cell_type": "markdown",
   "metadata": {}
  },
  {
   "cell_type": "code",
   "execution_count": 28,
   "metadata": {},
   "outputs": [
    {
     "output_type": "execute_result",
     "data": {
      "text/plain": [
       "LinearRegression(n_jobs=-1)"
      ]
     },
     "metadata": {},
     "execution_count": 28
    }
   ],
   "source": [
    "modelLR = LinearRegression(n_jobs = -1)\n",
    "modelLR.fit(df.iloc[:test_loc][bayesian_selection_LR], df.iloc[:test_loc].fee_cleaned)\n",
    "#modelLR.coef_"
   ]
  },
  {
   "cell_type": "code",
   "execution_count": 29,
   "metadata": {},
   "outputs": [],
   "source": [
    "bw_weights = {}\n",
    "for feature in bayesian_selection_kNN:\n",
    "    bw_weights[feature] = BW_df[feature].mean() / df[feature].mean()"
   ]
  },
  {
   "cell_type": "code",
   "execution_count": 30,
   "metadata": {},
   "outputs": [
    {
     "output_type": "execute_result",
     "data": {
      "text/plain": [
       "RandomForestRegressor(n_estimators=300, n_jobs=-1)"
      ]
     },
     "metadata": {},
     "execution_count": 30
    }
   ],
   "source": [
    "modelRF = RandomForestRegressor(n_estimators=300, n_jobs = -1)\n",
    "modelRF.fit(df.iloc[:test_loc][features], df.iloc[:test_loc].fee_cleaned)\n",
    "# modelRF.feature_importances_"
   ]
  },
  {
   "cell_type": "code",
   "execution_count": 31,
   "metadata": {},
   "outputs": [
    {
     "output_type": "execute_result",
     "data": {
      "text/plain": [
       "GradientBoostingRegressor(n_estimators=1000)"
      ]
     },
     "metadata": {},
     "execution_count": 31
    }
   ],
   "source": [
    "modelGB = GradientBoostingRegressor(n_estimators=1000)\n",
    "modelGB.fit(df.iloc[:test_loc][features], df.iloc[:test_loc].fee_cleaned)\n",
    "# modelGB.feature_importances_"
   ]
  },
  {
   "source": [
    "# Feature impacts"
   ],
   "cell_type": "markdown",
   "metadata": {}
  },
  {
   "cell_type": "code",
   "execution_count": 32,
   "metadata": {},
   "outputs": [],
   "source": [
    "big_list = []\n",
    "for i, feature in enumerate(features):\n",
    "    small_list = [feature]\n",
    "    if feature in bayesian_selection_LR:\n",
    "        small_list.append(modelLR.coef_[bayesian_selection_LR.index(feature)])\n",
    "    else:\n",
    "        small_list.append(0)\n",
    "    if feature in bw_weights.keys():\n",
    "        small_list.append(bw_weights[feature])\n",
    "    else:\n",
    "        small_list.append(0)\n",
    "    small_list.append(modelRF.feature_importances_[i])\n",
    "    small_list.append(modelGB.feature_importances_[i])\n",
    "    if feature in bayesian_selection_NN:\n",
    "        small_list.append(1)\n",
    "    else:\n",
    "        small_list.append(0)\n",
    "    big_list.append(small_list)"
   ]
  },
  {
   "source": [
    "features_impacts = pd.DataFrame(big_list, columns=['feature','LR', 'BWKNN', 'RF', 'GB', 'NN'])\n",
    "features_impacts.to_csv('misc/feature_impacts.csv')\n",
    "features_impacts"
   ],
   "cell_type": "code",
   "metadata": {},
   "execution_count": 33,
   "outputs": [
    {
     "output_type": "execute_result",
     "data": {
      "text/plain": [
       "              feature        LR     BWKNN        RF        GB  NN\n",
       "0                 age -5.252281  0.998725  0.020144  0.047291   1\n",
       "1                wage  5.513349  0.872637  0.144428  0.132652   1\n",
       "2            ratingFM  2.882290  0.854993  0.032010  0.016201   1\n",
       "3           potential  0.000000  1.000000  0.327152  0.322859   0\n",
       "4            injprone  0.000000  1.000000  0.003201  0.001295   1\n",
       "..                ...       ...       ...       ...       ...  ..\n",
       "68               year  1.518230  0.418116  0.001982  0.000186   0\n",
       "69                GDP  0.006010  1.000000  0.004010  0.001128   0\n",
       "70  CountryPopulation  0.347647  1.000000  0.004572  0.004685   1\n",
       "71        UEFAranking -2.020774  0.933996  0.005542  0.009505   1\n",
       "72             eurgbp  0.000000  0.140457  0.002050  0.000107   1\n",
       "\n",
       "[73 rows x 6 columns]"
      ],
      "text/html": "<div>\n<style scoped>\n    .dataframe tbody tr th:only-of-type {\n        vertical-align: middle;\n    }\n\n    .dataframe tbody tr th {\n        vertical-align: top;\n    }\n\n    .dataframe thead th {\n        text-align: right;\n    }\n</style>\n<table border=\"1\" class=\"dataframe\">\n  <thead>\n    <tr style=\"text-align: right;\">\n      <th></th>\n      <th>feature</th>\n      <th>LR</th>\n      <th>BWKNN</th>\n      <th>RF</th>\n      <th>GB</th>\n      <th>NN</th>\n    </tr>\n  </thead>\n  <tbody>\n    <tr>\n      <th>0</th>\n      <td>age</td>\n      <td>-5.252281</td>\n      <td>0.998725</td>\n      <td>0.020144</td>\n      <td>0.047291</td>\n      <td>1</td>\n    </tr>\n    <tr>\n      <th>1</th>\n      <td>wage</td>\n      <td>5.513349</td>\n      <td>0.872637</td>\n      <td>0.144428</td>\n      <td>0.132652</td>\n      <td>1</td>\n    </tr>\n    <tr>\n      <th>2</th>\n      <td>ratingFM</td>\n      <td>2.882290</td>\n      <td>0.854993</td>\n      <td>0.032010</td>\n      <td>0.016201</td>\n      <td>1</td>\n    </tr>\n    <tr>\n      <th>3</th>\n      <td>potential</td>\n      <td>0.000000</td>\n      <td>1.000000</td>\n      <td>0.327152</td>\n      <td>0.322859</td>\n      <td>0</td>\n    </tr>\n    <tr>\n      <th>4</th>\n      <td>injprone</td>\n      <td>0.000000</td>\n      <td>1.000000</td>\n      <td>0.003201</td>\n      <td>0.001295</td>\n      <td>1</td>\n    </tr>\n    <tr>\n      <th>...</th>\n      <td>...</td>\n      <td>...</td>\n      <td>...</td>\n      <td>...</td>\n      <td>...</td>\n      <td>...</td>\n    </tr>\n    <tr>\n      <th>68</th>\n      <td>year</td>\n      <td>1.518230</td>\n      <td>0.418116</td>\n      <td>0.001982</td>\n      <td>0.000186</td>\n      <td>0</td>\n    </tr>\n    <tr>\n      <th>69</th>\n      <td>GDP</td>\n      <td>0.006010</td>\n      <td>1.000000</td>\n      <td>0.004010</td>\n      <td>0.001128</td>\n      <td>0</td>\n    </tr>\n    <tr>\n      <th>70</th>\n      <td>CountryPopulation</td>\n      <td>0.347647</td>\n      <td>1.000000</td>\n      <td>0.004572</td>\n      <td>0.004685</td>\n      <td>1</td>\n    </tr>\n    <tr>\n      <th>71</th>\n      <td>UEFAranking</td>\n      <td>-2.020774</td>\n      <td>0.933996</td>\n      <td>0.005542</td>\n      <td>0.009505</td>\n      <td>1</td>\n    </tr>\n    <tr>\n      <th>72</th>\n      <td>eurgbp</td>\n      <td>0.000000</td>\n      <td>0.140457</td>\n      <td>0.002050</td>\n      <td>0.000107</td>\n      <td>1</td>\n    </tr>\n  </tbody>\n</table>\n<p>73 rows × 6 columns</p>\n</div>"
     },
     "metadata": {},
     "execution_count": 33
    }
   ]
  },
  {
   "source": [
    "# Ensembling"
   ],
   "cell_type": "markdown",
   "metadata": {}
  },
  {
   "cell_type": "code",
   "execution_count": 34,
   "metadata": {},
   "outputs": [],
   "source": [
    "LRstacking = pickle.load(open('misc/lrstacking.sav', 'rb'))\n",
    "NNstacking = pickle.load(open('misc/nnstacking.sav', 'rb'))"
   ]
  },
  {
   "cell_type": "code",
   "execution_count": 35,
   "metadata": {},
   "outputs": [],
   "source": [
    "df['LRstack'] = LRstacking.predict(df[['LR', 'BWKNN', 'RF', 'GB', 'NN']])\n",
    "df['NNstack'] = NNstacking.predict(df[['LR', 'BWKNN', 'RF', 'GB', 'NN']])\n",
    "df['SimpleAvg'] = (df.LR + df.BWKNN + df.RF + df.GB + df.NN) / 5"
   ]
  },
  {
   "cell_type": "code",
   "execution_count": 36,
   "metadata": {},
   "outputs": [
    {
     "output_type": "execute_result",
     "data": {
      "text/plain": [
       "(0.6998018997588282, 0.7202572438702107, 0.7270250155720341)"
      ]
     },
     "metadata": {},
     "execution_count": 36
    }
   ],
   "source": [
    "r2_score(df.loc[test_loc:].fee_cleaned, df.loc[test_loc:].SimpleAvg), r2_score(df.loc[test_loc:].fee_cleaned, df.loc[test_loc:].LRstack), r2_score(df.loc[test_loc:].fee_cleaned, df.loc[test_loc:].NNstack)"
   ]
  },
  {
   "cell_type": "code",
   "execution_count": 37,
   "metadata": {},
   "outputs": [
    {
     "output_type": "execute_result",
     "data": {
      "text/plain": [
       "(0.6959308706344443, 0.7205184199577142, 0.7294925193778399)"
      ]
     },
     "metadata": {},
     "execution_count": 37
    }
   ],
   "source": [
    "r2_score(df.fee_cleaned, df.SimpleAvg), r2_score(df.fee_cleaned, df.LRstack), r2_score(df.fee_cleaned, df.NNstack)"
   ]
  },
  {
   "source": [
    "df[['player_name','club_involved_name','fee_cleaned','LR', 'BWKNN', 'RF', 'GB', 'NN', 'LRstack', 'NNstack']].sort_values('fee_cleaned', ascending = False).head(20)"
   ],
   "cell_type": "code",
   "metadata": {},
   "execution_count": 38,
   "outputs": [
    {
     "output_type": "execute_result",
     "data": {
      "text/plain": [
       "          player_name   club_involved_name  fee_cleaned          LR  \\\n",
       "0              Neymar  Paris Saint-Germain       199.80  115.019384   \n",
       "1       Kylian Mbappé  Paris Saint-Germain       130.50   75.498840   \n",
       "2     Ousmane Dembélé         FC Barcelona       124.20   37.932904   \n",
       "3          João Félix      Atlético Madrid       113.40   30.947381   \n",
       "4   Antoine Griezmann         FC Barcelona       108.00  157.774607   \n",
       "5   Cristiano Ronaldo          Juventus FC       105.30  119.311156   \n",
       "6         Eden Hazard          Real Madrid       103.50   57.156228   \n",
       "7          Paul Pogba    Manchester United        94.50   49.317840   \n",
       "8     Gonzalo Higuaín          Juventus FC        81.00   40.791414   \n",
       "9       Harry Maguire    Manchester United        78.30   33.319654   \n",
       "10      Romelu Lukaku    Manchester United        76.23   33.108156   \n",
       "11        Luis Suárez         FC Barcelona        73.55   78.394606   \n",
       "14        Kai Havertz           Chelsea FC        72.00   37.553042   \n",
       "13       Nicolas Pépé           Arsenal FC        72.00   30.325499   \n",
       "12    Lucas Hernández        Bayern Munich        72.00   27.915577   \n",
       "15    Kevin De Bruyne         Cardiff City        68.40   42.504879   \n",
       "16    James Rodríguez          Real Madrid        67.50   32.124556   \n",
       "17     Ángel Di María    Manchester United        67.50   37.253857   \n",
       "18      Romelu Lukaku          Inter Milan        66.60   43.883467   \n",
       "19             Arthur          Juventus FC        64.80   41.441804   \n",
       "\n",
       "        BWKNN         RF         GB          NN     LRstack     NNstack  \n",
       "0   65.893333  90.905200  94.076057  158.211968  135.782007  139.422759  \n",
       "1   47.400000  32.298367  64.341505  108.483593   90.270519   93.436610  \n",
       "2   33.255333  29.149900  45.342377   60.401954   52.838002   51.692281  \n",
       "3   12.688267  41.838867  65.073057   81.397343   56.731330   70.389442  \n",
       "4   62.503333  88.490267  87.992128  150.584702  136.817789  121.030181  \n",
       "5   68.551333  98.838783  80.960597  121.186454  118.177789  110.374377  \n",
       "6   46.173333  82.967067  86.928312   86.213095   79.947293   74.042026  \n",
       "7   48.663333  53.604800  92.832793   91.049162   79.578102   72.176423  \n",
       "8   37.959333  43.773867  49.651552   21.544575   35.595506   39.264926  \n",
       "9   22.662000  22.765150  37.399004   34.714896   33.709079   35.577833  \n",
       "10  35.160667  31.785133  38.138498   54.715323   49.912463   45.603256  \n",
       "11  52.656000  53.251400  82.691120   99.106482   89.792830   91.850642  \n",
       "14  28.644000  47.955067  45.247914   60.816164   53.029001   49.842807  \n",
       "13  26.100000  26.357000  24.689520   42.955735   39.144159   37.497013  \n",
       "12  16.263333  26.270067  28.447511   37.319111   32.107922   31.075873  \n",
       "15  44.382000  40.764233  53.193295   70.589367   64.328633   59.074316  \n",
       "16  27.423333  37.238633  44.170813   48.862399   44.304716   41.934817  \n",
       "17  37.674000  37.769200  52.403686   56.397966   53.106723   47.844007  \n",
       "18  28.002000  35.746167  40.579024   18.319684   29.794361   32.975752  \n",
       "19  31.068000  30.539033  47.257567   41.102670   42.365729   44.908698  "
      ],
      "text/html": "<div>\n<style scoped>\n    .dataframe tbody tr th:only-of-type {\n        vertical-align: middle;\n    }\n\n    .dataframe tbody tr th {\n        vertical-align: top;\n    }\n\n    .dataframe thead th {\n        text-align: right;\n    }\n</style>\n<table border=\"1\" class=\"dataframe\">\n  <thead>\n    <tr style=\"text-align: right;\">\n      <th></th>\n      <th>player_name</th>\n      <th>club_involved_name</th>\n      <th>fee_cleaned</th>\n      <th>LR</th>\n      <th>BWKNN</th>\n      <th>RF</th>\n      <th>GB</th>\n      <th>NN</th>\n      <th>LRstack</th>\n      <th>NNstack</th>\n    </tr>\n  </thead>\n  <tbody>\n    <tr>\n      <th>0</th>\n      <td>Neymar</td>\n      <td>Paris Saint-Germain</td>\n      <td>199.80</td>\n      <td>115.019384</td>\n      <td>65.893333</td>\n      <td>90.905200</td>\n      <td>94.076057</td>\n      <td>158.211968</td>\n      <td>135.782007</td>\n      <td>139.422759</td>\n    </tr>\n    <tr>\n      <th>1</th>\n      <td>Kylian Mbappé</td>\n      <td>Paris Saint-Germain</td>\n      <td>130.50</td>\n      <td>75.498840</td>\n      <td>47.400000</td>\n      <td>32.298367</td>\n      <td>64.341505</td>\n      <td>108.483593</td>\n      <td>90.270519</td>\n      <td>93.436610</td>\n    </tr>\n    <tr>\n      <th>2</th>\n      <td>Ousmane Dembélé</td>\n      <td>FC Barcelona</td>\n      <td>124.20</td>\n      <td>37.932904</td>\n      <td>33.255333</td>\n      <td>29.149900</td>\n      <td>45.342377</td>\n      <td>60.401954</td>\n      <td>52.838002</td>\n      <td>51.692281</td>\n    </tr>\n    <tr>\n      <th>3</th>\n      <td>João Félix</td>\n      <td>Atlético Madrid</td>\n      <td>113.40</td>\n      <td>30.947381</td>\n      <td>12.688267</td>\n      <td>41.838867</td>\n      <td>65.073057</td>\n      <td>81.397343</td>\n      <td>56.731330</td>\n      <td>70.389442</td>\n    </tr>\n    <tr>\n      <th>4</th>\n      <td>Antoine Griezmann</td>\n      <td>FC Barcelona</td>\n      <td>108.00</td>\n      <td>157.774607</td>\n      <td>62.503333</td>\n      <td>88.490267</td>\n      <td>87.992128</td>\n      <td>150.584702</td>\n      <td>136.817789</td>\n      <td>121.030181</td>\n    </tr>\n    <tr>\n      <th>5</th>\n      <td>Cristiano Ronaldo</td>\n      <td>Juventus FC</td>\n      <td>105.30</td>\n      <td>119.311156</td>\n      <td>68.551333</td>\n      <td>98.838783</td>\n      <td>80.960597</td>\n      <td>121.186454</td>\n      <td>118.177789</td>\n      <td>110.374377</td>\n    </tr>\n    <tr>\n      <th>6</th>\n      <td>Eden Hazard</td>\n      <td>Real Madrid</td>\n      <td>103.50</td>\n      <td>57.156228</td>\n      <td>46.173333</td>\n      <td>82.967067</td>\n      <td>86.928312</td>\n      <td>86.213095</td>\n      <td>79.947293</td>\n      <td>74.042026</td>\n    </tr>\n    <tr>\n      <th>7</th>\n      <td>Paul Pogba</td>\n      <td>Manchester United</td>\n      <td>94.50</td>\n      <td>49.317840</td>\n      <td>48.663333</td>\n      <td>53.604800</td>\n      <td>92.832793</td>\n      <td>91.049162</td>\n      <td>79.578102</td>\n      <td>72.176423</td>\n    </tr>\n    <tr>\n      <th>8</th>\n      <td>Gonzalo Higuaín</td>\n      <td>Juventus FC</td>\n      <td>81.00</td>\n      <td>40.791414</td>\n      <td>37.959333</td>\n      <td>43.773867</td>\n      <td>49.651552</td>\n      <td>21.544575</td>\n      <td>35.595506</td>\n      <td>39.264926</td>\n    </tr>\n    <tr>\n      <th>9</th>\n      <td>Harry Maguire</td>\n      <td>Manchester United</td>\n      <td>78.30</td>\n      <td>33.319654</td>\n      <td>22.662000</td>\n      <td>22.765150</td>\n      <td>37.399004</td>\n      <td>34.714896</td>\n      <td>33.709079</td>\n      <td>35.577833</td>\n    </tr>\n    <tr>\n      <th>10</th>\n      <td>Romelu Lukaku</td>\n      <td>Manchester United</td>\n      <td>76.23</td>\n      <td>33.108156</td>\n      <td>35.160667</td>\n      <td>31.785133</td>\n      <td>38.138498</td>\n      <td>54.715323</td>\n      <td>49.912463</td>\n      <td>45.603256</td>\n    </tr>\n    <tr>\n      <th>11</th>\n      <td>Luis Suárez</td>\n      <td>FC Barcelona</td>\n      <td>73.55</td>\n      <td>78.394606</td>\n      <td>52.656000</td>\n      <td>53.251400</td>\n      <td>82.691120</td>\n      <td>99.106482</td>\n      <td>89.792830</td>\n      <td>91.850642</td>\n    </tr>\n    <tr>\n      <th>14</th>\n      <td>Kai Havertz</td>\n      <td>Chelsea FC</td>\n      <td>72.00</td>\n      <td>37.553042</td>\n      <td>28.644000</td>\n      <td>47.955067</td>\n      <td>45.247914</td>\n      <td>60.816164</td>\n      <td>53.029001</td>\n      <td>49.842807</td>\n    </tr>\n    <tr>\n      <th>13</th>\n      <td>Nicolas Pépé</td>\n      <td>Arsenal FC</td>\n      <td>72.00</td>\n      <td>30.325499</td>\n      <td>26.100000</td>\n      <td>26.357000</td>\n      <td>24.689520</td>\n      <td>42.955735</td>\n      <td>39.144159</td>\n      <td>37.497013</td>\n    </tr>\n    <tr>\n      <th>12</th>\n      <td>Lucas Hernández</td>\n      <td>Bayern Munich</td>\n      <td>72.00</td>\n      <td>27.915577</td>\n      <td>16.263333</td>\n      <td>26.270067</td>\n      <td>28.447511</td>\n      <td>37.319111</td>\n      <td>32.107922</td>\n      <td>31.075873</td>\n    </tr>\n    <tr>\n      <th>15</th>\n      <td>Kevin De Bruyne</td>\n      <td>Cardiff City</td>\n      <td>68.40</td>\n      <td>42.504879</td>\n      <td>44.382000</td>\n      <td>40.764233</td>\n      <td>53.193295</td>\n      <td>70.589367</td>\n      <td>64.328633</td>\n      <td>59.074316</td>\n    </tr>\n    <tr>\n      <th>16</th>\n      <td>James Rodríguez</td>\n      <td>Real Madrid</td>\n      <td>67.50</td>\n      <td>32.124556</td>\n      <td>27.423333</td>\n      <td>37.238633</td>\n      <td>44.170813</td>\n      <td>48.862399</td>\n      <td>44.304716</td>\n      <td>41.934817</td>\n    </tr>\n    <tr>\n      <th>17</th>\n      <td>Ángel Di María</td>\n      <td>Manchester United</td>\n      <td>67.50</td>\n      <td>37.253857</td>\n      <td>37.674000</td>\n      <td>37.769200</td>\n      <td>52.403686</td>\n      <td>56.397966</td>\n      <td>53.106723</td>\n      <td>47.844007</td>\n    </tr>\n    <tr>\n      <th>18</th>\n      <td>Romelu Lukaku</td>\n      <td>Inter Milan</td>\n      <td>66.60</td>\n      <td>43.883467</td>\n      <td>28.002000</td>\n      <td>35.746167</td>\n      <td>40.579024</td>\n      <td>18.319684</td>\n      <td>29.794361</td>\n      <td>32.975752</td>\n    </tr>\n    <tr>\n      <th>19</th>\n      <td>Arthur</td>\n      <td>Juventus FC</td>\n      <td>64.80</td>\n      <td>41.441804</td>\n      <td>31.068000</td>\n      <td>30.539033</td>\n      <td>47.257567</td>\n      <td>41.102670</td>\n      <td>42.365729</td>\n      <td>44.908698</td>\n    </tr>\n  </tbody>\n</table>\n</div>"
     },
     "metadata": {},
     "execution_count": 38
    }
   ]
  },
  {
   "source": [
    "# Error discretization"
   ],
   "cell_type": "markdown",
   "metadata": {}
  },
  {
   "source": [
    "quartile_data = []\n",
    "tdf = df[(df.fee_cleaned > df.fee_cleaned.quantile(0.25))]\n",
    "quartile_data.append([\n",
    "    r2_score(tdf.fee_cleaned, tdf.LR), \n",
    "    r2_score(tdf.fee_cleaned, tdf.BWKNN), \n",
    "    r2_score(tdf.fee_cleaned, tdf.RF), \n",
    "    r2_score(tdf.fee_cleaned, tdf.GB), \n",
    "    r2_score(tdf.fee_cleaned, tdf.NN), \n",
    "    r2_score(tdf.fee_cleaned, tdf.LRstack), \n",
    "    r2_score(tdf.fee_cleaned, tdf.NNstack)])\n",
    "tdf = df[(df.fee_cleaned < df.fee_cleaned.quantile(0.5)) & (df.fee_cleaned > df.fee_cleaned.quantile(0.25))]\n",
    "quartile_data.append([\n",
    "    r2_score(tdf.fee_cleaned, tdf.LR), \n",
    "    r2_score(tdf.fee_cleaned, tdf.BWKNN), \n",
    "    r2_score(tdf.fee_cleaned, tdf.RF), \n",
    "    r2_score(tdf.fee_cleaned, tdf.GB), \n",
    "    r2_score(tdf.fee_cleaned, tdf.NN), \n",
    "    r2_score(tdf.fee_cleaned, tdf.LRstack), \n",
    "    r2_score(tdf.fee_cleaned, tdf.NNstack)])\n",
    "tdf = df[(df.fee_cleaned < df.fee_cleaned.quantile(0.75)) & (df.fee_cleaned > df.fee_cleaned.quantile(0.5))]\n",
    "quartile_data.append([\n",
    "    r2_score(tdf.fee_cleaned, tdf.LR), \n",
    "    r2_score(tdf.fee_cleaned, tdf.BWKNN), \n",
    "    r2_score(tdf.fee_cleaned, tdf.RF), \n",
    "    r2_score(tdf.fee_cleaned, tdf.GB), \n",
    "    r2_score(tdf.fee_cleaned, tdf.NN), \n",
    "    r2_score(tdf.fee_cleaned, tdf.LRstack), \n",
    "    r2_score(tdf.fee_cleaned, tdf.NNstack)])\n",
    "tdf = df[(df.fee_cleaned > df.fee_cleaned.quantile(0.75))]\n",
    "quartile_data.append([\n",
    "    r2_score(tdf.fee_cleaned, tdf.LR), \n",
    "    r2_score(tdf.fee_cleaned, tdf.BWKNN), \n",
    "    r2_score(tdf.fee_cleaned, tdf.RF), \n",
    "    r2_score(tdf.fee_cleaned, tdf.GB), \n",
    "    r2_score(tdf.fee_cleaned, tdf.NN), \n",
    "    r2_score(tdf.fee_cleaned, tdf.LRstack), \n",
    "    r2_score(tdf.fee_cleaned, tdf.NNstack)])\n",
    "pd.DataFrame(quartile_data, columns=['LR','BW','RF','GB','NN','LRStack','NNStack'])"
   ],
   "cell_type": "code",
   "metadata": {},
   "execution_count": 39,
   "outputs": [
    {
     "output_type": "execute_result",
     "data": {
      "text/plain": [
       "          LR         BW         RF         GB         NN    LRStack    NNStack\n",
       "0   0.609294   0.488475   0.555778   0.629342   0.642826   0.691980   0.701620\n",
       "1 -63.850867 -28.216869 -43.287575 -36.288595 -24.911874 -26.960800 -28.712739\n",
       "2 -10.022265  -4.743120  -8.498522  -7.837566  -8.678402  -7.513751  -7.441517\n",
       "3   0.469887   0.168153   0.341302   0.464173   0.481234   0.558508   0.577257"
      ],
      "text/html": "<div>\n<style scoped>\n    .dataframe tbody tr th:only-of-type {\n        vertical-align: middle;\n    }\n\n    .dataframe tbody tr th {\n        vertical-align: top;\n    }\n\n    .dataframe thead th {\n        text-align: right;\n    }\n</style>\n<table border=\"1\" class=\"dataframe\">\n  <thead>\n    <tr style=\"text-align: right;\">\n      <th></th>\n      <th>LR</th>\n      <th>BW</th>\n      <th>RF</th>\n      <th>GB</th>\n      <th>NN</th>\n      <th>LRStack</th>\n      <th>NNStack</th>\n    </tr>\n  </thead>\n  <tbody>\n    <tr>\n      <th>0</th>\n      <td>0.609294</td>\n      <td>0.488475</td>\n      <td>0.555778</td>\n      <td>0.629342</td>\n      <td>0.642826</td>\n      <td>0.691980</td>\n      <td>0.701620</td>\n    </tr>\n    <tr>\n      <th>1</th>\n      <td>-63.850867</td>\n      <td>-28.216869</td>\n      <td>-43.287575</td>\n      <td>-36.288595</td>\n      <td>-24.911874</td>\n      <td>-26.960800</td>\n      <td>-28.712739</td>\n    </tr>\n    <tr>\n      <th>2</th>\n      <td>-10.022265</td>\n      <td>-4.743120</td>\n      <td>-8.498522</td>\n      <td>-7.837566</td>\n      <td>-8.678402</td>\n      <td>-7.513751</td>\n      <td>-7.441517</td>\n    </tr>\n    <tr>\n      <th>3</th>\n      <td>0.469887</td>\n      <td>0.168153</td>\n      <td>0.341302</td>\n      <td>0.464173</td>\n      <td>0.481234</td>\n      <td>0.558508</td>\n      <td>0.577257</td>\n    </tr>\n  </tbody>\n</table>\n</div>"
     },
     "metadata": {},
     "execution_count": 39
    }
   ]
  },
  {
   "source": [
    "# The outliers"
   ],
   "cell_type": "markdown",
   "metadata": {}
  },
  {
   "cell_type": "code",
   "execution_count": 42,
   "metadata": {},
   "outputs": [],
   "source": [
    "df['LRdelta'] = df.LR - df.fee_cleaned\n",
    "df['BWKNNdelta'] = df.BWKNN - df.fee_cleaned\n",
    "df['RFdelta'] = df.RF - df.fee_cleaned\n",
    "df['GBdelta'] = df.GB - df.fee_cleaned\n",
    "df['NNdelta'] = df.NN - df.fee_cleaned\n",
    "df['NNstackdelta'] = df.NNstack - df.fee_cleaned"
   ]
  },
  {
   "cell_type": "code",
   "execution_count": 43,
   "metadata": {},
   "outputs": [
    {
     "output_type": "execute_result",
     "data": {
      "text/plain": [
       "          player_name   club_involved_name  fee_cleaned  NNstackdelta  \\\n",
       "19             Arthur          Juventus FC        64.80    -19.891302   \n",
       "18      Romelu Lukaku          Inter Milan        66.60    -33.624248   \n",
       "17     Ángel Di María    Manchester United        67.50    -19.655993   \n",
       "16    James Rodríguez          Real Madrid        67.50    -25.565183   \n",
       "15    Kevin De Bruyne         Cardiff City        68.40     -9.325684   \n",
       "13       Nicolas Pépé           Arsenal FC        72.00    -34.502987   \n",
       "14        Kai Havertz           Chelsea FC        72.00    -22.157193   \n",
       "12    Lucas Hernández        Bayern Munich        72.00    -40.924127   \n",
       "11        Luis Suárez         FC Barcelona        73.55     18.300642   \n",
       "10      Romelu Lukaku    Manchester United        76.23    -30.626744   \n",
       "9       Harry Maguire    Manchester United        78.30    -42.722167   \n",
       "8     Gonzalo Higuaín          Juventus FC        81.00    -41.735074   \n",
       "7          Paul Pogba    Manchester United        94.50    -22.323577   \n",
       "6         Eden Hazard          Real Madrid       103.50    -29.457974   \n",
       "5   Cristiano Ronaldo          Juventus FC       105.30      5.074377   \n",
       "4   Antoine Griezmann         FC Barcelona       108.00     13.030181   \n",
       "3          João Félix      Atlético Madrid       113.40    -43.010558   \n",
       "2     Ousmane Dembélé         FC Barcelona       124.20    -72.507719   \n",
       "1       Kylian Mbappé  Paris Saint-Germain       130.50    -37.063390   \n",
       "0              Neymar  Paris Saint-Germain       199.80    -60.377241   \n",
       "\n",
       "      LRdelta  BWKNNdelta     RFdelta     GBdelta    NNdelta  \n",
       "19 -23.358196  -33.732000  -34.260967  -17.542433 -23.697330  \n",
       "18 -22.716533  -38.598000  -30.853833  -26.020976 -48.280316  \n",
       "17 -30.246143  -29.826000  -29.730800  -15.096314 -11.102034  \n",
       "16 -35.375444  -40.076667  -30.261367  -23.329187 -18.637601  \n",
       "15 -25.895121  -24.018000  -27.635767  -15.206705   2.189367  \n",
       "13 -41.674501  -45.900000  -45.643000  -47.310480 -29.044265  \n",
       "14 -34.446958  -43.356000  -24.044933  -26.752086 -11.183836  \n",
       "12 -44.084423  -55.736667  -45.729933  -43.552489 -34.680889  \n",
       "11   4.844606  -20.894000  -20.298600    9.141120  25.556482  \n",
       "10 -43.121844  -41.069333  -44.444867  -38.091502 -21.514677  \n",
       "9  -44.980346  -55.638000  -55.534850  -40.900996 -43.585104  \n",
       "8  -40.208586  -43.040667  -37.226133  -31.348448 -59.455425  \n",
       "7  -45.182160  -45.836667  -40.895200   -1.667207  -3.450838  \n",
       "6  -46.343772  -57.326667  -20.532933  -16.571688 -17.286905  \n",
       "5   14.011156  -36.748667   -6.461217  -24.339403  15.886454  \n",
       "4   49.774607  -45.496667  -19.509733  -20.007872  42.584702  \n",
       "3  -82.452619 -100.711733  -71.561133  -48.326943 -32.002657  \n",
       "2  -86.267096  -90.944667  -95.050100  -78.857623 -63.798046  \n",
       "1  -55.001160  -83.100000  -98.201633  -66.158495 -22.016407  \n",
       "0  -84.780616 -133.906667 -108.894800 -105.723943 -41.588032  "
      ],
      "text/html": "<div>\n<style scoped>\n    .dataframe tbody tr th:only-of-type {\n        vertical-align: middle;\n    }\n\n    .dataframe tbody tr th {\n        vertical-align: top;\n    }\n\n    .dataframe thead th {\n        text-align: right;\n    }\n</style>\n<table border=\"1\" class=\"dataframe\">\n  <thead>\n    <tr style=\"text-align: right;\">\n      <th></th>\n      <th>player_name</th>\n      <th>club_involved_name</th>\n      <th>fee_cleaned</th>\n      <th>NNstackdelta</th>\n      <th>LRdelta</th>\n      <th>BWKNNdelta</th>\n      <th>RFdelta</th>\n      <th>GBdelta</th>\n      <th>NNdelta</th>\n    </tr>\n  </thead>\n  <tbody>\n    <tr>\n      <th>19</th>\n      <td>Arthur</td>\n      <td>Juventus FC</td>\n      <td>64.80</td>\n      <td>-19.891302</td>\n      <td>-23.358196</td>\n      <td>-33.732000</td>\n      <td>-34.260967</td>\n      <td>-17.542433</td>\n      <td>-23.697330</td>\n    </tr>\n    <tr>\n      <th>18</th>\n      <td>Romelu Lukaku</td>\n      <td>Inter Milan</td>\n      <td>66.60</td>\n      <td>-33.624248</td>\n      <td>-22.716533</td>\n      <td>-38.598000</td>\n      <td>-30.853833</td>\n      <td>-26.020976</td>\n      <td>-48.280316</td>\n    </tr>\n    <tr>\n      <th>17</th>\n      <td>Ángel Di María</td>\n      <td>Manchester United</td>\n      <td>67.50</td>\n      <td>-19.655993</td>\n      <td>-30.246143</td>\n      <td>-29.826000</td>\n      <td>-29.730800</td>\n      <td>-15.096314</td>\n      <td>-11.102034</td>\n    </tr>\n    <tr>\n      <th>16</th>\n      <td>James Rodríguez</td>\n      <td>Real Madrid</td>\n      <td>67.50</td>\n      <td>-25.565183</td>\n      <td>-35.375444</td>\n      <td>-40.076667</td>\n      <td>-30.261367</td>\n      <td>-23.329187</td>\n      <td>-18.637601</td>\n    </tr>\n    <tr>\n      <th>15</th>\n      <td>Kevin De Bruyne</td>\n      <td>Cardiff City</td>\n      <td>68.40</td>\n      <td>-9.325684</td>\n      <td>-25.895121</td>\n      <td>-24.018000</td>\n      <td>-27.635767</td>\n      <td>-15.206705</td>\n      <td>2.189367</td>\n    </tr>\n    <tr>\n      <th>13</th>\n      <td>Nicolas Pépé</td>\n      <td>Arsenal FC</td>\n      <td>72.00</td>\n      <td>-34.502987</td>\n      <td>-41.674501</td>\n      <td>-45.900000</td>\n      <td>-45.643000</td>\n      <td>-47.310480</td>\n      <td>-29.044265</td>\n    </tr>\n    <tr>\n      <th>14</th>\n      <td>Kai Havertz</td>\n      <td>Chelsea FC</td>\n      <td>72.00</td>\n      <td>-22.157193</td>\n      <td>-34.446958</td>\n      <td>-43.356000</td>\n      <td>-24.044933</td>\n      <td>-26.752086</td>\n      <td>-11.183836</td>\n    </tr>\n    <tr>\n      <th>12</th>\n      <td>Lucas Hernández</td>\n      <td>Bayern Munich</td>\n      <td>72.00</td>\n      <td>-40.924127</td>\n      <td>-44.084423</td>\n      <td>-55.736667</td>\n      <td>-45.729933</td>\n      <td>-43.552489</td>\n      <td>-34.680889</td>\n    </tr>\n    <tr>\n      <th>11</th>\n      <td>Luis Suárez</td>\n      <td>FC Barcelona</td>\n      <td>73.55</td>\n      <td>18.300642</td>\n      <td>4.844606</td>\n      <td>-20.894000</td>\n      <td>-20.298600</td>\n      <td>9.141120</td>\n      <td>25.556482</td>\n    </tr>\n    <tr>\n      <th>10</th>\n      <td>Romelu Lukaku</td>\n      <td>Manchester United</td>\n      <td>76.23</td>\n      <td>-30.626744</td>\n      <td>-43.121844</td>\n      <td>-41.069333</td>\n      <td>-44.444867</td>\n      <td>-38.091502</td>\n      <td>-21.514677</td>\n    </tr>\n    <tr>\n      <th>9</th>\n      <td>Harry Maguire</td>\n      <td>Manchester United</td>\n      <td>78.30</td>\n      <td>-42.722167</td>\n      <td>-44.980346</td>\n      <td>-55.638000</td>\n      <td>-55.534850</td>\n      <td>-40.900996</td>\n      <td>-43.585104</td>\n    </tr>\n    <tr>\n      <th>8</th>\n      <td>Gonzalo Higuaín</td>\n      <td>Juventus FC</td>\n      <td>81.00</td>\n      <td>-41.735074</td>\n      <td>-40.208586</td>\n      <td>-43.040667</td>\n      <td>-37.226133</td>\n      <td>-31.348448</td>\n      <td>-59.455425</td>\n    </tr>\n    <tr>\n      <th>7</th>\n      <td>Paul Pogba</td>\n      <td>Manchester United</td>\n      <td>94.50</td>\n      <td>-22.323577</td>\n      <td>-45.182160</td>\n      <td>-45.836667</td>\n      <td>-40.895200</td>\n      <td>-1.667207</td>\n      <td>-3.450838</td>\n    </tr>\n    <tr>\n      <th>6</th>\n      <td>Eden Hazard</td>\n      <td>Real Madrid</td>\n      <td>103.50</td>\n      <td>-29.457974</td>\n      <td>-46.343772</td>\n      <td>-57.326667</td>\n      <td>-20.532933</td>\n      <td>-16.571688</td>\n      <td>-17.286905</td>\n    </tr>\n    <tr>\n      <th>5</th>\n      <td>Cristiano Ronaldo</td>\n      <td>Juventus FC</td>\n      <td>105.30</td>\n      <td>5.074377</td>\n      <td>14.011156</td>\n      <td>-36.748667</td>\n      <td>-6.461217</td>\n      <td>-24.339403</td>\n      <td>15.886454</td>\n    </tr>\n    <tr>\n      <th>4</th>\n      <td>Antoine Griezmann</td>\n      <td>FC Barcelona</td>\n      <td>108.00</td>\n      <td>13.030181</td>\n      <td>49.774607</td>\n      <td>-45.496667</td>\n      <td>-19.509733</td>\n      <td>-20.007872</td>\n      <td>42.584702</td>\n    </tr>\n    <tr>\n      <th>3</th>\n      <td>João Félix</td>\n      <td>Atlético Madrid</td>\n      <td>113.40</td>\n      <td>-43.010558</td>\n      <td>-82.452619</td>\n      <td>-100.711733</td>\n      <td>-71.561133</td>\n      <td>-48.326943</td>\n      <td>-32.002657</td>\n    </tr>\n    <tr>\n      <th>2</th>\n      <td>Ousmane Dembélé</td>\n      <td>FC Barcelona</td>\n      <td>124.20</td>\n      <td>-72.507719</td>\n      <td>-86.267096</td>\n      <td>-90.944667</td>\n      <td>-95.050100</td>\n      <td>-78.857623</td>\n      <td>-63.798046</td>\n    </tr>\n    <tr>\n      <th>1</th>\n      <td>Kylian Mbappé</td>\n      <td>Paris Saint-Germain</td>\n      <td>130.50</td>\n      <td>-37.063390</td>\n      <td>-55.001160</td>\n      <td>-83.100000</td>\n      <td>-98.201633</td>\n      <td>-66.158495</td>\n      <td>-22.016407</td>\n    </tr>\n    <tr>\n      <th>0</th>\n      <td>Neymar</td>\n      <td>Paris Saint-Germain</td>\n      <td>199.80</td>\n      <td>-60.377241</td>\n      <td>-84.780616</td>\n      <td>-133.906667</td>\n      <td>-108.894800</td>\n      <td>-105.723943</td>\n      <td>-41.588032</td>\n    </tr>\n  </tbody>\n</table>\n</div>"
     },
     "metadata": {},
     "execution_count": 43
    }
   ],
   "source": [
    "df[['player_name', 'club_involved_name', 'fee_cleaned', 'NNstackdelta', 'LRdelta', 'BWKNNdelta', 'RFdelta', 'GBdelta', 'NNdelta']].sort_values('fee_cleaned').tail(20)"
   ]
  }
 ]
}