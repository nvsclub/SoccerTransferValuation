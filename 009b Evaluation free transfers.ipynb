{
 "metadata": {
  "language_info": {
   "codemirror_mode": {
    "name": "ipython",
    "version": 3
   },
   "file_extension": ".py",
   "mimetype": "text/x-python",
   "name": "python",
   "nbconvert_exporter": "python",
   "pygments_lexer": "ipython3",
   "version": "3.8.6-final"
  },
  "orig_nbformat": 2,
  "kernelspec": {
   "name": "python3",
   "display_name": "Python 3.8.6 64-bit",
   "metadata": {
    "interpreter": {
     "hash": "2b9185f3e54c11b8d53d8a03bd3140084c0e44d2e51331e03f14237367078142"
    }
   }
  }
 },
 "nbformat": 4,
 "nbformat_minor": 2,
 "cells": [
  {
   "cell_type": "code",
   "execution_count": 1,
   "metadata": {},
   "outputs": [],
   "source": [
    "import pandas as pd\n",
    "import numpy as np\n",
    "import matplotlib.pyplot as plt\n",
    "from tqdm import tqdm\n",
    "\n",
    "import optuna\n",
    "optuna.logging.set_verbosity(optuna.logging.ERROR)\n",
    "import pickle\n",
    "\n",
    "from sklearn.metrics import mean_squared_error, r2_score\n",
    "from sklearn.model_selection import cross_val_score, cross_val_predict\n",
    "\n",
    "from sklearn.decomposition import PCA # If algorithms are taking too much time\n",
    "\n",
    "from sklearn.linear_model import LinearRegression\n",
    "from sklearn.neighbors import KNeighborsRegressor\n",
    "from sklearn.ensemble import RandomForestRegressor, GradientBoostingRegressor\n",
    "from sklearn.neural_network import MLPRegressor\n",
    "\n",
    "from sklearn.tree import DecisionTreeRegressor\n",
    "from sklearn.ensemble import AdaBoostRegressor, BaggingRegressor"
   ]
  },
  {
   "source": [
    "# Actually Evaluating"
   ],
   "cell_type": "markdown",
   "metadata": {}
  },
  {
   "cell_type": "code",
   "execution_count": 2,
   "metadata": {},
   "outputs": [],
   "source": [
    "identifiers = ['player_name', 'club_involved_name', 'season']\n",
    "player_var = ['age', 'wage', 'ratingFM', 'potential', 'injprone', 'afterloan', 'contract']\n",
    "team_var = ['reputation', 'balance', 'wagebudget', 'trainingfacilities', 'youthfacilities', 'youthacademy', 'stadiumcap', 'avgattendance']\n",
    "stats_var = ['gamesPlayed', 'subedOn', 'MotM', 'ratingWS']\n",
    "offensive_var = ['goalsScored', 'assists', 'shots', 'passes', 'passesSuccess', 'aerialsWon', 'keyPasses', 'dribbles', 'offsides', 'dispossessed', 'badTouch', 'crosses', 'longBalls', 'throughBalls']\n",
    "defensive_var = ['yellow', 'red', 'tackles', 'interceptions', 'fouls', 'offsidesProvoked', 'clearances', 'blockedPass', 'ownGoal']\n",
    "previous_var = ['ATaction', 'ATgoals', 'ATassists', 'ATshots', 'ATpasses', 'ATpassesSuccess', 'ATtackles', 'ATinterceptions', 'ATMotM', 'ATrating', 'CLaction', 'CLgoals', 'CLassists', 'CLMotM', 'CLrating', 'ELaction', 'ELgoals', 'ELassists', 'ELMotM', 'ELrating']\n",
    "pos_var = ['GK', 'DEF', 'MID', 'STR', 'Wing', 'Central']\n",
    "external_var = ['year', 'GDP', 'CountryPopulation', 'UEFAranking', 'eurgbp']\n",
    "features = player_var + team_var + stats_var + offensive_var + defensive_var + previous_var + pos_var + external_var\n",
    "labels = ['fee_cleaned', 'fee_log']\n",
    "target = 'fee_cleaned'\n",
    "\n",
    "removed_features = []"
   ]
  },
  {
   "cell_type": "code",
   "execution_count": 3,
   "metadata": {},
   "outputs": [],
   "source": [
    "## Bayesian optimization-based feature selection\n",
    "### Objective function\n",
    "def objective_selection(trial):\n",
    "    weighted_df = df[features + [target]]\n",
    "    for i, feature in enumerate(features):\n",
    "        if trial.suggest_int(feature, 0, 1) == 0:\n",
    "            weighted_df = weighted_df.drop(feature, axis = 1)\n",
    "    features_list = list(weighted_df.drop(target, axis = 1))\n",
    "\n",
    "    if len(features_list) == 0:\n",
    "        return 99999999999\n",
    "\n",
    "    train_set = weighted_df.iloc[:int(internal_test_validation_split * len(weighted_df))]\n",
    "    test_set = weighted_df.iloc[int(internal_test_validation_split * len(weighted_df)):]\n",
    "\n",
    "    model.fit(train_set[features_list], train_set[target])\n",
    "    return -r2_score(model.predict(test_set[features_list]), test_set[target])\n",
    "\n",
    "def bayesian_optimization_selection(model, df, features, target, n_trials = 500):\n",
    "    study = optuna.create_study()\n",
    "    study.optimize(objective_selection, n_trials=n_trials)\n",
    "\n",
    "    # need to normalize for feature mean value\n",
    "    selected_features = []\n",
    "    for feature in features:\n",
    "        if study.best_trial.params[feature]:\n",
    "            selected_features.append(feature)\n",
    "\n",
    "    return selected_features, study.best_trial.number"
   ]
  },
  {
   "cell_type": "code",
   "execution_count": 4,
   "metadata": {},
   "outputs": [],
   "source": [
    "## Bayesian optimization-based feature weighting\n",
    "def objective_weighting(trial):\n",
    "    weighted_df = df.copy()\n",
    "    for i, feature in enumerate(features):\n",
    "        weighted_df[feature] *= trial.suggest_uniform(feature, 0, 1)\n",
    "\n",
    "    train_set = weighted_df.iloc[:int(internal_test_validation_split * len(weighted_df))]\n",
    "    test_set = weighted_df.iloc[int(internal_test_validation_split * len(weighted_df)):]\n",
    "\n",
    "    model.fit(train_set[features], train_set['fee_log'])\n",
    "    return -r2_score(model.predict(test_set[features]), test_set['fee_log']) \n",
    "\n",
    "def bayesian_optimization_weighting(model, df, features, target, n_trials = 500):\n",
    "    study = optuna.create_study()\n",
    "    study.optimize(objective_weighting, n_trials=n_trials)\n",
    "\n",
    "    # need to normalize for feature mean value\n",
    "    weighted_df = df.copy()\n",
    "    for feature in features:\n",
    "        weighted_df[feature] *= study.best_trial.params[feature]\n",
    "\n",
    "    return weighted_df, study.best_trial.number"
   ]
  },
  {
   "cell_type": "code",
   "execution_count": 5,
   "metadata": {},
   "outputs": [],
   "source": [
    "external_test_validation_split = 0.8\n",
    "internal_test_validation_split = 0.6"
   ]
  },
  {
   "cell_type": "code",
   "execution_count": 6,
   "metadata": {},
   "outputs": [],
   "source": [
    "df = pd.read_csv('data/data.csv')\n",
    "train_df = df[df.fee_cleaned > 0]\n",
    "test_df = df[df.fee_cleaned == 0]"
   ]
  },
  {
   "cell_type": "code",
   "execution_count": 7,
   "metadata": {},
   "outputs": [
    {
     "output_type": "execute_result",
     "data": {
      "text/plain": [
       "      Unnamed: 0         player_name     club_involved_name     season  \\\n",
       "0              0              Neymar    Paris Saint-Germain  2017/2018   \n",
       "1              1       Kylian Mbappé    Paris Saint-Germain  2018/2019   \n",
       "2              2     Ousmane Dembélé           FC Barcelona  2017/2018   \n",
       "3              3          João Félix        Atlético Madrid  2019/2020   \n",
       "4              4   Antoine Griezmann           FC Barcelona  2019/2020   \n",
       "...          ...                 ...                    ...        ...   \n",
       "2944        3001     Daniele Capelli              AC Cesena  2015/2016   \n",
       "2945        3002  Henrikh Mkhitaryan                AS Roma  2020/2021   \n",
       "2946        3003      Gastón Ramírez       Middlesbrough FC  2016/2017   \n",
       "2947        3004     Antonio Cassano               Parma FC  2014/2015   \n",
       "2948        3005     Jean Beausejour  SC Cambuur-Leeuwarden  2014/2015   \n",
       "\n",
       "           age       wage     value       cost  ratingFM  potential  ...  \\\n",
       "0    -0.585046  12.315201  7.299882  11.404813  3.330984   0.957797  ...   \n",
       "1    -2.049648   7.434713  6.148324   8.490667  1.275699  -3.630068  ...   \n",
       "2    -1.805548   0.701205  2.565702   6.706495  0.680749  -7.472122  ...   \n",
       "3    -2.049648  -0.499342  0.518489   2.602902  1.492045   0.993957  ...   \n",
       "4     0.147256  20.040466  8.835291   6.647023  4.178338   1.147640  ...   \n",
       "...        ...        ...       ...        ...       ...        ...  ...   \n",
       "2944  0.391356  -0.368848 -0.505117  -0.430189 -0.451461   0.014912  ...   \n",
       "2945  0.879557   4.094058  3.205456  -0.073354  2.249255   0.781514  ...   \n",
       "2946 -0.585046   0.440217  0.390539   0.342952  0.356230   0.257187  ...   \n",
       "2947  0.879557   0.205327 -0.249215  -0.073354  0.911517   0.283403  ...   \n",
       "2948  0.635457  -0.212255 -0.249215  -0.430189 -0.595691  -0.063737  ...   \n",
       "\n",
       "           STR      Wing   Central      year       GDP  CountryPopulation  \\\n",
       "0     1.509692  1.526437 -0.974713  0.053782 -1.434860           3.183356   \n",
       "1     1.509692 -0.655120  1.025943  0.565559  0.437768           0.177493   \n",
       "2     1.509692  1.526437 -0.974713  0.053782  0.437768           0.177493   \n",
       "3     1.509692 -0.655120  1.025943  1.077336 -0.675067          -1.008040   \n",
       "4     1.509692 -0.655120  1.025943  1.077336  0.437768           0.177493   \n",
       "...        ...       ...       ...       ...       ...                ...   \n",
       "2944 -0.662387 -0.655120  1.025943 -0.969772 -0.053215           0.036322   \n",
       "2945 -0.662387 -0.655120 -0.974713  1.589113 -1.795314          -1.160675   \n",
       "2946 -0.662387 -0.655120 -0.974713 -0.457995 -1.238797          -1.150154   \n",
       "2947  1.509692 -0.655120  1.025943 -1.481549 -0.053215           0.036322   \n",
       "2948 -0.662387  1.526437 -0.974713 -1.481549  0.402287           0.172786   \n",
       "\n",
       "      UEFAranking    eurgbp  fee_cleaned   fee_log  \n",
       "0       -1.703498  0.565087        199.8  5.302309  \n",
       "1        0.183647  0.668371        130.5  4.879007  \n",
       "2       -0.288139  0.565087        124.2  4.829912  \n",
       "3        0.655433  0.856442        113.4  4.739701  \n",
       "4       -1.703498  0.856442        108.0  4.691348  \n",
       "...           ...       ...          ...       ...  \n",
       "2944    -0.759925 -1.964614          0.0  0.000000  \n",
       "2945    -1.231711  0.939686          0.0  0.000000  \n",
       "2946    -1.231711 -0.020706          0.0  0.000000  \n",
       "2947    -0.759925 -0.751406          0.0  0.000000  \n",
       "2948     0.419540 -0.751406          0.0  0.000000  \n",
       "\n",
       "[2949 rows x 81 columns]"
      ],
      "text/html": "<div>\n<style scoped>\n    .dataframe tbody tr th:only-of-type {\n        vertical-align: middle;\n    }\n\n    .dataframe tbody tr th {\n        vertical-align: top;\n    }\n\n    .dataframe thead th {\n        text-align: right;\n    }\n</style>\n<table border=\"1\" class=\"dataframe\">\n  <thead>\n    <tr style=\"text-align: right;\">\n      <th></th>\n      <th>Unnamed: 0</th>\n      <th>player_name</th>\n      <th>club_involved_name</th>\n      <th>season</th>\n      <th>age</th>\n      <th>wage</th>\n      <th>value</th>\n      <th>cost</th>\n      <th>ratingFM</th>\n      <th>potential</th>\n      <th>...</th>\n      <th>STR</th>\n      <th>Wing</th>\n      <th>Central</th>\n      <th>year</th>\n      <th>GDP</th>\n      <th>CountryPopulation</th>\n      <th>UEFAranking</th>\n      <th>eurgbp</th>\n      <th>fee_cleaned</th>\n      <th>fee_log</th>\n    </tr>\n  </thead>\n  <tbody>\n    <tr>\n      <th>0</th>\n      <td>0</td>\n      <td>Neymar</td>\n      <td>Paris Saint-Germain</td>\n      <td>2017/2018</td>\n      <td>-0.585046</td>\n      <td>12.315201</td>\n      <td>7.299882</td>\n      <td>11.404813</td>\n      <td>3.330984</td>\n      <td>0.957797</td>\n      <td>...</td>\n      <td>1.509692</td>\n      <td>1.526437</td>\n      <td>-0.974713</td>\n      <td>0.053782</td>\n      <td>-1.434860</td>\n      <td>3.183356</td>\n      <td>-1.703498</td>\n      <td>0.565087</td>\n      <td>199.8</td>\n      <td>5.302309</td>\n    </tr>\n    <tr>\n      <th>1</th>\n      <td>1</td>\n      <td>Kylian Mbappé</td>\n      <td>Paris Saint-Germain</td>\n      <td>2018/2019</td>\n      <td>-2.049648</td>\n      <td>7.434713</td>\n      <td>6.148324</td>\n      <td>8.490667</td>\n      <td>1.275699</td>\n      <td>-3.630068</td>\n      <td>...</td>\n      <td>1.509692</td>\n      <td>-0.655120</td>\n      <td>1.025943</td>\n      <td>0.565559</td>\n      <td>0.437768</td>\n      <td>0.177493</td>\n      <td>0.183647</td>\n      <td>0.668371</td>\n      <td>130.5</td>\n      <td>4.879007</td>\n    </tr>\n    <tr>\n      <th>2</th>\n      <td>2</td>\n      <td>Ousmane Dembélé</td>\n      <td>FC Barcelona</td>\n      <td>2017/2018</td>\n      <td>-1.805548</td>\n      <td>0.701205</td>\n      <td>2.565702</td>\n      <td>6.706495</td>\n      <td>0.680749</td>\n      <td>-7.472122</td>\n      <td>...</td>\n      <td>1.509692</td>\n      <td>1.526437</td>\n      <td>-0.974713</td>\n      <td>0.053782</td>\n      <td>0.437768</td>\n      <td>0.177493</td>\n      <td>-0.288139</td>\n      <td>0.565087</td>\n      <td>124.2</td>\n      <td>4.829912</td>\n    </tr>\n    <tr>\n      <th>3</th>\n      <td>3</td>\n      <td>João Félix</td>\n      <td>Atlético Madrid</td>\n      <td>2019/2020</td>\n      <td>-2.049648</td>\n      <td>-0.499342</td>\n      <td>0.518489</td>\n      <td>2.602902</td>\n      <td>1.492045</td>\n      <td>0.993957</td>\n      <td>...</td>\n      <td>1.509692</td>\n      <td>-0.655120</td>\n      <td>1.025943</td>\n      <td>1.077336</td>\n      <td>-0.675067</td>\n      <td>-1.008040</td>\n      <td>0.655433</td>\n      <td>0.856442</td>\n      <td>113.4</td>\n      <td>4.739701</td>\n    </tr>\n    <tr>\n      <th>4</th>\n      <td>4</td>\n      <td>Antoine Griezmann</td>\n      <td>FC Barcelona</td>\n      <td>2019/2020</td>\n      <td>0.147256</td>\n      <td>20.040466</td>\n      <td>8.835291</td>\n      <td>6.647023</td>\n      <td>4.178338</td>\n      <td>1.147640</td>\n      <td>...</td>\n      <td>1.509692</td>\n      <td>-0.655120</td>\n      <td>1.025943</td>\n      <td>1.077336</td>\n      <td>0.437768</td>\n      <td>0.177493</td>\n      <td>-1.703498</td>\n      <td>0.856442</td>\n      <td>108.0</td>\n      <td>4.691348</td>\n    </tr>\n    <tr>\n      <th>...</th>\n      <td>...</td>\n      <td>...</td>\n      <td>...</td>\n      <td>...</td>\n      <td>...</td>\n      <td>...</td>\n      <td>...</td>\n      <td>...</td>\n      <td>...</td>\n      <td>...</td>\n      <td>...</td>\n      <td>...</td>\n      <td>...</td>\n      <td>...</td>\n      <td>...</td>\n      <td>...</td>\n      <td>...</td>\n      <td>...</td>\n      <td>...</td>\n      <td>...</td>\n      <td>...</td>\n    </tr>\n    <tr>\n      <th>2944</th>\n      <td>3001</td>\n      <td>Daniele Capelli</td>\n      <td>AC Cesena</td>\n      <td>2015/2016</td>\n      <td>0.391356</td>\n      <td>-0.368848</td>\n      <td>-0.505117</td>\n      <td>-0.430189</td>\n      <td>-0.451461</td>\n      <td>0.014912</td>\n      <td>...</td>\n      <td>-0.662387</td>\n      <td>-0.655120</td>\n      <td>1.025943</td>\n      <td>-0.969772</td>\n      <td>-0.053215</td>\n      <td>0.036322</td>\n      <td>-0.759925</td>\n      <td>-1.964614</td>\n      <td>0.0</td>\n      <td>0.000000</td>\n    </tr>\n    <tr>\n      <th>2945</th>\n      <td>3002</td>\n      <td>Henrikh Mkhitaryan</td>\n      <td>AS Roma</td>\n      <td>2020/2021</td>\n      <td>0.879557</td>\n      <td>4.094058</td>\n      <td>3.205456</td>\n      <td>-0.073354</td>\n      <td>2.249255</td>\n      <td>0.781514</td>\n      <td>...</td>\n      <td>-0.662387</td>\n      <td>-0.655120</td>\n      <td>-0.974713</td>\n      <td>1.589113</td>\n      <td>-1.795314</td>\n      <td>-1.160675</td>\n      <td>-1.231711</td>\n      <td>0.939686</td>\n      <td>0.0</td>\n      <td>0.000000</td>\n    </tr>\n    <tr>\n      <th>2946</th>\n      <td>3003</td>\n      <td>Gastón Ramírez</td>\n      <td>Middlesbrough FC</td>\n      <td>2016/2017</td>\n      <td>-0.585046</td>\n      <td>0.440217</td>\n      <td>0.390539</td>\n      <td>0.342952</td>\n      <td>0.356230</td>\n      <td>0.257187</td>\n      <td>...</td>\n      <td>-0.662387</td>\n      <td>-0.655120</td>\n      <td>-0.974713</td>\n      <td>-0.457995</td>\n      <td>-1.238797</td>\n      <td>-1.150154</td>\n      <td>-1.231711</td>\n      <td>-0.020706</td>\n      <td>0.0</td>\n      <td>0.000000</td>\n    </tr>\n    <tr>\n      <th>2947</th>\n      <td>3004</td>\n      <td>Antonio Cassano</td>\n      <td>Parma FC</td>\n      <td>2014/2015</td>\n      <td>0.879557</td>\n      <td>0.205327</td>\n      <td>-0.249215</td>\n      <td>-0.073354</td>\n      <td>0.911517</td>\n      <td>0.283403</td>\n      <td>...</td>\n      <td>1.509692</td>\n      <td>-0.655120</td>\n      <td>1.025943</td>\n      <td>-1.481549</td>\n      <td>-0.053215</td>\n      <td>0.036322</td>\n      <td>-0.759925</td>\n      <td>-0.751406</td>\n      <td>0.0</td>\n      <td>0.000000</td>\n    </tr>\n    <tr>\n      <th>2948</th>\n      <td>3005</td>\n      <td>Jean Beausejour</td>\n      <td>SC Cambuur-Leeuwarden</td>\n      <td>2014/2015</td>\n      <td>0.635457</td>\n      <td>-0.212255</td>\n      <td>-0.249215</td>\n      <td>-0.430189</td>\n      <td>-0.595691</td>\n      <td>-0.063737</td>\n      <td>...</td>\n      <td>-0.662387</td>\n      <td>1.526437</td>\n      <td>-0.974713</td>\n      <td>-1.481549</td>\n      <td>0.402287</td>\n      <td>0.172786</td>\n      <td>0.419540</td>\n      <td>-0.751406</td>\n      <td>0.0</td>\n      <td>0.000000</td>\n    </tr>\n  </tbody>\n</table>\n<p>2949 rows × 81 columns</p>\n</div>"
     },
     "metadata": {},
     "execution_count": 7
    }
   ],
   "source": [
    "df"
   ]
  },
  {
   "source": [
    "# Linear Regressor"
   ],
   "cell_type": "markdown",
   "metadata": {}
  },
  {
   "cell_type": "code",
   "execution_count": 8,
   "metadata": {},
   "outputs": [],
   "source": [
    "model = LinearRegression(n_jobs = -1)"
   ]
  },
  {
   "source": [
    "bayesian_selection_LR = ['age', 'wage', 'ratingFM', 'afterloan', 'contract', 'balance', 'wagebudget', 'gamesPlayed', 'subedOn', 'MotM', 'ratingWS', 'assists', 'shots', 'aerialsWon', 'keyPasses', 'dribbles', 'offsides', 'dispossessed', 'throughBalls', 'yellow', 'red', 'tackles', 'interceptions', 'ownGoal', 'ATaction', 'ATpasses', 'ATtackles', 'ATrating', 'CLgoals', 'CLassists', 'ELaction', 'ELassists', 'ELrating', 'Wing', 'Central', 'year', 'GDP', 'CountryPopulation', 'UEFAranking']"
   ],
   "cell_type": "code",
   "metadata": {
    "tags": []
   },
   "execution_count": 9,
   "outputs": []
  },
  {
   "cell_type": "code",
   "execution_count": 10,
   "metadata": {},
   "outputs": [],
   "source": [
    "model.fit(train_df[bayesian_selection_LR], train_df['fee_cleaned'])\n",
    "test_df['LR'] = model.predict(test_df[bayesian_selection_LR])"
   ]
  },
  {
   "source": [
    "# K-Nearest Neighbors"
   ],
   "cell_type": "markdown",
   "metadata": {}
  },
  {
   "cell_type": "code",
   "execution_count": 11,
   "metadata": {},
   "outputs": [],
   "source": [
    "model = KNeighborsRegressor(n_neighbors=7, n_jobs = -1)"
   ]
  },
  {
   "cell_type": "code",
   "execution_count": 12,
   "metadata": {},
   "outputs": [],
   "source": [
    "bayesian_selection_kNN = ['age', 'wage', 'ratingFM', 'contract', 'reputation', 'trainingfacilities', 'youthacademy', 'stadiumcap', 'avgattendance', 'gamesPlayed', 'MotM', 'ratingWS', 'goalsScored', 'shots', 'keyPasses', 'dribbles', 'offsides', 'dispossessed', 'crosses', 'throughBalls', 'tackles', 'offsidesProvoked', 'blockedPass', 'ownGoal', 'ATgoals', 'ATassists', 'ATshots', 'ATpasses', 'ATpassesSuccess', 'ATtackles', 'ATinterceptions', 'ATMotM', 'ATrating', 'ELaction', 'GK', 'DEF', 'year', 'UEFAranking', 'eurgbp']"
   ]
  },
  {
   "cell_type": "code",
   "execution_count": 13,
   "metadata": {},
   "outputs": [
    {
     "output_type": "execute_result",
     "data": {
      "text/plain": [
       "904"
      ]
     },
     "metadata": {},
     "execution_count": 13
    }
   ],
   "source": [
    "BW_df, i = bayesian_optimization_weighting(model, df, bayesian_selection_kNN, 'fee_cleaned', n_trials = 1000)\n",
    "i"
   ]
  },
  {
   "cell_type": "code",
   "execution_count": 14,
   "metadata": {},
   "outputs": [],
   "source": [
    "bw_train_df = BW_df[BW_df.fee_cleaned > 0]\n",
    "bw_test_df = BW_df[BW_df.fee_cleaned == 0]"
   ]
  },
  {
   "cell_type": "code",
   "execution_count": 15,
   "metadata": {},
   "outputs": [],
   "source": [
    "model.fit(bw_train_df[bayesian_selection_kNN], bw_train_df.fee_cleaned)\n",
    "test_df['BWKNN'] = model.predict(bw_test_df[bayesian_selection_kNN])"
   ]
  },
  {
   "source": [
    "# Random Forest"
   ],
   "cell_type": "markdown",
   "metadata": {}
  },
  {
   "cell_type": "code",
   "execution_count": 16,
   "metadata": {},
   "outputs": [],
   "source": [
    "model = RandomForestRegressor(n_estimators=300, n_jobs = -1)"
   ]
  },
  {
   "cell_type": "code",
   "execution_count": 17,
   "metadata": {},
   "outputs": [],
   "source": [
    "model.fit(train_df[features], train_df['fee_cleaned'])\n",
    "test_df['RF'] = model.predict(test_df[features])"
   ]
  },
  {
   "source": [
    "# Gradient Boosting"
   ],
   "cell_type": "markdown",
   "metadata": {}
  },
  {
   "cell_type": "code",
   "execution_count": 18,
   "metadata": {},
   "outputs": [],
   "source": [
    "model = GradientBoostingRegressor(n_estimators=1000)"
   ]
  },
  {
   "cell_type": "code",
   "execution_count": 19,
   "metadata": {},
   "outputs": [],
   "source": [
    "model.fit(train_df[features], train_df['fee_cleaned'])\n",
    "test_df['GB'] = model.predict(test_df[features])"
   ]
  },
  {
   "source": [
    "# Deep Learning"
   ],
   "cell_type": "markdown",
   "metadata": {}
  },
  {
   "cell_type": "code",
   "execution_count": 20,
   "metadata": {},
   "outputs": [],
   "source": [
    "model = MLPRegressor(hidden_layer_sizes=(200, 200, 200), activation='relu', learning_rate_init=0.001, max_iter=600)"
   ]
  },
  {
   "cell_type": "code",
   "execution_count": 21,
   "metadata": {},
   "outputs": [],
   "source": [
    "bayesian_selection_NN = ['age', 'wage', 'ratingFM', 'injprone', 'afterloan', 'contract', 'reputation', 'balance', 'wagebudget', 'youthacademy', 'stadiumcap', 'gamesPlayed', 'ratingWS', 'assists', 'shots', 'passesSuccess', 'aerialsWon', 'keyPasses', 'dispossessed', 'badTouch', 'tackles', 'interceptions', 'fouls', 'blockedPass', 'ownGoal', 'ATassists', 'ATshots', 'ATpasses', 'CLaction', 'CLMotM', 'ELassists', 'ELMotM', 'DEF', 'CountryPopulation', 'UEFAranking', 'eurgbp']"
   ]
  },
  {
   "cell_type": "code",
   "execution_count": 22,
   "metadata": {},
   "outputs": [],
   "source": [
    "model.fit(train_df[bayesian_selection_NN], train_df['fee_cleaned'])\n",
    "test_df['NN'] = model.predict(test_df[bayesian_selection_NN])"
   ]
  },
  {
   "source": [
    "# Ensembling"
   ],
   "cell_type": "markdown",
   "metadata": {}
  },
  {
   "cell_type": "code",
   "execution_count": 23,
   "metadata": {},
   "outputs": [],
   "source": [
    "LRstacking = pickle.load(open('misc/lrstacking.sav', 'rb'))\n",
    "NNstacking = pickle.load(open('misc/nnstacking.sav', 'rb'))"
   ]
  },
  {
   "cell_type": "code",
   "execution_count": 24,
   "metadata": {},
   "outputs": [],
   "source": [
    "test_df['LRstack'] = LRstacking.predict(test_df[['LR', 'BWKNN', 'RF', 'GB', 'NN']])\n",
    "test_df['NNstack'] = NNstacking.predict(test_df[['LR', 'BWKNN', 'RF', 'GB', 'NN']])\n",
    "test_df['SimpleAvg'] = (test_df.LR + test_df.BWKNN + test_df.RF + test_df.GB + test_df.NN) / 5"
   ]
  },
  {
   "cell_type": "code",
   "execution_count": 25,
   "metadata": {},
   "outputs": [
    {
     "output_type": "execute_result",
     "data": {
      "text/plain": [
       "(0.0, 0.0, 0.0)"
      ]
     },
     "metadata": {},
     "execution_count": 25
    }
   ],
   "source": [
    "r2_score(test_df.fee_cleaned, test_df.SimpleAvg), r2_score(test_df.fee_cleaned, test_df.LRstack), r2_score(test_df.fee_cleaned, test_df.NNstack)"
   ]
  },
  {
   "cell_type": "code",
   "execution_count": 26,
   "metadata": {},
   "outputs": [
    {
     "output_type": "execute_result",
     "data": {
      "text/plain": [
       "            player_name        club_involved_name  fee_cleaned         LR  \\\n",
       "1545   Mustapha Carayol            Ajax Amsterdam          0.0  -6.440048   \n",
       "2478    Stefan Reinartz       Eintracht Frankfurt          0.0  -0.365743   \n",
       "2486     Carlos Eduardo            Ajax Amsterdam          0.0   1.167366   \n",
       "2485    Vladimir Granat            Spartak Moscow          0.0  -9.194761   \n",
       "2484       Fábio Santos  De Graafschap Doetinchem          0.0  -1.991573   \n",
       "2483       Anton Sosnin             Dynamo Moscow          0.0  -3.700289   \n",
       "2482             Aílton             SC Heerenveen          0.0   0.554641   \n",
       "2481        César Navas                 FK Rostov          0.0  -8.377565   \n",
       "2480     Peter Niemeyer           SV Darmstadt 98          0.0 -10.242729   \n",
       "2479       Oliver Kirch           SC Paderborn 07          0.0  -4.774990   \n",
       "2477     Sylvain Distin           AFC Bournemouth          0.0 -10.102213   \n",
       "2488       Hugo Almeida         Anzhi Makhachkala          0.0  -5.617508   \n",
       "2476    Claudio Pizarro     SC Cambuur-Leeuwarden          0.0  -2.189026   \n",
       "2475    Mitchell Weiser                Hertha BSC          0.0   9.894050   \n",
       "2474    Antolín Alcaraz             UD Las Palmas          0.0  -4.371032   \n",
       "2473  Mathieu Coutadeur            Ajax Amsterdam          0.0  -9.660150   \n",
       "2472  Ladislas Douniama     SC Cambuur-Leeuwarden          0.0 -14.553839   \n",
       "2471     John Lundstram              Leeds United          0.0   0.481056   \n",
       "2470      Salva Sevilla              RCD Mallorca          0.0 -11.718139   \n",
       "2469      Dries Wuytens           Heracles Almelo          0.0 -10.027802   \n",
       "\n",
       "         BWKNN        RF        GB        NN   LRstack   NNstack  \n",
       "1545  1.659286  1.871997  1.343791  1.311756 -0.577101  0.939864  \n",
       "2478  2.841429  4.401177  4.620612  2.152995  1.533724  1.380247  \n",
       "2486  2.931429  3.444180  2.549051  3.025505  2.164123  1.980953  \n",
       "2485  1.023429  2.368557  0.409032 -0.658815 -2.265512  0.449783  \n",
       "2484  2.282143  3.422077  4.299010  0.535559  0.108992  1.152870  \n",
       "2483  2.058429  1.995663  0.621963 -1.804053 -1.668028  0.789097  \n",
       "2482  2.661429  3.977777  2.408555  1.879789  1.401156  1.567022  \n",
       "2481  0.867857  3.385443  2.961919 -1.545384 -2.550024  1.138358  \n",
       "2480  1.883571  1.528830 -3.585183  1.894001 -0.859153  0.412400  \n",
       "2479  3.018571  2.893607 -0.689050  2.102624  0.687648  1.238600  \n",
       "2477  0.564429  2.987350  3.499068  0.364574 -1.939228  1.373001  \n",
       "2488  5.638571  4.261270  5.286595  4.646132  3.087550  1.945679  \n",
       "2476  8.467143  8.099637 -0.120504  5.199358  5.274345  2.665999  \n",
       "2475  6.570000  6.347837  8.104412  4.724443  6.124146  6.908888  \n",
       "2474  0.742143  2.208320  3.097338  0.662884 -0.894101  0.864682  \n",
       "2473  0.909714  1.051273 -0.694527 -1.539175 -2.987051  0.805087  \n",
       "2472  1.393143  1.604760  0.150512  0.271203 -2.539788  0.332023  \n",
       "2471  2.275714  2.595347  7.353068  6.255097  3.516937  3.309096  \n",
       "2470  4.575857  1.416323 -0.927358  0.134533 -1.012419  1.408162  \n",
       "2469  1.290286  0.877407  1.458095 -0.491165 -2.333800  0.850496  "
      ],
      "text/html": "<div>\n<style scoped>\n    .dataframe tbody tr th:only-of-type {\n        vertical-align: middle;\n    }\n\n    .dataframe tbody tr th {\n        vertical-align: top;\n    }\n\n    .dataframe thead th {\n        text-align: right;\n    }\n</style>\n<table border=\"1\" class=\"dataframe\">\n  <thead>\n    <tr style=\"text-align: right;\">\n      <th></th>\n      <th>player_name</th>\n      <th>club_involved_name</th>\n      <th>fee_cleaned</th>\n      <th>LR</th>\n      <th>BWKNN</th>\n      <th>RF</th>\n      <th>GB</th>\n      <th>NN</th>\n      <th>LRstack</th>\n      <th>NNstack</th>\n    </tr>\n  </thead>\n  <tbody>\n    <tr>\n      <th>1545</th>\n      <td>Mustapha Carayol</td>\n      <td>Ajax Amsterdam</td>\n      <td>0.0</td>\n      <td>-6.440048</td>\n      <td>1.659286</td>\n      <td>1.871997</td>\n      <td>1.343791</td>\n      <td>1.311756</td>\n      <td>-0.577101</td>\n      <td>0.939864</td>\n    </tr>\n    <tr>\n      <th>2478</th>\n      <td>Stefan Reinartz</td>\n      <td>Eintracht Frankfurt</td>\n      <td>0.0</td>\n      <td>-0.365743</td>\n      <td>2.841429</td>\n      <td>4.401177</td>\n      <td>4.620612</td>\n      <td>2.152995</td>\n      <td>1.533724</td>\n      <td>1.380247</td>\n    </tr>\n    <tr>\n      <th>2486</th>\n      <td>Carlos Eduardo</td>\n      <td>Ajax Amsterdam</td>\n      <td>0.0</td>\n      <td>1.167366</td>\n      <td>2.931429</td>\n      <td>3.444180</td>\n      <td>2.549051</td>\n      <td>3.025505</td>\n      <td>2.164123</td>\n      <td>1.980953</td>\n    </tr>\n    <tr>\n      <th>2485</th>\n      <td>Vladimir Granat</td>\n      <td>Spartak Moscow</td>\n      <td>0.0</td>\n      <td>-9.194761</td>\n      <td>1.023429</td>\n      <td>2.368557</td>\n      <td>0.409032</td>\n      <td>-0.658815</td>\n      <td>-2.265512</td>\n      <td>0.449783</td>\n    </tr>\n    <tr>\n      <th>2484</th>\n      <td>Fábio Santos</td>\n      <td>De Graafschap Doetinchem</td>\n      <td>0.0</td>\n      <td>-1.991573</td>\n      <td>2.282143</td>\n      <td>3.422077</td>\n      <td>4.299010</td>\n      <td>0.535559</td>\n      <td>0.108992</td>\n      <td>1.152870</td>\n    </tr>\n    <tr>\n      <th>2483</th>\n      <td>Anton Sosnin</td>\n      <td>Dynamo Moscow</td>\n      <td>0.0</td>\n      <td>-3.700289</td>\n      <td>2.058429</td>\n      <td>1.995663</td>\n      <td>0.621963</td>\n      <td>-1.804053</td>\n      <td>-1.668028</td>\n      <td>0.789097</td>\n    </tr>\n    <tr>\n      <th>2482</th>\n      <td>Aílton</td>\n      <td>SC Heerenveen</td>\n      <td>0.0</td>\n      <td>0.554641</td>\n      <td>2.661429</td>\n      <td>3.977777</td>\n      <td>2.408555</td>\n      <td>1.879789</td>\n      <td>1.401156</td>\n      <td>1.567022</td>\n    </tr>\n    <tr>\n      <th>2481</th>\n      <td>César Navas</td>\n      <td>FK Rostov</td>\n      <td>0.0</td>\n      <td>-8.377565</td>\n      <td>0.867857</td>\n      <td>3.385443</td>\n      <td>2.961919</td>\n      <td>-1.545384</td>\n      <td>-2.550024</td>\n      <td>1.138358</td>\n    </tr>\n    <tr>\n      <th>2480</th>\n      <td>Peter Niemeyer</td>\n      <td>SV Darmstadt 98</td>\n      <td>0.0</td>\n      <td>-10.242729</td>\n      <td>1.883571</td>\n      <td>1.528830</td>\n      <td>-3.585183</td>\n      <td>1.894001</td>\n      <td>-0.859153</td>\n      <td>0.412400</td>\n    </tr>\n    <tr>\n      <th>2479</th>\n      <td>Oliver Kirch</td>\n      <td>SC Paderborn 07</td>\n      <td>0.0</td>\n      <td>-4.774990</td>\n      <td>3.018571</td>\n      <td>2.893607</td>\n      <td>-0.689050</td>\n      <td>2.102624</td>\n      <td>0.687648</td>\n      <td>1.238600</td>\n    </tr>\n    <tr>\n      <th>2477</th>\n      <td>Sylvain Distin</td>\n      <td>AFC Bournemouth</td>\n      <td>0.0</td>\n      <td>-10.102213</td>\n      <td>0.564429</td>\n      <td>2.987350</td>\n      <td>3.499068</td>\n      <td>0.364574</td>\n      <td>-1.939228</td>\n      <td>1.373001</td>\n    </tr>\n    <tr>\n      <th>2488</th>\n      <td>Hugo Almeida</td>\n      <td>Anzhi Makhachkala</td>\n      <td>0.0</td>\n      <td>-5.617508</td>\n      <td>5.638571</td>\n      <td>4.261270</td>\n      <td>5.286595</td>\n      <td>4.646132</td>\n      <td>3.087550</td>\n      <td>1.945679</td>\n    </tr>\n    <tr>\n      <th>2476</th>\n      <td>Claudio Pizarro</td>\n      <td>SC Cambuur-Leeuwarden</td>\n      <td>0.0</td>\n      <td>-2.189026</td>\n      <td>8.467143</td>\n      <td>8.099637</td>\n      <td>-0.120504</td>\n      <td>5.199358</td>\n      <td>5.274345</td>\n      <td>2.665999</td>\n    </tr>\n    <tr>\n      <th>2475</th>\n      <td>Mitchell Weiser</td>\n      <td>Hertha BSC</td>\n      <td>0.0</td>\n      <td>9.894050</td>\n      <td>6.570000</td>\n      <td>6.347837</td>\n      <td>8.104412</td>\n      <td>4.724443</td>\n      <td>6.124146</td>\n      <td>6.908888</td>\n    </tr>\n    <tr>\n      <th>2474</th>\n      <td>Antolín Alcaraz</td>\n      <td>UD Las Palmas</td>\n      <td>0.0</td>\n      <td>-4.371032</td>\n      <td>0.742143</td>\n      <td>2.208320</td>\n      <td>3.097338</td>\n      <td>0.662884</td>\n      <td>-0.894101</td>\n      <td>0.864682</td>\n    </tr>\n    <tr>\n      <th>2473</th>\n      <td>Mathieu Coutadeur</td>\n      <td>Ajax Amsterdam</td>\n      <td>0.0</td>\n      <td>-9.660150</td>\n      <td>0.909714</td>\n      <td>1.051273</td>\n      <td>-0.694527</td>\n      <td>-1.539175</td>\n      <td>-2.987051</td>\n      <td>0.805087</td>\n    </tr>\n    <tr>\n      <th>2472</th>\n      <td>Ladislas Douniama</td>\n      <td>SC Cambuur-Leeuwarden</td>\n      <td>0.0</td>\n      <td>-14.553839</td>\n      <td>1.393143</td>\n      <td>1.604760</td>\n      <td>0.150512</td>\n      <td>0.271203</td>\n      <td>-2.539788</td>\n      <td>0.332023</td>\n    </tr>\n    <tr>\n      <th>2471</th>\n      <td>John Lundstram</td>\n      <td>Leeds United</td>\n      <td>0.0</td>\n      <td>0.481056</td>\n      <td>2.275714</td>\n      <td>2.595347</td>\n      <td>7.353068</td>\n      <td>6.255097</td>\n      <td>3.516937</td>\n      <td>3.309096</td>\n    </tr>\n    <tr>\n      <th>2470</th>\n      <td>Salva Sevilla</td>\n      <td>RCD Mallorca</td>\n      <td>0.0</td>\n      <td>-11.718139</td>\n      <td>4.575857</td>\n      <td>1.416323</td>\n      <td>-0.927358</td>\n      <td>0.134533</td>\n      <td>-1.012419</td>\n      <td>1.408162</td>\n    </tr>\n    <tr>\n      <th>2469</th>\n      <td>Dries Wuytens</td>\n      <td>Heracles Almelo</td>\n      <td>0.0</td>\n      <td>-10.027802</td>\n      <td>1.290286</td>\n      <td>0.877407</td>\n      <td>1.458095</td>\n      <td>-0.491165</td>\n      <td>-2.333800</td>\n      <td>0.850496</td>\n    </tr>\n  </tbody>\n</table>\n</div>"
     },
     "metadata": {},
     "execution_count": 26
    }
   ],
   "source": [
    "test_df[['player_name','club_involved_name','fee_cleaned','LR', 'BWKNN', 'RF', 'GB', 'NN', 'LRstack', 'NNstack']].sort_values('fee_cleaned', ascending = False).head(20)"
   ]
  },
  {
   "cell_type": "code",
   "execution_count": 27,
   "metadata": {},
   "outputs": [],
   "source": [
    "test_df.to_csv('misc/free_transfers.csv')"
   ]
  }
 ]
}